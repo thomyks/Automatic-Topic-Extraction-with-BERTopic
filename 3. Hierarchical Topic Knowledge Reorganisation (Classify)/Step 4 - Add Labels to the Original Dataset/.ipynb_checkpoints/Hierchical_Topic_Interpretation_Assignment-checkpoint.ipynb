{
 "cells": [
  {
   "cell_type": "markdown",
   "id": "4d2f102f-0797-4a65-805f-dc0f5abdb389",
   "metadata": {},
   "source": [
    "FirstStep Label Assignment"
   ]
  },
  {
   "cell_type": "code",
   "execution_count": 1,
   "id": "1228b7c0-1113-40dd-b1cb-b232b5a4c56f",
   "metadata": {},
   "outputs": [
    {
     "name": "stdout",
     "output_type": "stream",
     "text": [
      "Merging completed and the result is saved as 'First_Step_BERTopic_topic_info_labelled_with_Higher_Topic_Label_cleaned.csv'\n"
     ]
    }
   ],
   "source": [
    "import pandas as pd\n",
    "\n",
    "# Load the two datasets\n",
    "first_step_df = pd.read_csv('First_Step_BERTopic_topic_info_labelled.csv')\n",
    "higher_level_topics_df = pd.read_csv('higherr_level_topic_labels_with_representatives.csv')\n",
    "\n",
    "# Function to clean and split the topics\n",
    "def clean_and_split_topics(topic_str):\n",
    "    # Remove quotes and split by commas, then strip any extra spaces\n",
    "    topics = [topic.strip().replace('\"', '') for topic in topic_str.split(',')]\n",
    "    return topics\n",
    "\n",
    "# Apply the cleaning function to the 'Human_Readable_Topic' column\n",
    "first_step_df['Human_Readable_Topic'] = first_step_df['Human_Readable_Topic'].str.replace('\"', '', regex=False)\n",
    "higher_level_topics_df['Human_Readable_Topic'] = higher_level_topics_df['Human_Readable_Topic'].apply(clean_and_split_topics)\n",
    "\n",
    "# Explode the 'Human_Readable_Topic' to create a row for each topic\n",
    "higher_level_topics_df = higher_level_topics_df.explode('Human_Readable_Topic')\n",
    "\n",
    "# Merge the two datasets on the cleaned 'Human_Readable_Topic' column\n",
    "merged_df = pd.merge(first_step_df, higher_level_topics_df[['Human_Readable_Topic', 'Higher_Topic_Label']], \n",
    "                     on='Human_Readable_Topic', how='left')\n",
    "\n",
    "# Save the merged dataframe to a new CSV file\n",
    "merged_df.to_csv('First_Step_BERTopic_topic_info_labelled_with_Higher_Topic_Label_cleaned.csv', index=False)\n",
    "\n",
    "print(\"Merging completed and the result is saved as 'First_Step_BERTopic_topic_info_labelled_with_Higher_Topic_Label_cleaned.csv'\")\n"
   ]
  },
  {
   "cell_type": "markdown",
   "id": "f032a6b1-8796-4363-8527-5d703c169dc5",
   "metadata": {},
   "source": [
    "Second Step Label Assignment"
   ]
  },
  {
   "cell_type": "code",
   "execution_count": 2,
   "id": "fe61ca59-d49e-416b-b129-d4ac719d4056",
   "metadata": {},
   "outputs": [
    {
     "name": "stdout",
     "output_type": "stream",
     "text": [
      "Merging completed and the result is saved as 'Second_Step_BERTopic_topic_info_labelled_with_Higher_Topic_Label_cleaned.csv'\n"
     ]
    }
   ],
   "source": [
    "import pandas as pd\n",
    "\n",
    "# Load the two datasets\n",
    "first_step_df = pd.read_csv('Second_step_clustering_results_labelled.csv')\n",
    "higher_level_topics_df = pd.read_csv('higherr_level_topic_labels_with_representatives.csv')\n",
    "\n",
    "# Function to clean and split the topics\n",
    "def clean_and_split_topics(topic_str):\n",
    "    # Remove quotes and split by commas, then strip any extra spaces\n",
    "    topics = [topic.strip().replace('\"', '') for topic in topic_str.split(',')]\n",
    "    return topics\n",
    "\n",
    "# Apply the cleaning function to the 'Human_Readable_Topic' column\n",
    "first_step_df['Human_Readable_Topic'] = first_step_df['Human_Readable_Topic'].str.replace('\"', '', regex=False)\n",
    "higher_level_topics_df['Human_Readable_Topic'] = higher_level_topics_df['Human_Readable_Topic'].apply(clean_and_split_topics)\n",
    "\n",
    "# Explode the 'Human_Readable_Topic' to create a row for each topic\n",
    "higher_level_topics_df = higher_level_topics_df.explode('Human_Readable_Topic')\n",
    "\n",
    "# Merge the two datasets on the cleaned 'Human_Readable_Topic' column\n",
    "merged_df = pd.merge(first_step_df, higher_level_topics_df[['Human_Readable_Topic', 'Higher_Topic_Label']], \n",
    "                     on='Human_Readable_Topic', how='left')\n",
    "\n",
    "# Save the merged dataframe to a new CSV file\n",
    "merged_df.to_csv('Second_Step_BERTopic_topic_info_labelled_with_Higher_Topic_Label_cleaned.csv', index=False)\n",
    "\n",
    "print(\"Merging completed and the result is saved as 'Second_Step_BERTopic_topic_info_labelled_with_Higher_Topic_Label_cleaned.csv'\")\n"
   ]
  },
  {
   "cell_type": "code",
   "execution_count": null,
   "id": "fd0bb5d4-977c-4096-92e5-5d389a3dd63f",
   "metadata": {},
   "outputs": [],
   "source": []
  },
  {
   "cell_type": "code",
   "execution_count": null,
   "id": "7a42b90f-e8ff-4954-9f1d-af466bc5e492",
   "metadata": {},
   "outputs": [],
   "source": [
    "Assign the Highest Topic Knowledge"
   ]
  },
  {
   "cell_type": "code",
   "execution_count": 3,
   "id": "fd779972-dc07-4ba2-ac9c-d1cf72bb5b3d",
   "metadata": {},
   "outputs": [
    {
     "name": "stdout",
     "output_type": "stream",
     "text": [
      "Merging completed and the result is saved as 'First_Step_BERTopic_topic_info_labelled_with_Highest_Topic_Label_final.csv'\n"
     ]
    }
   ],
   "source": [
    "import pandas as pd\n",
    "\n",
    "# Load the datasets\n",
    "first_step_df = pd.read_csv('First_Step_BERTopic_topic_info_labelled_with_Higher_Topic_Label_cleaned.csv')\n",
    "highest_level_topics_df = pd.read_csv('highest_level_topic_labels_with_representatives.csv')\n",
    "\n",
    "# Function to clean and split the 'Higher_Topic_Label' column\n",
    "def clean_and_split_labels(label_str):\n",
    "    # Split by commas and strip any extra spaces\n",
    "    labels = [label.strip() for label in label_str.split(';')]\n",
    "    return labels\n",
    "\n",
    "# Apply the cleaning and splitting function to the 'Higher_Topic_Label' column\n",
    "highest_level_topics_df['Higher_Topic_Label'] = highest_level_topics_df['Higher_Topic_Label'].apply(clean_and_split_labels)\n",
    "\n",
    "# Explode the 'Higher_Topic_Label' to create a row for each label\n",
    "highest_level_topics_df = highest_level_topics_df.explode('Higher_Topic_Label')\n",
    "\n",
    "# Merge the first step dataset with the highest level topics based on 'Higher_Topic_Label'\n",
    "final_merged_df = pd.merge(first_step_df, highest_level_topics_df[['Higher_Topic_Label', 'Highest_Topic_Label']], \n",
    "                           on='Higher_Topic_Label', how='left')\n",
    "\n",
    "# Save the final merged dataframe to a new CSV file\n",
    "final_merged_df.to_csv('First_Step_BERTopic_topic_info_labelled_with_Highest_Topic_Label_final.csv', index=False)\n",
    "\n",
    "print(\"Merging completed and the result is saved as 'First_Step_BERTopic_topic_info_labelled_with_Highest_Topic_Label_final.csv'\")\n"
   ]
  },
  {
   "cell_type": "code",
   "execution_count": 4,
   "id": "c94af861-cb97-4bec-876e-0d8853d44eb1",
   "metadata": {},
   "outputs": [
    {
     "name": "stdout",
     "output_type": "stream",
     "text": [
      "Merging completed and the result is saved as 'Second_Step_BERTopic_topic_info_labelled_with_Highest_Topic_Label_final.csv'\n"
     ]
    }
   ],
   "source": [
    "import pandas as pd\n",
    "\n",
    "# Load the datasets\n",
    "first_step_df = pd.read_csv('Second_Step_BERTopic_topic_info_labelled_with_Higher_Topic_Label_cleaned.csv')\n",
    "highest_level_topics_df = pd.read_csv('highest_level_topic_labels_with_representatives.csv')\n",
    "\n",
    "# Function to clean and split the 'Higher_Topic_Label' column\n",
    "def clean_and_split_labels(label_str):\n",
    "    # Split by commas and strip any extra spaces\n",
    "    labels = [label.strip() for label in label_str.split(';')]\n",
    "    return labels\n",
    "\n",
    "# Apply the cleaning and splitting function to the 'Higher_Topic_Label' column\n",
    "highest_level_topics_df['Higher_Topic_Label'] = highest_level_topics_df['Higher_Topic_Label'].apply(clean_and_split_labels)\n",
    "\n",
    "# Explode the 'Higher_Topic_Label' to create a row for each label\n",
    "highest_level_topics_df = highest_level_topics_df.explode('Higher_Topic_Label')\n",
    "\n",
    "# Merge the first step dataset with the highest level topics based on 'Higher_Topic_Label'\n",
    "final_merged_df = pd.merge(first_step_df, highest_level_topics_df[['Higher_Topic_Label', 'Highest_Topic_Label']], \n",
    "                           on='Higher_Topic_Label', how='left')\n",
    "\n",
    "# Save the final merged dataframe to a new CSV file\n",
    "final_merged_df.to_csv('Second_Step_BERTopic_topic_info_labelled_with_Highest_Topic_Label_final.csv', index=False)\n",
    "\n",
    "print(\"Merging completed and the result is saved as 'Second_Step_BERTopic_topic_info_labelled_with_Highest_Topic_Label_final.csv'\")\n"
   ]
  },
  {
   "cell_type": "code",
   "execution_count": null,
   "id": "31dc1f38-861e-483b-b879-655dc6761ff8",
   "metadata": {},
   "outputs": [],
   "source": []
  },
  {
   "cell_type": "code",
   "execution_count": null,
   "id": "a934fabc-676f-4a2a-be1c-ecaa009131c6",
   "metadata": {},
   "outputs": [],
   "source": []
  },
  {
   "cell_type": "code",
   "execution_count": null,
   "id": "398c53e6-33c0-48ad-8762-a394e619a653",
   "metadata": {},
   "outputs": [],
   "source": []
  },
  {
   "cell_type": "code",
   "execution_count": 16,
   "id": "a39cf043-0f99-4db3-991d-e278e07e3a09",
   "metadata": {},
   "outputs": [
    {
     "ename": "FileNotFoundError",
     "evalue": "[Errno 2] No such file or directory: 'Second_Step_BERTopic_topic_info_labelled.csv'",
     "output_type": "error",
     "traceback": [
      "\u001b[0;31m---------------------------------------------------------------------------\u001b[0m",
      "\u001b[0;31mFileNotFoundError\u001b[0m                         Traceback (most recent call last)",
      "Cell \u001b[0;32mIn [16], line 5\u001b[0m\n\u001b[1;32m      3\u001b[0m \u001b[38;5;66;03m# Load the datasets\u001b[39;00m\n\u001b[1;32m      4\u001b[0m first_step_df \u001b[38;5;241m=\u001b[39m pd\u001b[38;5;241m.\u001b[39mread_csv(\u001b[38;5;124m'\u001b[39m\u001b[38;5;124mFirst_Step_BERTopic_topic_info_labelled_with_Higher_Topic_Label_cleaned.csv\u001b[39m\u001b[38;5;124m'\u001b[39m)\n\u001b[0;32m----> 5\u001b[0m second_step_df \u001b[38;5;241m=\u001b[39m \u001b[43mpd\u001b[49m\u001b[38;5;241;43m.\u001b[39;49m\u001b[43mread_csv\u001b[49m\u001b[43m(\u001b[49m\u001b[38;5;124;43m'\u001b[39;49m\u001b[38;5;124;43mSecond_Step_BERTopic_topic_info_labelled.csv\u001b[39;49m\u001b[38;5;124;43m'\u001b[39;49m\u001b[43m)\u001b[49m\n\u001b[1;32m      6\u001b[0m highest_level_topics_df \u001b[38;5;241m=\u001b[39m pd\u001b[38;5;241m.\u001b[39mread_csv(\u001b[38;5;124m'\u001b[39m\u001b[38;5;124mhighest_level_topic_labels_with_representatives.csv\u001b[39m\u001b[38;5;124m'\u001b[39m)\n\u001b[1;32m      8\u001b[0m \u001b[38;5;66;03m# Function to clean and split the 'Higher_Topic_Label' column based on semicolons\u001b[39;00m\n",
      "File \u001b[0;32m/cvmfs/sys.hpc.itc.rwth-aachen.de/jupyter/clients/pytorch-gpu/lib/python3.9/site-packages/pandas/util/_decorators.py:211\u001b[0m, in \u001b[0;36mdeprecate_kwarg.<locals>._deprecate_kwarg.<locals>.wrapper\u001b[0;34m(*args, **kwargs)\u001b[0m\n\u001b[1;32m    209\u001b[0m     \u001b[38;5;28;01melse\u001b[39;00m:\n\u001b[1;32m    210\u001b[0m         kwargs[new_arg_name] \u001b[38;5;241m=\u001b[39m new_arg_value\n\u001b[0;32m--> 211\u001b[0m \u001b[38;5;28;01mreturn\u001b[39;00m \u001b[43mfunc\u001b[49m\u001b[43m(\u001b[49m\u001b[38;5;241;43m*\u001b[39;49m\u001b[43margs\u001b[49m\u001b[43m,\u001b[49m\u001b[43m \u001b[49m\u001b[38;5;241;43m*\u001b[39;49m\u001b[38;5;241;43m*\u001b[39;49m\u001b[43mkwargs\u001b[49m\u001b[43m)\u001b[49m\n",
      "File \u001b[0;32m/cvmfs/sys.hpc.itc.rwth-aachen.de/jupyter/clients/pytorch-gpu/lib/python3.9/site-packages/pandas/util/_decorators.py:331\u001b[0m, in \u001b[0;36mdeprecate_nonkeyword_arguments.<locals>.decorate.<locals>.wrapper\u001b[0;34m(*args, **kwargs)\u001b[0m\n\u001b[1;32m    325\u001b[0m \u001b[38;5;28;01mif\u001b[39;00m \u001b[38;5;28mlen\u001b[39m(args) \u001b[38;5;241m>\u001b[39m num_allow_args:\n\u001b[1;32m    326\u001b[0m     warnings\u001b[38;5;241m.\u001b[39mwarn(\n\u001b[1;32m    327\u001b[0m         msg\u001b[38;5;241m.\u001b[39mformat(arguments\u001b[38;5;241m=\u001b[39m_format_argument_list(allow_args)),\n\u001b[1;32m    328\u001b[0m         \u001b[38;5;167;01mFutureWarning\u001b[39;00m,\n\u001b[1;32m    329\u001b[0m         stacklevel\u001b[38;5;241m=\u001b[39mfind_stack_level(),\n\u001b[1;32m    330\u001b[0m     )\n\u001b[0;32m--> 331\u001b[0m \u001b[38;5;28;01mreturn\u001b[39;00m \u001b[43mfunc\u001b[49m\u001b[43m(\u001b[49m\u001b[38;5;241;43m*\u001b[39;49m\u001b[43margs\u001b[49m\u001b[43m,\u001b[49m\u001b[43m \u001b[49m\u001b[38;5;241;43m*\u001b[39;49m\u001b[38;5;241;43m*\u001b[39;49m\u001b[43mkwargs\u001b[49m\u001b[43m)\u001b[49m\n",
      "File \u001b[0;32m/cvmfs/sys.hpc.itc.rwth-aachen.de/jupyter/clients/pytorch-gpu/lib/python3.9/site-packages/pandas/io/parsers/readers.py:950\u001b[0m, in \u001b[0;36mread_csv\u001b[0;34m(filepath_or_buffer, sep, delimiter, header, names, index_col, usecols, squeeze, prefix, mangle_dupe_cols, dtype, engine, converters, true_values, false_values, skipinitialspace, skiprows, skipfooter, nrows, na_values, keep_default_na, na_filter, verbose, skip_blank_lines, parse_dates, infer_datetime_format, keep_date_col, date_parser, dayfirst, cache_dates, iterator, chunksize, compression, thousands, decimal, lineterminator, quotechar, quoting, doublequote, escapechar, comment, encoding, encoding_errors, dialect, error_bad_lines, warn_bad_lines, on_bad_lines, delim_whitespace, low_memory, memory_map, float_precision, storage_options)\u001b[0m\n\u001b[1;32m    935\u001b[0m kwds_defaults \u001b[38;5;241m=\u001b[39m _refine_defaults_read(\n\u001b[1;32m    936\u001b[0m     dialect,\n\u001b[1;32m    937\u001b[0m     delimiter,\n\u001b[0;32m   (...)\u001b[0m\n\u001b[1;32m    946\u001b[0m     defaults\u001b[38;5;241m=\u001b[39m{\u001b[38;5;124m\"\u001b[39m\u001b[38;5;124mdelimiter\u001b[39m\u001b[38;5;124m\"\u001b[39m: \u001b[38;5;124m\"\u001b[39m\u001b[38;5;124m,\u001b[39m\u001b[38;5;124m\"\u001b[39m},\n\u001b[1;32m    947\u001b[0m )\n\u001b[1;32m    948\u001b[0m kwds\u001b[38;5;241m.\u001b[39mupdate(kwds_defaults)\n\u001b[0;32m--> 950\u001b[0m \u001b[38;5;28;01mreturn\u001b[39;00m \u001b[43m_read\u001b[49m\u001b[43m(\u001b[49m\u001b[43mfilepath_or_buffer\u001b[49m\u001b[43m,\u001b[49m\u001b[43m \u001b[49m\u001b[43mkwds\u001b[49m\u001b[43m)\u001b[49m\n",
      "File \u001b[0;32m/cvmfs/sys.hpc.itc.rwth-aachen.de/jupyter/clients/pytorch-gpu/lib/python3.9/site-packages/pandas/io/parsers/readers.py:605\u001b[0m, in \u001b[0;36m_read\u001b[0;34m(filepath_or_buffer, kwds)\u001b[0m\n\u001b[1;32m    602\u001b[0m _validate_names(kwds\u001b[38;5;241m.\u001b[39mget(\u001b[38;5;124m\"\u001b[39m\u001b[38;5;124mnames\u001b[39m\u001b[38;5;124m\"\u001b[39m, \u001b[38;5;28;01mNone\u001b[39;00m))\n\u001b[1;32m    604\u001b[0m \u001b[38;5;66;03m# Create the parser.\u001b[39;00m\n\u001b[0;32m--> 605\u001b[0m parser \u001b[38;5;241m=\u001b[39m \u001b[43mTextFileReader\u001b[49m\u001b[43m(\u001b[49m\u001b[43mfilepath_or_buffer\u001b[49m\u001b[43m,\u001b[49m\u001b[43m \u001b[49m\u001b[38;5;241;43m*\u001b[39;49m\u001b[38;5;241;43m*\u001b[39;49m\u001b[43mkwds\u001b[49m\u001b[43m)\u001b[49m\n\u001b[1;32m    607\u001b[0m \u001b[38;5;28;01mif\u001b[39;00m chunksize \u001b[38;5;129;01mor\u001b[39;00m iterator:\n\u001b[1;32m    608\u001b[0m     \u001b[38;5;28;01mreturn\u001b[39;00m parser\n",
      "File \u001b[0;32m/cvmfs/sys.hpc.itc.rwth-aachen.de/jupyter/clients/pytorch-gpu/lib/python3.9/site-packages/pandas/io/parsers/readers.py:1442\u001b[0m, in \u001b[0;36mTextFileReader.__init__\u001b[0;34m(self, f, engine, **kwds)\u001b[0m\n\u001b[1;32m   1439\u001b[0m     \u001b[38;5;28mself\u001b[39m\u001b[38;5;241m.\u001b[39moptions[\u001b[38;5;124m\"\u001b[39m\u001b[38;5;124mhas_index_names\u001b[39m\u001b[38;5;124m\"\u001b[39m] \u001b[38;5;241m=\u001b[39m kwds[\u001b[38;5;124m\"\u001b[39m\u001b[38;5;124mhas_index_names\u001b[39m\u001b[38;5;124m\"\u001b[39m]\n\u001b[1;32m   1441\u001b[0m \u001b[38;5;28mself\u001b[39m\u001b[38;5;241m.\u001b[39mhandles: IOHandles \u001b[38;5;241m|\u001b[39m \u001b[38;5;28;01mNone\u001b[39;00m \u001b[38;5;241m=\u001b[39m \u001b[38;5;28;01mNone\u001b[39;00m\n\u001b[0;32m-> 1442\u001b[0m \u001b[38;5;28mself\u001b[39m\u001b[38;5;241m.\u001b[39m_engine \u001b[38;5;241m=\u001b[39m \u001b[38;5;28;43mself\u001b[39;49m\u001b[38;5;241;43m.\u001b[39;49m\u001b[43m_make_engine\u001b[49m\u001b[43m(\u001b[49m\u001b[43mf\u001b[49m\u001b[43m,\u001b[49m\u001b[43m \u001b[49m\u001b[38;5;28;43mself\u001b[39;49m\u001b[38;5;241;43m.\u001b[39;49m\u001b[43mengine\u001b[49m\u001b[43m)\u001b[49m\n",
      "File \u001b[0;32m/cvmfs/sys.hpc.itc.rwth-aachen.de/jupyter/clients/pytorch-gpu/lib/python3.9/site-packages/pandas/io/parsers/readers.py:1735\u001b[0m, in \u001b[0;36mTextFileReader._make_engine\u001b[0;34m(self, f, engine)\u001b[0m\n\u001b[1;32m   1733\u001b[0m     \u001b[38;5;28;01mif\u001b[39;00m \u001b[38;5;124m\"\u001b[39m\u001b[38;5;124mb\u001b[39m\u001b[38;5;124m\"\u001b[39m \u001b[38;5;129;01mnot\u001b[39;00m \u001b[38;5;129;01min\u001b[39;00m mode:\n\u001b[1;32m   1734\u001b[0m         mode \u001b[38;5;241m+\u001b[39m\u001b[38;5;241m=\u001b[39m \u001b[38;5;124m\"\u001b[39m\u001b[38;5;124mb\u001b[39m\u001b[38;5;124m\"\u001b[39m\n\u001b[0;32m-> 1735\u001b[0m \u001b[38;5;28mself\u001b[39m\u001b[38;5;241m.\u001b[39mhandles \u001b[38;5;241m=\u001b[39m \u001b[43mget_handle\u001b[49m\u001b[43m(\u001b[49m\n\u001b[1;32m   1736\u001b[0m \u001b[43m    \u001b[49m\u001b[43mf\u001b[49m\u001b[43m,\u001b[49m\n\u001b[1;32m   1737\u001b[0m \u001b[43m    \u001b[49m\u001b[43mmode\u001b[49m\u001b[43m,\u001b[49m\n\u001b[1;32m   1738\u001b[0m \u001b[43m    \u001b[49m\u001b[43mencoding\u001b[49m\u001b[38;5;241;43m=\u001b[39;49m\u001b[38;5;28;43mself\u001b[39;49m\u001b[38;5;241;43m.\u001b[39;49m\u001b[43moptions\u001b[49m\u001b[38;5;241;43m.\u001b[39;49m\u001b[43mget\u001b[49m\u001b[43m(\u001b[49m\u001b[38;5;124;43m\"\u001b[39;49m\u001b[38;5;124;43mencoding\u001b[39;49m\u001b[38;5;124;43m\"\u001b[39;49m\u001b[43m,\u001b[49m\u001b[43m \u001b[49m\u001b[38;5;28;43;01mNone\u001b[39;49;00m\u001b[43m)\u001b[49m\u001b[43m,\u001b[49m\n\u001b[1;32m   1739\u001b[0m \u001b[43m    \u001b[49m\u001b[43mcompression\u001b[49m\u001b[38;5;241;43m=\u001b[39;49m\u001b[38;5;28;43mself\u001b[39;49m\u001b[38;5;241;43m.\u001b[39;49m\u001b[43moptions\u001b[49m\u001b[38;5;241;43m.\u001b[39;49m\u001b[43mget\u001b[49m\u001b[43m(\u001b[49m\u001b[38;5;124;43m\"\u001b[39;49m\u001b[38;5;124;43mcompression\u001b[39;49m\u001b[38;5;124;43m\"\u001b[39;49m\u001b[43m,\u001b[49m\u001b[43m \u001b[49m\u001b[38;5;28;43;01mNone\u001b[39;49;00m\u001b[43m)\u001b[49m\u001b[43m,\u001b[49m\n\u001b[1;32m   1740\u001b[0m \u001b[43m    \u001b[49m\u001b[43mmemory_map\u001b[49m\u001b[38;5;241;43m=\u001b[39;49m\u001b[38;5;28;43mself\u001b[39;49m\u001b[38;5;241;43m.\u001b[39;49m\u001b[43moptions\u001b[49m\u001b[38;5;241;43m.\u001b[39;49m\u001b[43mget\u001b[49m\u001b[43m(\u001b[49m\u001b[38;5;124;43m\"\u001b[39;49m\u001b[38;5;124;43mmemory_map\u001b[39;49m\u001b[38;5;124;43m\"\u001b[39;49m\u001b[43m,\u001b[49m\u001b[43m \u001b[49m\u001b[38;5;28;43;01mFalse\u001b[39;49;00m\u001b[43m)\u001b[49m\u001b[43m,\u001b[49m\n\u001b[1;32m   1741\u001b[0m \u001b[43m    \u001b[49m\u001b[43mis_text\u001b[49m\u001b[38;5;241;43m=\u001b[39;49m\u001b[43mis_text\u001b[49m\u001b[43m,\u001b[49m\n\u001b[1;32m   1742\u001b[0m \u001b[43m    \u001b[49m\u001b[43merrors\u001b[49m\u001b[38;5;241;43m=\u001b[39;49m\u001b[38;5;28;43mself\u001b[39;49m\u001b[38;5;241;43m.\u001b[39;49m\u001b[43moptions\u001b[49m\u001b[38;5;241;43m.\u001b[39;49m\u001b[43mget\u001b[49m\u001b[43m(\u001b[49m\u001b[38;5;124;43m\"\u001b[39;49m\u001b[38;5;124;43mencoding_errors\u001b[39;49m\u001b[38;5;124;43m\"\u001b[39;49m\u001b[43m,\u001b[49m\u001b[43m \u001b[49m\u001b[38;5;124;43m\"\u001b[39;49m\u001b[38;5;124;43mstrict\u001b[39;49m\u001b[38;5;124;43m\"\u001b[39;49m\u001b[43m)\u001b[49m\u001b[43m,\u001b[49m\n\u001b[1;32m   1743\u001b[0m \u001b[43m    \u001b[49m\u001b[43mstorage_options\u001b[49m\u001b[38;5;241;43m=\u001b[39;49m\u001b[38;5;28;43mself\u001b[39;49m\u001b[38;5;241;43m.\u001b[39;49m\u001b[43moptions\u001b[49m\u001b[38;5;241;43m.\u001b[39;49m\u001b[43mget\u001b[49m\u001b[43m(\u001b[49m\u001b[38;5;124;43m\"\u001b[39;49m\u001b[38;5;124;43mstorage_options\u001b[39;49m\u001b[38;5;124;43m\"\u001b[39;49m\u001b[43m,\u001b[49m\u001b[43m \u001b[49m\u001b[38;5;28;43;01mNone\u001b[39;49;00m\u001b[43m)\u001b[49m\u001b[43m,\u001b[49m\n\u001b[1;32m   1744\u001b[0m \u001b[43m\u001b[49m\u001b[43m)\u001b[49m\n\u001b[1;32m   1745\u001b[0m \u001b[38;5;28;01massert\u001b[39;00m \u001b[38;5;28mself\u001b[39m\u001b[38;5;241m.\u001b[39mhandles \u001b[38;5;129;01mis\u001b[39;00m \u001b[38;5;129;01mnot\u001b[39;00m \u001b[38;5;28;01mNone\u001b[39;00m\n\u001b[1;32m   1746\u001b[0m f \u001b[38;5;241m=\u001b[39m \u001b[38;5;28mself\u001b[39m\u001b[38;5;241m.\u001b[39mhandles\u001b[38;5;241m.\u001b[39mhandle\n",
      "File \u001b[0;32m/cvmfs/sys.hpc.itc.rwth-aachen.de/jupyter/clients/pytorch-gpu/lib/python3.9/site-packages/pandas/io/common.py:856\u001b[0m, in \u001b[0;36mget_handle\u001b[0;34m(path_or_buf, mode, encoding, compression, memory_map, is_text, errors, storage_options)\u001b[0m\n\u001b[1;32m    851\u001b[0m \u001b[38;5;28;01melif\u001b[39;00m \u001b[38;5;28misinstance\u001b[39m(handle, \u001b[38;5;28mstr\u001b[39m):\n\u001b[1;32m    852\u001b[0m     \u001b[38;5;66;03m# Check whether the filename is to be opened in binary mode.\u001b[39;00m\n\u001b[1;32m    853\u001b[0m     \u001b[38;5;66;03m# Binary mode does not support 'encoding' and 'newline'.\u001b[39;00m\n\u001b[1;32m    854\u001b[0m     \u001b[38;5;28;01mif\u001b[39;00m ioargs\u001b[38;5;241m.\u001b[39mencoding \u001b[38;5;129;01mand\u001b[39;00m \u001b[38;5;124m\"\u001b[39m\u001b[38;5;124mb\u001b[39m\u001b[38;5;124m\"\u001b[39m \u001b[38;5;129;01mnot\u001b[39;00m \u001b[38;5;129;01min\u001b[39;00m ioargs\u001b[38;5;241m.\u001b[39mmode:\n\u001b[1;32m    855\u001b[0m         \u001b[38;5;66;03m# Encoding\u001b[39;00m\n\u001b[0;32m--> 856\u001b[0m         handle \u001b[38;5;241m=\u001b[39m \u001b[38;5;28;43mopen\u001b[39;49m\u001b[43m(\u001b[49m\n\u001b[1;32m    857\u001b[0m \u001b[43m            \u001b[49m\u001b[43mhandle\u001b[49m\u001b[43m,\u001b[49m\n\u001b[1;32m    858\u001b[0m \u001b[43m            \u001b[49m\u001b[43mioargs\u001b[49m\u001b[38;5;241;43m.\u001b[39;49m\u001b[43mmode\u001b[49m\u001b[43m,\u001b[49m\n\u001b[1;32m    859\u001b[0m \u001b[43m            \u001b[49m\u001b[43mencoding\u001b[49m\u001b[38;5;241;43m=\u001b[39;49m\u001b[43mioargs\u001b[49m\u001b[38;5;241;43m.\u001b[39;49m\u001b[43mencoding\u001b[49m\u001b[43m,\u001b[49m\n\u001b[1;32m    860\u001b[0m \u001b[43m            \u001b[49m\u001b[43merrors\u001b[49m\u001b[38;5;241;43m=\u001b[39;49m\u001b[43merrors\u001b[49m\u001b[43m,\u001b[49m\n\u001b[1;32m    861\u001b[0m \u001b[43m            \u001b[49m\u001b[43mnewline\u001b[49m\u001b[38;5;241;43m=\u001b[39;49m\u001b[38;5;124;43m\"\u001b[39;49m\u001b[38;5;124;43m\"\u001b[39;49m\u001b[43m,\u001b[49m\n\u001b[1;32m    862\u001b[0m \u001b[43m        \u001b[49m\u001b[43m)\u001b[49m\n\u001b[1;32m    863\u001b[0m     \u001b[38;5;28;01melse\u001b[39;00m:\n\u001b[1;32m    864\u001b[0m         \u001b[38;5;66;03m# Binary mode\u001b[39;00m\n\u001b[1;32m    865\u001b[0m         handle \u001b[38;5;241m=\u001b[39m \u001b[38;5;28mopen\u001b[39m(handle, ioargs\u001b[38;5;241m.\u001b[39mmode)\n",
      "\u001b[0;31mFileNotFoundError\u001b[0m: [Errno 2] No such file or directory: 'Second_Step_BERTopic_topic_info_labelled.csv'"
     ]
    }
   ],
   "source": [
    "import pandas as pd\n",
    "\n",
    "# Load the datasets\n",
    "first_step_df = pd.read_csv('First_Step_BERTopic_topic_info_labelled_with_Higher_Topic_Label_cleaned.csv')\n",
    "second_step_df = pd.read_csv('Second_Step_BERTopic_topic_info_labelled.csv')\n",
    "highest_level_topics_df = pd.read_csv('highest_level_topic_labels_with_representatives.csv')\n",
    "\n",
    "# Function to clean and split the 'Higher_Topic_Label' column based on semicolons\n",
    "def clean_and_split_labels(label_str):\n",
    "    # Split by semicolon and strip any extra spaces\n",
    "    labels = [label.strip() for label in label_str.split(';')]\n",
    "    return labels\n",
    "\n",
    "# Apply the cleaning and splitting function to the 'Higher_Topic_Label' column\n",
    "highest_level_topics_df['Higher_Topic_Label'] = highest_level_topics_df['Higher_Topic_Label'].apply(clean_and_split_labels)\n",
    "\n",
    "# Explode the 'Higher_Topic_Label' to create a row for each label\n",
    "highest_level_topics_df = highest_level_topics_df.explode('Higher_Topic_Label')\n",
    "\n",
    "# Merge the first step dataset with the highest level topics based on 'Higher_Topic_Label'\n",
    "first_step_final_merged_df = pd.merge(first_step_df, highest_level_topics_df[['Higher_Topic_Label', 'Highest_Topic_Label']], \n",
    "                                      on='Higher_Topic_Label', how='left')\n",
    "\n",
    "# Merge the second step dataset with the highest level topics based on 'Higher_Topic_Label'\n",
    "second_step_final_merged_df = pd.merge(second_step_df, highest_level_topics_df[['Higher_Topic_Label', 'Highest_Topic_Label']], \n",
    "                                       on='Higher_Topic_Label', how='left')\n",
    "\n",
    "# Save the final merged dataframes to new CSV files\n",
    "first_step_final_merged_df.to_csv('First_Step_BERTopic_topic_info_labelled_with_Highest_Topic_Label_final.csv', index=False)\n",
    "second_step_final_merged_df.to_csv('Second_Step_BERTopic_topic_info_labelled_with_Highest_Topic_Label_final.csv', index=False)\n",
    "\n",
    "print(\"Merging completed and the results are saved as 'First_Step_BERTopic_topic_info_labelled_with_Highest_Topic_Label_final.csv' and 'Second_Step_BERTopic_topic_info_labelled_with_Highest_Topic_Label_final.csv'\")\n"
   ]
  },
  {
   "cell_type": "code",
   "execution_count": 5,
   "id": "92f6d71f-9985-4aaa-9207-c4efba1cddd1",
   "metadata": {},
   "outputs": [
    {
     "name": "stdout",
     "output_type": "stream",
     "text": [
      "First step merging completed and the result is saved as 'First_Step_BERTopic_topic_info_labelled_with_Highest_Topic_Label_final.csv'\n"
     ]
    }
   ],
   "source": [
    "import pandas as pd\n",
    "\n",
    "# Load the datasets\n",
    "first_step_df = pd.read_csv('First_Step_BERTopic_topic_info_labelled_with_Higher_Topic_Label_cleaned.csv')\n",
    "highest_level_topics_df = pd.read_csv('highest_level_topic_labels_with_representatives.csv')\n",
    "\n",
    "# Function to clean and split the 'Higher_Topic_Label' column based on semicolons\n",
    "def clean_and_split_labels(label_str):\n",
    "    # Split by semicolon and strip any extra spaces\n",
    "    labels = [label.strip() for label in label_str.split(';')]\n",
    "    return labels\n",
    "\n",
    "# Apply the cleaning and splitting function to the 'Higher_Topic_Label' column\n",
    "highest_level_topics_df['Higher_Topic_Label'] = highest_level_topics_df['Higher_Topic_Label'].apply(clean_and_split_labels)\n",
    "\n",
    "# Explode the 'Higher_Topic_Label' to create a row for each label\n",
    "highest_level_topics_df = highest_level_topics_df.explode('Higher_Topic_Label')\n",
    "\n",
    "# Merge the first step dataset with the highest level topics based on 'Higher_Topic_Label'\n",
    "first_step_final_merged_df = pd.merge(first_step_df, highest_level_topics_df[['Higher_Topic_Label', 'Highest_Topic_Label']], \n",
    "                                      on='Higher_Topic_Label', how='left')\n",
    "\n",
    "# Save the final merged dataframe to a new CSV file\n",
    "first_step_final_merged_df.to_csv('First_Step_BERTopic_topic_info_labelled_with_Highest_Topic_Label_final.csv', index=False)\n",
    "\n",
    "print(\"First step merging completed and the result is saved as 'First_Step_BERTopic_topic_info_labelled_with_Highest_Topic_Label_final.csv'\")\n"
   ]
  },
  {
   "cell_type": "code",
   "execution_count": null,
   "id": "23c5cf7b-3b03-440b-b196-3aeaf168910a",
   "metadata": {},
   "outputs": [],
   "source": []
  }
 ],
 "metadata": {
  "kernelspec": {
   "display_name": "Python 3 (ipykernel)",
   "language": "python",
   "name": "python3"
  },
  "language_info": {
   "codemirror_mode": {
    "name": "ipython",
    "version": 3
   },
   "file_extension": ".py",
   "mimetype": "text/x-python",
   "name": "python",
   "nbconvert_exporter": "python",
   "pygments_lexer": "ipython3",
   "version": "3.9.13"
  }
 },
 "nbformat": 4,
 "nbformat_minor": 5
}
