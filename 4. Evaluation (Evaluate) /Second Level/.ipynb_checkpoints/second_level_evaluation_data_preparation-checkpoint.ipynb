{
 "cells": [
  {
   "cell_type": "code",
   "execution_count": 1,
   "id": "a388fb63-98a6-43ef-829c-118d41599de6",
   "metadata": {},
   "outputs": [
    {
     "name": "stdout",
     "output_type": "stream",
     "text": [
      "Datasets merged successfully.\n"
     ]
    }
   ],
   "source": [
    "import pandas as pd\n",
    "\n",
    "# Load the datasets\n",
    "first_step_result_df = pd.read_csv('First_Step_BERTopic_result.csv')\n",
    "second_level_knowledge_df = pd.read_csv('BERTopic_First_Step_Second_Level_Topic_Knowledge.csv')\n",
    "\n",
    "# Specify the column names in both datasets for the merge\n",
    "first_dataset_column = 'Topic Label'\n",
    "second_dataset_column = 'Topic'\n",
    "\n",
    "# Merge the datasets based on the 'Topic' and 'Topic Label' columns\n",
    "merged_df = pd.merge(first_step_result_df, second_level_knowledge_df, \n",
    "                     left_on=first_dataset_column, right_on=second_dataset_column, how='left')\n",
    "\n",
    "# Save the merged dataset\n",
    "merged_df.to_csv('Merged_First_Step_BERTopic_Result.csv', index=False)\n",
    "\n",
    "print(\"Datasets merged successfully.\")\n"
   ]
  },
  {
   "cell_type": "code",
   "execution_count": 2,
   "id": "e369c745-cd19-466d-9ca0-a79d28e50370",
   "metadata": {},
   "outputs": [
    {
     "name": "stdout",
     "output_type": "stream",
     "text": [
      "Second step datasets merged successfully.\n"
     ]
    }
   ],
   "source": [
    "import pandas as pd\n",
    "\n",
    "# Load the datasets\n",
    "second_step_result_df = pd.read_csv('Second_step_clustering_BERTopic_results.csv')\n",
    "second_level_knowledge_df = pd.read_csv('BERTopic_Second_Step_Second_Level_Topic_Knowledge.csv')\n",
    "\n",
    "# Specify the column names in both datasets for the merge\n",
    "first_dataset_column = 'Topic Label'\n",
    "second_dataset_column = 'Topic'\n",
    "\n",
    "# Merge the datasets based on the 'Topic Label' and 'Topic' columns\n",
    "merged_second_step_df = pd.merge(second_step_result_df, second_level_knowledge_df, \n",
    "                                 left_on=first_dataset_column, right_on=second_dataset_column, how='left')\n",
    "\n",
    "# Save the merged dataset\n",
    "merged_second_step_df.to_csv('Merged_Second_Step_BERTopic_Result.csv', index=False)\n",
    "\n",
    "print(\"Second step datasets merged successfully.\")\n"
   ]
  },
  {
   "cell_type": "code",
   "execution_count": 3,
   "id": "b79a9f5d-5c5c-47e8-948d-cf0e15ff175c",
   "metadata": {},
   "outputs": [
    {
     "name": "stderr",
     "output_type": "stream",
     "text": [
      "/home/yc656703/.local/lib/python3.9/site-packages/pandas/core/indexes/base.py:7834: RuntimeWarning: invalid value encountered in cast\n",
      "  values = values.astype(str)\n"
     ]
    },
    {
     "name": "stdout",
     "output_type": "stream",
     "text": [
      "Datasets filtered and concatenated successfully.\n"
     ]
    }
   ],
   "source": [
    "import pandas as pd\n",
    "\n",
    "# Load the datasets\n",
    "first_step_result_df = pd.read_csv('Merged_First_Step_BERTopic_Result.csv')\n",
    "second_step_result_df = pd.read_csv('Merged_Second_Step_BERTopic_Result.csv')\n",
    "\n",
    "# Step 1: Filter out rows where 'Topic' column is -1 in the first dataset\n",
    "filtered_first_step_df = first_step_result_df[first_step_result_df['Topic'] != -1]\n",
    "\n",
    "# Step 2: Concatenate the filtered first step dataset with the second step dataset\n",
    "concatenated_df = pd.concat([filtered_first_step_df, second_step_result_df], ignore_index=True)\n",
    "\n",
    "# Save the concatenated dataset\n",
    "concatenated_df.to_csv('Concatenated_First_Second_Step_BERTopic_Result.csv', index=False)\n",
    "\n",
    "print(\"Datasets filtered and concatenated successfully.\")\n"
   ]
  },
  {
   "cell_type": "code",
   "execution_count": null,
   "id": "23af7a7f-0380-4a78-847c-91502b2a903f",
   "metadata": {},
   "outputs": [],
   "source": []
  }
 ],
 "metadata": {
  "kernelspec": {
   "display_name": "Python 3 (ipykernel)",
   "language": "python",
   "name": "python3"
  },
  "language_info": {
   "codemirror_mode": {
    "name": "ipython",
    "version": 3
   },
   "file_extension": ".py",
   "mimetype": "text/x-python",
   "name": "python",
   "nbconvert_exporter": "python",
   "pygments_lexer": "ipython3",
   "version": "3.9.13"
  }
 },
 "nbformat": 4,
 "nbformat_minor": 5
}
