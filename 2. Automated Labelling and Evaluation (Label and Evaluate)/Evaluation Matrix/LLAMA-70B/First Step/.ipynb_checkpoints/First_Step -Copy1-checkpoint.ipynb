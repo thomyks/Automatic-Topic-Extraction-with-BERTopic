{
 "cells": [
  {
   "cell_type": "code",
   "execution_count": 15,
   "id": "9f406383-3b1d-42c2-a35b-61deedb92024",
   "metadata": {},
   "outputs": [
    {
     "name": "stderr",
     "output_type": "stream",
     "text": [
      "/w0/tmp/slurm_yc656703.49445898/ipykernel_252833/2627970343.py:10: DtypeWarning:\n",
      "\n",
      "Columns (0) have mixed types. Specify dtype option on import or set low_memory=False.\n",
      "\n",
      "/home/yc656703/.local/lib/python3.9/site-packages/huggingface_hub/file_download.py:1132: FutureWarning:\n",
      "\n",
      "`resume_download` is deprecated and will be removed in version 1.0.0. Downloads always resume when possible. If you want to force a new download, use `force_download=True`.\n",
      "\n"
     ]
    },
    {
     "ename": "KeyboardInterrupt",
     "evalue": "",
     "output_type": "error",
     "traceback": [
      "\u001b[0;31m---------------------------------------------------------------------------\u001b[0m",
      "\u001b[0;31mKeyboardInterrupt\u001b[0m                         Traceback (most recent call last)",
      "Cell \u001b[0;32mIn [15], line 23\u001b[0m\n\u001b[1;32m     20\u001b[0m     centroid \u001b[38;5;241m=\u001b[39m np\u001b[38;5;241m.\u001b[39mmean(embeddings, axis\u001b[38;5;241m=\u001b[39m\u001b[38;5;241m0\u001b[39m)\n\u001b[1;32m     21\u001b[0m     \u001b[38;5;28;01mreturn\u001b[39;00m centroid\n\u001b[0;32m---> 23\u001b[0m grouped[\u001b[38;5;124m'\u001b[39m\u001b[38;5;124mcentroid\u001b[39m\u001b[38;5;124m'\u001b[39m] \u001b[38;5;241m=\u001b[39m \u001b[43mgrouped\u001b[49m\u001b[43m[\u001b[49m\u001b[38;5;124;43m'\u001b[39;49m\u001b[38;5;124;43mtext\u001b[39;49m\u001b[38;5;124;43m'\u001b[39;49m\u001b[43m]\u001b[49m\u001b[38;5;241;43m.\u001b[39;49m\u001b[43mapply\u001b[49m\u001b[43m(\u001b[49m\u001b[43mcalculate_centroid\u001b[49m\u001b[43m)\u001b[49m\n\u001b[1;32m     25\u001b[0m \u001b[38;5;66;03m# Calculate embeddings for Human_Readable_Topic in the second dataset\u001b[39;00m\n\u001b[1;32m     26\u001b[0m second_step[\u001b[38;5;124m'\u001b[39m\u001b[38;5;124mHuman_Readable_Topic_embedding\u001b[39m\u001b[38;5;124m'\u001b[39m] \u001b[38;5;241m=\u001b[39m second_step[\u001b[38;5;124m'\u001b[39m\u001b[38;5;124mHuman_Readable_Topic\u001b[39m\u001b[38;5;124m'\u001b[39m]\u001b[38;5;241m.\u001b[39mapply(\u001b[38;5;28;01mlambda\u001b[39;00m x: model\u001b[38;5;241m.\u001b[39mencode(x))\n",
      "File \u001b[0;32m~/.local/lib/python3.9/site-packages/pandas/core/series.py:4917\u001b[0m, in \u001b[0;36mSeries.apply\u001b[0;34m(self, func, convert_dtype, args, by_row, **kwargs)\u001b[0m\n\u001b[1;32m   4789\u001b[0m \u001b[38;5;28;01mdef\u001b[39;00m \u001b[38;5;21mapply\u001b[39m(\n\u001b[1;32m   4790\u001b[0m     \u001b[38;5;28mself\u001b[39m,\n\u001b[1;32m   4791\u001b[0m     func: AggFuncType,\n\u001b[0;32m   (...)\u001b[0m\n\u001b[1;32m   4796\u001b[0m     \u001b[38;5;241m*\u001b[39m\u001b[38;5;241m*\u001b[39mkwargs,\n\u001b[1;32m   4797\u001b[0m ) \u001b[38;5;241m-\u001b[39m\u001b[38;5;241m>\u001b[39m DataFrame \u001b[38;5;241m|\u001b[39m Series:\n\u001b[1;32m   4798\u001b[0m     \u001b[38;5;124;03m\"\"\"\u001b[39;00m\n\u001b[1;32m   4799\u001b[0m \u001b[38;5;124;03m    Invoke function on values of Series.\u001b[39;00m\n\u001b[1;32m   4800\u001b[0m \n\u001b[0;32m   (...)\u001b[0m\n\u001b[1;32m   4915\u001b[0m \u001b[38;5;124;03m    dtype: float64\u001b[39;00m\n\u001b[1;32m   4916\u001b[0m \u001b[38;5;124;03m    \"\"\"\u001b[39;00m\n\u001b[0;32m-> 4917\u001b[0m     \u001b[38;5;28;01mreturn\u001b[39;00m \u001b[43mSeriesApply\u001b[49m\u001b[43m(\u001b[49m\n\u001b[1;32m   4918\u001b[0m \u001b[43m        \u001b[49m\u001b[38;5;28;43mself\u001b[39;49m\u001b[43m,\u001b[49m\n\u001b[1;32m   4919\u001b[0m \u001b[43m        \u001b[49m\u001b[43mfunc\u001b[49m\u001b[43m,\u001b[49m\n\u001b[1;32m   4920\u001b[0m \u001b[43m        \u001b[49m\u001b[43mconvert_dtype\u001b[49m\u001b[38;5;241;43m=\u001b[39;49m\u001b[43mconvert_dtype\u001b[49m\u001b[43m,\u001b[49m\n\u001b[1;32m   4921\u001b[0m \u001b[43m        \u001b[49m\u001b[43mby_row\u001b[49m\u001b[38;5;241;43m=\u001b[39;49m\u001b[43mby_row\u001b[49m\u001b[43m,\u001b[49m\n\u001b[1;32m   4922\u001b[0m \u001b[43m        \u001b[49m\u001b[43margs\u001b[49m\u001b[38;5;241;43m=\u001b[39;49m\u001b[43margs\u001b[49m\u001b[43m,\u001b[49m\n\u001b[1;32m   4923\u001b[0m \u001b[43m        \u001b[49m\u001b[43mkwargs\u001b[49m\u001b[38;5;241;43m=\u001b[39;49m\u001b[43mkwargs\u001b[49m\u001b[43m,\u001b[49m\n\u001b[1;32m   4924\u001b[0m \u001b[43m    \u001b[49m\u001b[43m)\u001b[49m\u001b[38;5;241;43m.\u001b[39;49m\u001b[43mapply\u001b[49m\u001b[43m(\u001b[49m\u001b[43m)\u001b[49m\n",
      "File \u001b[0;32m~/.local/lib/python3.9/site-packages/pandas/core/apply.py:1427\u001b[0m, in \u001b[0;36mSeriesApply.apply\u001b[0;34m(self)\u001b[0m\n\u001b[1;32m   1424\u001b[0m     \u001b[38;5;28;01mreturn\u001b[39;00m \u001b[38;5;28mself\u001b[39m\u001b[38;5;241m.\u001b[39mapply_compat()\n\u001b[1;32m   1426\u001b[0m \u001b[38;5;66;03m# self.func is Callable\u001b[39;00m\n\u001b[0;32m-> 1427\u001b[0m \u001b[38;5;28;01mreturn\u001b[39;00m \u001b[38;5;28;43mself\u001b[39;49m\u001b[38;5;241;43m.\u001b[39;49m\u001b[43mapply_standard\u001b[49m\u001b[43m(\u001b[49m\u001b[43m)\u001b[49m\n",
      "File \u001b[0;32m~/.local/lib/python3.9/site-packages/pandas/core/apply.py:1507\u001b[0m, in \u001b[0;36mSeriesApply.apply_standard\u001b[0;34m(self)\u001b[0m\n\u001b[1;32m   1501\u001b[0m \u001b[38;5;66;03m# row-wise access\u001b[39;00m\n\u001b[1;32m   1502\u001b[0m \u001b[38;5;66;03m# apply doesn't have a `na_action` keyword and for backward compat reasons\u001b[39;00m\n\u001b[1;32m   1503\u001b[0m \u001b[38;5;66;03m# we need to give `na_action=\"ignore\"` for categorical data.\u001b[39;00m\n\u001b[1;32m   1504\u001b[0m \u001b[38;5;66;03m# TODO: remove the `na_action=\"ignore\"` when that default has been changed in\u001b[39;00m\n\u001b[1;32m   1505\u001b[0m \u001b[38;5;66;03m#  Categorical (GH51645).\u001b[39;00m\n\u001b[1;32m   1506\u001b[0m action \u001b[38;5;241m=\u001b[39m \u001b[38;5;124m\"\u001b[39m\u001b[38;5;124mignore\u001b[39m\u001b[38;5;124m\"\u001b[39m \u001b[38;5;28;01mif\u001b[39;00m \u001b[38;5;28misinstance\u001b[39m(obj\u001b[38;5;241m.\u001b[39mdtype, CategoricalDtype) \u001b[38;5;28;01melse\u001b[39;00m \u001b[38;5;28;01mNone\u001b[39;00m\n\u001b[0;32m-> 1507\u001b[0m mapped \u001b[38;5;241m=\u001b[39m \u001b[43mobj\u001b[49m\u001b[38;5;241;43m.\u001b[39;49m\u001b[43m_map_values\u001b[49m\u001b[43m(\u001b[49m\n\u001b[1;32m   1508\u001b[0m \u001b[43m    \u001b[49m\u001b[43mmapper\u001b[49m\u001b[38;5;241;43m=\u001b[39;49m\u001b[43mcurried\u001b[49m\u001b[43m,\u001b[49m\u001b[43m \u001b[49m\u001b[43mna_action\u001b[49m\u001b[38;5;241;43m=\u001b[39;49m\u001b[43maction\u001b[49m\u001b[43m,\u001b[49m\u001b[43m \u001b[49m\u001b[43mconvert\u001b[49m\u001b[38;5;241;43m=\u001b[39;49m\u001b[38;5;28;43mself\u001b[39;49m\u001b[38;5;241;43m.\u001b[39;49m\u001b[43mconvert_dtype\u001b[49m\n\u001b[1;32m   1509\u001b[0m \u001b[43m\u001b[49m\u001b[43m)\u001b[49m\n\u001b[1;32m   1511\u001b[0m \u001b[38;5;28;01mif\u001b[39;00m \u001b[38;5;28mlen\u001b[39m(mapped) \u001b[38;5;129;01mand\u001b[39;00m \u001b[38;5;28misinstance\u001b[39m(mapped[\u001b[38;5;241m0\u001b[39m], ABCSeries):\n\u001b[1;32m   1512\u001b[0m     \u001b[38;5;66;03m# GH#43986 Need to do list(mapped) in order to get treated as nested\u001b[39;00m\n\u001b[1;32m   1513\u001b[0m     \u001b[38;5;66;03m#  See also GH#25959 regarding EA support\u001b[39;00m\n\u001b[1;32m   1514\u001b[0m     \u001b[38;5;28;01mreturn\u001b[39;00m obj\u001b[38;5;241m.\u001b[39m_constructor_expanddim(\u001b[38;5;28mlist\u001b[39m(mapped), index\u001b[38;5;241m=\u001b[39mobj\u001b[38;5;241m.\u001b[39mindex)\n",
      "File \u001b[0;32m~/.local/lib/python3.9/site-packages/pandas/core/base.py:921\u001b[0m, in \u001b[0;36mIndexOpsMixin._map_values\u001b[0;34m(self, mapper, na_action, convert)\u001b[0m\n\u001b[1;32m    918\u001b[0m \u001b[38;5;28;01mif\u001b[39;00m \u001b[38;5;28misinstance\u001b[39m(arr, ExtensionArray):\n\u001b[1;32m    919\u001b[0m     \u001b[38;5;28;01mreturn\u001b[39;00m arr\u001b[38;5;241m.\u001b[39mmap(mapper, na_action\u001b[38;5;241m=\u001b[39mna_action)\n\u001b[0;32m--> 921\u001b[0m \u001b[38;5;28;01mreturn\u001b[39;00m \u001b[43malgorithms\u001b[49m\u001b[38;5;241;43m.\u001b[39;49m\u001b[43mmap_array\u001b[49m\u001b[43m(\u001b[49m\u001b[43marr\u001b[49m\u001b[43m,\u001b[49m\u001b[43m \u001b[49m\u001b[43mmapper\u001b[49m\u001b[43m,\u001b[49m\u001b[43m \u001b[49m\u001b[43mna_action\u001b[49m\u001b[38;5;241;43m=\u001b[39;49m\u001b[43mna_action\u001b[49m\u001b[43m,\u001b[49m\u001b[43m \u001b[49m\u001b[43mconvert\u001b[49m\u001b[38;5;241;43m=\u001b[39;49m\u001b[43mconvert\u001b[49m\u001b[43m)\u001b[49m\n",
      "File \u001b[0;32m~/.local/lib/python3.9/site-packages/pandas/core/algorithms.py:1743\u001b[0m, in \u001b[0;36mmap_array\u001b[0;34m(arr, mapper, na_action, convert)\u001b[0m\n\u001b[1;32m   1741\u001b[0m values \u001b[38;5;241m=\u001b[39m arr\u001b[38;5;241m.\u001b[39mastype(\u001b[38;5;28mobject\u001b[39m, copy\u001b[38;5;241m=\u001b[39m\u001b[38;5;28;01mFalse\u001b[39;00m)\n\u001b[1;32m   1742\u001b[0m \u001b[38;5;28;01mif\u001b[39;00m na_action \u001b[38;5;129;01mis\u001b[39;00m \u001b[38;5;28;01mNone\u001b[39;00m:\n\u001b[0;32m-> 1743\u001b[0m     \u001b[38;5;28;01mreturn\u001b[39;00m \u001b[43mlib\u001b[49m\u001b[38;5;241;43m.\u001b[39;49m\u001b[43mmap_infer\u001b[49m\u001b[43m(\u001b[49m\u001b[43mvalues\u001b[49m\u001b[43m,\u001b[49m\u001b[43m \u001b[49m\u001b[43mmapper\u001b[49m\u001b[43m,\u001b[49m\u001b[43m \u001b[49m\u001b[43mconvert\u001b[49m\u001b[38;5;241;43m=\u001b[39;49m\u001b[43mconvert\u001b[49m\u001b[43m)\u001b[49m\n\u001b[1;32m   1744\u001b[0m \u001b[38;5;28;01melse\u001b[39;00m:\n\u001b[1;32m   1745\u001b[0m     \u001b[38;5;28;01mreturn\u001b[39;00m lib\u001b[38;5;241m.\u001b[39mmap_infer_mask(\n\u001b[1;32m   1746\u001b[0m         values, mapper, mask\u001b[38;5;241m=\u001b[39misna(values)\u001b[38;5;241m.\u001b[39mview(np\u001b[38;5;241m.\u001b[39muint8), convert\u001b[38;5;241m=\u001b[39mconvert\n\u001b[1;32m   1747\u001b[0m     )\n",
      "File \u001b[0;32mlib.pyx:2972\u001b[0m, in \u001b[0;36mpandas._libs.lib.map_infer\u001b[0;34m()\u001b[0m\n",
      "Cell \u001b[0;32mIn [15], line 19\u001b[0m, in \u001b[0;36mcalculate_centroid\u001b[0;34m(texts)\u001b[0m\n\u001b[1;32m     18\u001b[0m \u001b[38;5;28;01mdef\u001b[39;00m \u001b[38;5;21mcalculate_centroid\u001b[39m(texts):\n\u001b[0;32m---> 19\u001b[0m     embeddings \u001b[38;5;241m=\u001b[39m \u001b[43mmodel\u001b[49m\u001b[38;5;241;43m.\u001b[39;49m\u001b[43mencode\u001b[49m\u001b[43m(\u001b[49m\u001b[43mtexts\u001b[49m\u001b[43m)\u001b[49m\n\u001b[1;32m     20\u001b[0m     centroid \u001b[38;5;241m=\u001b[39m np\u001b[38;5;241m.\u001b[39mmean(embeddings, axis\u001b[38;5;241m=\u001b[39m\u001b[38;5;241m0\u001b[39m)\n\u001b[1;32m     21\u001b[0m     \u001b[38;5;28;01mreturn\u001b[39;00m centroid\n",
      "File \u001b[0;32m~/.local/lib/python3.9/site-packages/sentence_transformers/SentenceTransformer.py:485\u001b[0m, in \u001b[0;36mSentenceTransformer.encode\u001b[0;34m(self, sentences, prompt_name, prompt, batch_size, show_progress_bar, output_value, precision, convert_to_numpy, convert_to_tensor, device, normalize_embeddings)\u001b[0m\n\u001b[1;32m    483\u001b[0m \u001b[38;5;28;01mfor\u001b[39;00m start_index \u001b[38;5;129;01min\u001b[39;00m trange(\u001b[38;5;241m0\u001b[39m, \u001b[38;5;28mlen\u001b[39m(sentences), batch_size, desc\u001b[38;5;241m=\u001b[39m\u001b[38;5;124m\"\u001b[39m\u001b[38;5;124mBatches\u001b[39m\u001b[38;5;124m\"\u001b[39m, disable\u001b[38;5;241m=\u001b[39m\u001b[38;5;129;01mnot\u001b[39;00m show_progress_bar):\n\u001b[1;32m    484\u001b[0m     sentences_batch \u001b[38;5;241m=\u001b[39m sentences_sorted[start_index : start_index \u001b[38;5;241m+\u001b[39m batch_size]\n\u001b[0;32m--> 485\u001b[0m     features \u001b[38;5;241m=\u001b[39m \u001b[38;5;28;43mself\u001b[39;49m\u001b[38;5;241;43m.\u001b[39;49m\u001b[43mtokenize\u001b[49m\u001b[43m(\u001b[49m\u001b[43msentences_batch\u001b[49m\u001b[43m)\u001b[49m\n\u001b[1;32m    486\u001b[0m     \u001b[38;5;28;01mif\u001b[39;00m \u001b[38;5;28mself\u001b[39m\u001b[38;5;241m.\u001b[39mdevice\u001b[38;5;241m.\u001b[39mtype \u001b[38;5;241m==\u001b[39m \u001b[38;5;124m\"\u001b[39m\u001b[38;5;124mhpu\u001b[39m\u001b[38;5;124m\"\u001b[39m:\n\u001b[1;32m    487\u001b[0m         \u001b[38;5;28;01mif\u001b[39;00m \u001b[38;5;124m\"\u001b[39m\u001b[38;5;124minput_ids\u001b[39m\u001b[38;5;124m\"\u001b[39m \u001b[38;5;129;01min\u001b[39;00m features:\n",
      "File \u001b[0;32m~/.local/lib/python3.9/site-packages/sentence_transformers/SentenceTransformer.py:922\u001b[0m, in \u001b[0;36mSentenceTransformer.tokenize\u001b[0;34m(self, texts)\u001b[0m\n\u001b[1;32m    911\u001b[0m \u001b[38;5;28;01mdef\u001b[39;00m \u001b[38;5;21mtokenize\u001b[39m(\u001b[38;5;28mself\u001b[39m, texts: Union[List[\u001b[38;5;28mstr\u001b[39m], List[Dict], List[Tuple[\u001b[38;5;28mstr\u001b[39m, \u001b[38;5;28mstr\u001b[39m]]]) \u001b[38;5;241m-\u001b[39m\u001b[38;5;241m>\u001b[39m Dict[\u001b[38;5;28mstr\u001b[39m, Tensor]:\n\u001b[1;32m    912\u001b[0m     \u001b[38;5;124;03m\"\"\"\u001b[39;00m\n\u001b[1;32m    913\u001b[0m \u001b[38;5;124;03m    Tokenizes the texts.\u001b[39;00m\n\u001b[1;32m    914\u001b[0m \n\u001b[0;32m   (...)\u001b[0m\n\u001b[1;32m    920\u001b[0m \u001b[38;5;124;03m            \"attention_mask\", and \"token_type_ids\".\u001b[39;00m\n\u001b[1;32m    921\u001b[0m \u001b[38;5;124;03m    \"\"\"\u001b[39;00m\n\u001b[0;32m--> 922\u001b[0m     \u001b[38;5;28;01mreturn\u001b[39;00m \u001b[38;5;28;43mself\u001b[39;49m\u001b[38;5;241;43m.\u001b[39;49m\u001b[43m_first_module\u001b[49m\u001b[43m(\u001b[49m\u001b[43m)\u001b[49m\u001b[38;5;241;43m.\u001b[39;49m\u001b[43mtokenize\u001b[49m\u001b[43m(\u001b[49m\u001b[43mtexts\u001b[49m\u001b[43m)\u001b[49m\n",
      "File \u001b[0;32m~/.local/lib/python3.9/site-packages/sentence_transformers/models/Transformer.py:166\u001b[0m, in \u001b[0;36mTransformer.tokenize\u001b[0;34m(self, texts, padding)\u001b[0m\n\u001b[1;32m    162\u001b[0m \u001b[38;5;28;01mif\u001b[39;00m \u001b[38;5;28mself\u001b[39m\u001b[38;5;241m.\u001b[39mdo_lower_case:\n\u001b[1;32m    163\u001b[0m     to_tokenize \u001b[38;5;241m=\u001b[39m [[s\u001b[38;5;241m.\u001b[39mlower() \u001b[38;5;28;01mfor\u001b[39;00m s \u001b[38;5;129;01min\u001b[39;00m col] \u001b[38;5;28;01mfor\u001b[39;00m col \u001b[38;5;129;01min\u001b[39;00m to_tokenize]\n\u001b[1;32m    165\u001b[0m output\u001b[38;5;241m.\u001b[39mupdate(\n\u001b[0;32m--> 166\u001b[0m     \u001b[38;5;28;43mself\u001b[39;49m\u001b[38;5;241;43m.\u001b[39;49m\u001b[43mtokenizer\u001b[49m\u001b[43m(\u001b[49m\n\u001b[1;32m    167\u001b[0m \u001b[43m        \u001b[49m\u001b[38;5;241;43m*\u001b[39;49m\u001b[43mto_tokenize\u001b[49m\u001b[43m,\u001b[49m\n\u001b[1;32m    168\u001b[0m \u001b[43m        \u001b[49m\u001b[43mpadding\u001b[49m\u001b[38;5;241;43m=\u001b[39;49m\u001b[43mpadding\u001b[49m\u001b[43m,\u001b[49m\n\u001b[1;32m    169\u001b[0m \u001b[43m        \u001b[49m\u001b[43mtruncation\u001b[49m\u001b[38;5;241;43m=\u001b[39;49m\u001b[38;5;124;43m\"\u001b[39;49m\u001b[38;5;124;43mlongest_first\u001b[39;49m\u001b[38;5;124;43m\"\u001b[39;49m\u001b[43m,\u001b[49m\n\u001b[1;32m    170\u001b[0m \u001b[43m        \u001b[49m\u001b[43mreturn_tensors\u001b[49m\u001b[38;5;241;43m=\u001b[39;49m\u001b[38;5;124;43m\"\u001b[39;49m\u001b[38;5;124;43mpt\u001b[39;49m\u001b[38;5;124;43m\"\u001b[39;49m\u001b[43m,\u001b[49m\n\u001b[1;32m    171\u001b[0m \u001b[43m        \u001b[49m\u001b[43mmax_length\u001b[49m\u001b[38;5;241;43m=\u001b[39;49m\u001b[38;5;28;43mself\u001b[39;49m\u001b[38;5;241;43m.\u001b[39;49m\u001b[43mmax_seq_length\u001b[49m\u001b[43m,\u001b[49m\n\u001b[1;32m    172\u001b[0m \u001b[43m    \u001b[49m\u001b[43m)\u001b[49m\n\u001b[1;32m    173\u001b[0m )\n\u001b[1;32m    174\u001b[0m \u001b[38;5;28;01mreturn\u001b[39;00m output\n",
      "File \u001b[0;32m~/.local/lib/python3.9/site-packages/transformers/tokenization_utils_base.py:2883\u001b[0m, in \u001b[0;36mPreTrainedTokenizerBase.__call__\u001b[0;34m(self, text, text_pair, text_target, text_pair_target, add_special_tokens, padding, truncation, max_length, stride, is_split_into_words, pad_to_multiple_of, return_tensors, return_token_type_ids, return_attention_mask, return_overflowing_tokens, return_special_tokens_mask, return_offsets_mapping, return_length, verbose, **kwargs)\u001b[0m\n\u001b[1;32m   2881\u001b[0m     \u001b[38;5;28;01mif\u001b[39;00m \u001b[38;5;129;01mnot\u001b[39;00m \u001b[38;5;28mself\u001b[39m\u001b[38;5;241m.\u001b[39m_in_target_context_manager:\n\u001b[1;32m   2882\u001b[0m         \u001b[38;5;28mself\u001b[39m\u001b[38;5;241m.\u001b[39m_switch_to_input_mode()\n\u001b[0;32m-> 2883\u001b[0m     encodings \u001b[38;5;241m=\u001b[39m \u001b[38;5;28;43mself\u001b[39;49m\u001b[38;5;241;43m.\u001b[39;49m\u001b[43m_call_one\u001b[49m\u001b[43m(\u001b[49m\u001b[43mtext\u001b[49m\u001b[38;5;241;43m=\u001b[39;49m\u001b[43mtext\u001b[49m\u001b[43m,\u001b[49m\u001b[43m \u001b[49m\u001b[43mtext_pair\u001b[49m\u001b[38;5;241;43m=\u001b[39;49m\u001b[43mtext_pair\u001b[49m\u001b[43m,\u001b[49m\u001b[43m \u001b[49m\u001b[38;5;241;43m*\u001b[39;49m\u001b[38;5;241;43m*\u001b[39;49m\u001b[43mall_kwargs\u001b[49m\u001b[43m)\u001b[49m\n\u001b[1;32m   2884\u001b[0m \u001b[38;5;28;01mif\u001b[39;00m text_target \u001b[38;5;129;01mis\u001b[39;00m \u001b[38;5;129;01mnot\u001b[39;00m \u001b[38;5;28;01mNone\u001b[39;00m:\n\u001b[1;32m   2885\u001b[0m     \u001b[38;5;28mself\u001b[39m\u001b[38;5;241m.\u001b[39m_switch_to_target_mode()\n",
      "File \u001b[0;32m~/.local/lib/python3.9/site-packages/transformers/tokenization_utils_base.py:2969\u001b[0m, in \u001b[0;36mPreTrainedTokenizerBase._call_one\u001b[0;34m(self, text, text_pair, add_special_tokens, padding, truncation, max_length, stride, is_split_into_words, pad_to_multiple_of, return_tensors, return_token_type_ids, return_attention_mask, return_overflowing_tokens, return_special_tokens_mask, return_offsets_mapping, return_length, verbose, **kwargs)\u001b[0m\n\u001b[1;32m   2964\u001b[0m         \u001b[38;5;28;01mraise\u001b[39;00m \u001b[38;5;167;01mValueError\u001b[39;00m(\n\u001b[1;32m   2965\u001b[0m             \u001b[38;5;124mf\u001b[39m\u001b[38;5;124m\"\u001b[39m\u001b[38;5;124mbatch length of `text`: \u001b[39m\u001b[38;5;132;01m{\u001b[39;00m\u001b[38;5;28mlen\u001b[39m(text)\u001b[38;5;132;01m}\u001b[39;00m\u001b[38;5;124m does not match batch length of `text_pair`:\u001b[39m\u001b[38;5;124m\"\u001b[39m\n\u001b[1;32m   2966\u001b[0m             \u001b[38;5;124mf\u001b[39m\u001b[38;5;124m\"\u001b[39m\u001b[38;5;124m \u001b[39m\u001b[38;5;132;01m{\u001b[39;00m\u001b[38;5;28mlen\u001b[39m(text_pair)\u001b[38;5;132;01m}\u001b[39;00m\u001b[38;5;124m.\u001b[39m\u001b[38;5;124m\"\u001b[39m\n\u001b[1;32m   2967\u001b[0m         )\n\u001b[1;32m   2968\u001b[0m     batch_text_or_text_pairs \u001b[38;5;241m=\u001b[39m \u001b[38;5;28mlist\u001b[39m(\u001b[38;5;28mzip\u001b[39m(text, text_pair)) \u001b[38;5;28;01mif\u001b[39;00m text_pair \u001b[38;5;129;01mis\u001b[39;00m \u001b[38;5;129;01mnot\u001b[39;00m \u001b[38;5;28;01mNone\u001b[39;00m \u001b[38;5;28;01melse\u001b[39;00m text\n\u001b[0;32m-> 2969\u001b[0m     \u001b[38;5;28;01mreturn\u001b[39;00m \u001b[38;5;28;43mself\u001b[39;49m\u001b[38;5;241;43m.\u001b[39;49m\u001b[43mbatch_encode_plus\u001b[49m\u001b[43m(\u001b[49m\n\u001b[1;32m   2970\u001b[0m \u001b[43m        \u001b[49m\u001b[43mbatch_text_or_text_pairs\u001b[49m\u001b[38;5;241;43m=\u001b[39;49m\u001b[43mbatch_text_or_text_pairs\u001b[49m\u001b[43m,\u001b[49m\n\u001b[1;32m   2971\u001b[0m \u001b[43m        \u001b[49m\u001b[43madd_special_tokens\u001b[49m\u001b[38;5;241;43m=\u001b[39;49m\u001b[43madd_special_tokens\u001b[49m\u001b[43m,\u001b[49m\n\u001b[1;32m   2972\u001b[0m \u001b[43m        \u001b[49m\u001b[43mpadding\u001b[49m\u001b[38;5;241;43m=\u001b[39;49m\u001b[43mpadding\u001b[49m\u001b[43m,\u001b[49m\n\u001b[1;32m   2973\u001b[0m \u001b[43m        \u001b[49m\u001b[43mtruncation\u001b[49m\u001b[38;5;241;43m=\u001b[39;49m\u001b[43mtruncation\u001b[49m\u001b[43m,\u001b[49m\n\u001b[1;32m   2974\u001b[0m \u001b[43m        \u001b[49m\u001b[43mmax_length\u001b[49m\u001b[38;5;241;43m=\u001b[39;49m\u001b[43mmax_length\u001b[49m\u001b[43m,\u001b[49m\n\u001b[1;32m   2975\u001b[0m \u001b[43m        \u001b[49m\u001b[43mstride\u001b[49m\u001b[38;5;241;43m=\u001b[39;49m\u001b[43mstride\u001b[49m\u001b[43m,\u001b[49m\n\u001b[1;32m   2976\u001b[0m \u001b[43m        \u001b[49m\u001b[43mis_split_into_words\u001b[49m\u001b[38;5;241;43m=\u001b[39;49m\u001b[43mis_split_into_words\u001b[49m\u001b[43m,\u001b[49m\n\u001b[1;32m   2977\u001b[0m \u001b[43m        \u001b[49m\u001b[43mpad_to_multiple_of\u001b[49m\u001b[38;5;241;43m=\u001b[39;49m\u001b[43mpad_to_multiple_of\u001b[49m\u001b[43m,\u001b[49m\n\u001b[1;32m   2978\u001b[0m \u001b[43m        \u001b[49m\u001b[43mreturn_tensors\u001b[49m\u001b[38;5;241;43m=\u001b[39;49m\u001b[43mreturn_tensors\u001b[49m\u001b[43m,\u001b[49m\n\u001b[1;32m   2979\u001b[0m \u001b[43m        \u001b[49m\u001b[43mreturn_token_type_ids\u001b[49m\u001b[38;5;241;43m=\u001b[39;49m\u001b[43mreturn_token_type_ids\u001b[49m\u001b[43m,\u001b[49m\n\u001b[1;32m   2980\u001b[0m \u001b[43m        \u001b[49m\u001b[43mreturn_attention_mask\u001b[49m\u001b[38;5;241;43m=\u001b[39;49m\u001b[43mreturn_attention_mask\u001b[49m\u001b[43m,\u001b[49m\n\u001b[1;32m   2981\u001b[0m \u001b[43m        \u001b[49m\u001b[43mreturn_overflowing_tokens\u001b[49m\u001b[38;5;241;43m=\u001b[39;49m\u001b[43mreturn_overflowing_tokens\u001b[49m\u001b[43m,\u001b[49m\n\u001b[1;32m   2982\u001b[0m \u001b[43m        \u001b[49m\u001b[43mreturn_special_tokens_mask\u001b[49m\u001b[38;5;241;43m=\u001b[39;49m\u001b[43mreturn_special_tokens_mask\u001b[49m\u001b[43m,\u001b[49m\n\u001b[1;32m   2983\u001b[0m \u001b[43m        \u001b[49m\u001b[43mreturn_offsets_mapping\u001b[49m\u001b[38;5;241;43m=\u001b[39;49m\u001b[43mreturn_offsets_mapping\u001b[49m\u001b[43m,\u001b[49m\n\u001b[1;32m   2984\u001b[0m \u001b[43m        \u001b[49m\u001b[43mreturn_length\u001b[49m\u001b[38;5;241;43m=\u001b[39;49m\u001b[43mreturn_length\u001b[49m\u001b[43m,\u001b[49m\n\u001b[1;32m   2985\u001b[0m \u001b[43m        \u001b[49m\u001b[43mverbose\u001b[49m\u001b[38;5;241;43m=\u001b[39;49m\u001b[43mverbose\u001b[49m\u001b[43m,\u001b[49m\n\u001b[1;32m   2986\u001b[0m \u001b[43m        \u001b[49m\u001b[38;5;241;43m*\u001b[39;49m\u001b[38;5;241;43m*\u001b[39;49m\u001b[43mkwargs\u001b[49m\u001b[43m,\u001b[49m\n\u001b[1;32m   2987\u001b[0m \u001b[43m    \u001b[49m\u001b[43m)\u001b[49m\n\u001b[1;32m   2988\u001b[0m \u001b[38;5;28;01melse\u001b[39;00m:\n\u001b[1;32m   2989\u001b[0m     \u001b[38;5;28;01mreturn\u001b[39;00m \u001b[38;5;28mself\u001b[39m\u001b[38;5;241m.\u001b[39mencode_plus(\n\u001b[1;32m   2990\u001b[0m         text\u001b[38;5;241m=\u001b[39mtext,\n\u001b[1;32m   2991\u001b[0m         text_pair\u001b[38;5;241m=\u001b[39mtext_pair,\n\u001b[0;32m   (...)\u001b[0m\n\u001b[1;32m   3007\u001b[0m         \u001b[38;5;241m*\u001b[39m\u001b[38;5;241m*\u001b[39mkwargs,\n\u001b[1;32m   3008\u001b[0m     )\n",
      "File \u001b[0;32m~/.local/lib/python3.9/site-packages/transformers/tokenization_utils_base.py:3160\u001b[0m, in \u001b[0;36mPreTrainedTokenizerBase.batch_encode_plus\u001b[0;34m(self, batch_text_or_text_pairs, add_special_tokens, padding, truncation, max_length, stride, is_split_into_words, pad_to_multiple_of, return_tensors, return_token_type_ids, return_attention_mask, return_overflowing_tokens, return_special_tokens_mask, return_offsets_mapping, return_length, verbose, **kwargs)\u001b[0m\n\u001b[1;32m   3150\u001b[0m \u001b[38;5;66;03m# Backward compatibility for 'truncation_strategy', 'pad_to_max_length'\u001b[39;00m\n\u001b[1;32m   3151\u001b[0m padding_strategy, truncation_strategy, max_length, kwargs \u001b[38;5;241m=\u001b[39m \u001b[38;5;28mself\u001b[39m\u001b[38;5;241m.\u001b[39m_get_padding_truncation_strategies(\n\u001b[1;32m   3152\u001b[0m     padding\u001b[38;5;241m=\u001b[39mpadding,\n\u001b[1;32m   3153\u001b[0m     truncation\u001b[38;5;241m=\u001b[39mtruncation,\n\u001b[0;32m   (...)\u001b[0m\n\u001b[1;32m   3157\u001b[0m     \u001b[38;5;241m*\u001b[39m\u001b[38;5;241m*\u001b[39mkwargs,\n\u001b[1;32m   3158\u001b[0m )\n\u001b[0;32m-> 3160\u001b[0m \u001b[38;5;28;01mreturn\u001b[39;00m \u001b[38;5;28;43mself\u001b[39;49m\u001b[38;5;241;43m.\u001b[39;49m\u001b[43m_batch_encode_plus\u001b[49m\u001b[43m(\u001b[49m\n\u001b[1;32m   3161\u001b[0m \u001b[43m    \u001b[49m\u001b[43mbatch_text_or_text_pairs\u001b[49m\u001b[38;5;241;43m=\u001b[39;49m\u001b[43mbatch_text_or_text_pairs\u001b[49m\u001b[43m,\u001b[49m\n\u001b[1;32m   3162\u001b[0m \u001b[43m    \u001b[49m\u001b[43madd_special_tokens\u001b[49m\u001b[38;5;241;43m=\u001b[39;49m\u001b[43madd_special_tokens\u001b[49m\u001b[43m,\u001b[49m\n\u001b[1;32m   3163\u001b[0m \u001b[43m    \u001b[49m\u001b[43mpadding_strategy\u001b[49m\u001b[38;5;241;43m=\u001b[39;49m\u001b[43mpadding_strategy\u001b[49m\u001b[43m,\u001b[49m\n\u001b[1;32m   3164\u001b[0m \u001b[43m    \u001b[49m\u001b[43mtruncation_strategy\u001b[49m\u001b[38;5;241;43m=\u001b[39;49m\u001b[43mtruncation_strategy\u001b[49m\u001b[43m,\u001b[49m\n\u001b[1;32m   3165\u001b[0m \u001b[43m    \u001b[49m\u001b[43mmax_length\u001b[49m\u001b[38;5;241;43m=\u001b[39;49m\u001b[43mmax_length\u001b[49m\u001b[43m,\u001b[49m\n\u001b[1;32m   3166\u001b[0m \u001b[43m    \u001b[49m\u001b[43mstride\u001b[49m\u001b[38;5;241;43m=\u001b[39;49m\u001b[43mstride\u001b[49m\u001b[43m,\u001b[49m\n\u001b[1;32m   3167\u001b[0m \u001b[43m    \u001b[49m\u001b[43mis_split_into_words\u001b[49m\u001b[38;5;241;43m=\u001b[39;49m\u001b[43mis_split_into_words\u001b[49m\u001b[43m,\u001b[49m\n\u001b[1;32m   3168\u001b[0m \u001b[43m    \u001b[49m\u001b[43mpad_to_multiple_of\u001b[49m\u001b[38;5;241;43m=\u001b[39;49m\u001b[43mpad_to_multiple_of\u001b[49m\u001b[43m,\u001b[49m\n\u001b[1;32m   3169\u001b[0m \u001b[43m    \u001b[49m\u001b[43mreturn_tensors\u001b[49m\u001b[38;5;241;43m=\u001b[39;49m\u001b[43mreturn_tensors\u001b[49m\u001b[43m,\u001b[49m\n\u001b[1;32m   3170\u001b[0m \u001b[43m    \u001b[49m\u001b[43mreturn_token_type_ids\u001b[49m\u001b[38;5;241;43m=\u001b[39;49m\u001b[43mreturn_token_type_ids\u001b[49m\u001b[43m,\u001b[49m\n\u001b[1;32m   3171\u001b[0m \u001b[43m    \u001b[49m\u001b[43mreturn_attention_mask\u001b[49m\u001b[38;5;241;43m=\u001b[39;49m\u001b[43mreturn_attention_mask\u001b[49m\u001b[43m,\u001b[49m\n\u001b[1;32m   3172\u001b[0m \u001b[43m    \u001b[49m\u001b[43mreturn_overflowing_tokens\u001b[49m\u001b[38;5;241;43m=\u001b[39;49m\u001b[43mreturn_overflowing_tokens\u001b[49m\u001b[43m,\u001b[49m\n\u001b[1;32m   3173\u001b[0m \u001b[43m    \u001b[49m\u001b[43mreturn_special_tokens_mask\u001b[49m\u001b[38;5;241;43m=\u001b[39;49m\u001b[43mreturn_special_tokens_mask\u001b[49m\u001b[43m,\u001b[49m\n\u001b[1;32m   3174\u001b[0m \u001b[43m    \u001b[49m\u001b[43mreturn_offsets_mapping\u001b[49m\u001b[38;5;241;43m=\u001b[39;49m\u001b[43mreturn_offsets_mapping\u001b[49m\u001b[43m,\u001b[49m\n\u001b[1;32m   3175\u001b[0m \u001b[43m    \u001b[49m\u001b[43mreturn_length\u001b[49m\u001b[38;5;241;43m=\u001b[39;49m\u001b[43mreturn_length\u001b[49m\u001b[43m,\u001b[49m\n\u001b[1;32m   3176\u001b[0m \u001b[43m    \u001b[49m\u001b[43mverbose\u001b[49m\u001b[38;5;241;43m=\u001b[39;49m\u001b[43mverbose\u001b[49m\u001b[43m,\u001b[49m\n\u001b[1;32m   3177\u001b[0m \u001b[43m    \u001b[49m\u001b[38;5;241;43m*\u001b[39;49m\u001b[38;5;241;43m*\u001b[39;49m\u001b[43mkwargs\u001b[49m\u001b[43m,\u001b[49m\n\u001b[1;32m   3178\u001b[0m \u001b[43m\u001b[49m\u001b[43m)\u001b[49m\n",
      "File \u001b[0;32m~/.local/lib/python3.9/site-packages/transformers/tokenization_utils_fast.py:511\u001b[0m, in \u001b[0;36mPreTrainedTokenizerFast._batch_encode_plus\u001b[0;34m(self, batch_text_or_text_pairs, add_special_tokens, padding_strategy, truncation_strategy, max_length, stride, is_split_into_words, pad_to_multiple_of, return_tensors, return_token_type_ids, return_attention_mask, return_overflowing_tokens, return_special_tokens_mask, return_offsets_mapping, return_length, verbose)\u001b[0m\n\u001b[1;32m    502\u001b[0m \u001b[38;5;66;03m# Set the truncation and padding strategy and restore the initial configuration\u001b[39;00m\n\u001b[1;32m    503\u001b[0m \u001b[38;5;28mself\u001b[39m\u001b[38;5;241m.\u001b[39mset_truncation_and_padding(\n\u001b[1;32m    504\u001b[0m     padding_strategy\u001b[38;5;241m=\u001b[39mpadding_strategy,\n\u001b[1;32m    505\u001b[0m     truncation_strategy\u001b[38;5;241m=\u001b[39mtruncation_strategy,\n\u001b[0;32m   (...)\u001b[0m\n\u001b[1;32m    508\u001b[0m     pad_to_multiple_of\u001b[38;5;241m=\u001b[39mpad_to_multiple_of,\n\u001b[1;32m    509\u001b[0m )\n\u001b[0;32m--> 511\u001b[0m encodings \u001b[38;5;241m=\u001b[39m \u001b[38;5;28;43mself\u001b[39;49m\u001b[38;5;241;43m.\u001b[39;49m\u001b[43m_tokenizer\u001b[49m\u001b[38;5;241;43m.\u001b[39;49m\u001b[43mencode_batch\u001b[49m\u001b[43m(\u001b[49m\n\u001b[1;32m    512\u001b[0m \u001b[43m    \u001b[49m\u001b[43mbatch_text_or_text_pairs\u001b[49m\u001b[43m,\u001b[49m\n\u001b[1;32m    513\u001b[0m \u001b[43m    \u001b[49m\u001b[43madd_special_tokens\u001b[49m\u001b[38;5;241;43m=\u001b[39;49m\u001b[43madd_special_tokens\u001b[49m\u001b[43m,\u001b[49m\n\u001b[1;32m    514\u001b[0m \u001b[43m    \u001b[49m\u001b[43mis_pretokenized\u001b[49m\u001b[38;5;241;43m=\u001b[39;49m\u001b[43mis_split_into_words\u001b[49m\u001b[43m,\u001b[49m\n\u001b[1;32m    515\u001b[0m \u001b[43m\u001b[49m\u001b[43m)\u001b[49m\n\u001b[1;32m    517\u001b[0m \u001b[38;5;66;03m# Convert encoding to dict\u001b[39;00m\n\u001b[1;32m    518\u001b[0m \u001b[38;5;66;03m# `Tokens` has type: Tuple[\u001b[39;00m\n\u001b[1;32m    519\u001b[0m \u001b[38;5;66;03m#                       List[Dict[str, List[List[int]]]] or List[Dict[str, 2D-Tensor]],\u001b[39;00m\n\u001b[1;32m    520\u001b[0m \u001b[38;5;66;03m#                       List[EncodingFast]\u001b[39;00m\n\u001b[1;32m    521\u001b[0m \u001b[38;5;66;03m#                    ]\u001b[39;00m\n\u001b[1;32m    522\u001b[0m \u001b[38;5;66;03m# with nested dimensions corresponding to batch, overflows, sequence length\u001b[39;00m\n\u001b[1;32m    523\u001b[0m tokens_and_encodings \u001b[38;5;241m=\u001b[39m [\n\u001b[1;32m    524\u001b[0m     \u001b[38;5;28mself\u001b[39m\u001b[38;5;241m.\u001b[39m_convert_encoding(\n\u001b[1;32m    525\u001b[0m         encoding\u001b[38;5;241m=\u001b[39mencoding,\n\u001b[0;32m   (...)\u001b[0m\n\u001b[1;32m    534\u001b[0m     \u001b[38;5;28;01mfor\u001b[39;00m encoding \u001b[38;5;129;01min\u001b[39;00m encodings\n\u001b[1;32m    535\u001b[0m ]\n",
      "\u001b[0;31mKeyboardInterrupt\u001b[0m: "
     ]
    }
   ],
   "source": [
    "import pandas as pd\n",
    "from sentence_transformers import SentenceTransformer\n",
    "import numpy as np\n",
    "from sklearn.metrics.pairwise import euclidean_distances\n",
    "import plotly.express as px\n",
    "import plotly.io as pio\n",
    "\n",
    "# Load the datasets\n",
    "second_step = pd.read_csv('First_Step_BERTopic_topic_info_labelled.csv')\n",
    "bertopic_result = pd.read_csv('First_Step_BERTopic_result.csv')\n",
    "\n",
    "# Initialize the sentence transformer model\n",
    "model = SentenceTransformer('sentence-transformers/all-MiniLM-L6-v2')\n",
    "\n",
    "# Group by Topic and calculate centroids of text embeddings\n",
    "grouped = bertopic_result.groupby('Topic Label')['text'].apply(list).reset_index()\n",
    "\n",
    "def calculate_centroid(texts):\n",
    "    embeddings = model.encode(texts)\n",
    "    centroid = np.mean(embeddings, axis=0)\n",
    "    return centroid\n",
    "\n",
    "grouped['centroid'] = grouped['text'].apply(calculate_centroid)\n",
    "\n",
    "# Calculate embeddings for Human_Readable_Topic in the second dataset\n",
    "second_step['Human_Readable_Topic_embedding'] = second_step['Human_Readable_Topic'].apply(lambda x: model.encode(x))\n",
    "\n",
    "# Prepare to compare all centroids with all Human_Readable_Topic embeddings\n",
    "centroids = grouped[['Topic Label', 'centroid']]\n",
    "human_readable_embeddings = second_step[['Human_Readable_Topic', 'Human_Readable_Topic_embedding']]\n",
    "\n",
    "# Initialize a matrix to store the pairwise Euclidean distances\n",
    "distance_matrix = np.zeros((len(human_readable_embeddings), len(centroids)))\n",
    "\n",
    "# Calculate the Euclidean distance for each pair (Human Readable Topic vs. Topic Centroid)\n",
    "for i, hr_embedding in enumerate(human_readable_embeddings['Human_Readable_Topic_embedding']):\n",
    "    for j, centroid in enumerate(centroids['centroid']):\n",
    "        distance = euclidean_distances([hr_embedding], [centroid])[0][0]\n",
    "        distance_matrix[i, j] = distance\n",
    "\n",
    "# Convert the distance matrix to a DataFrame for better readability\n",
    "distance_df = pd.DataFrame(distance_matrix, \n",
    "                           index=human_readable_embeddings['Human_Readable_Topic'], \n",
    "                           columns=centroids['Topic Label'])\n",
    "\n",
    "# Save the distance DataFrame to a CSV file\n",
    "distance_df.to_csv('pairwise_distance_second_step_matrix.csv', index=True)\n",
    "\n",
    "# Create an interactive heatmap with a new color scale\n",
    "fig = px.imshow(distance_df,\n",
    "                labels=dict(x=\"Topic Centroids\", y=\"Human Readable Topics\", color=\"Euclidean Distance\"),\n",
    "                x=centroids['Topic Label'],\n",
    "                y=human_readable_embeddings['Human_Readable_Topic'],\n",
    "                color_continuous_scale='plasma',  # Changed color scale to 'plasma'\n",
    "                text_auto=True)\n",
    "\n",
    "# Adjust layout and ensure visibility\n",
    "fig.update_layout(title='Pairwise Distance Matrix Heatmap',\n",
    "                  xaxis_title='Topic Centroids',\n",
    "                  yaxis_title='Human Readable Topics',\n",
    "                  width=3500,\n",
    "                  height=3500,\n",
    "                  font=dict(size=10))  # Adjust font size here if needed\n",
    "\n",
    "# Update y-axis layout to ensure all labels are visible\n",
    "fig.update_yaxes(automargin=True,\n",
    "                 tickangle=0,  # Adjust the angle of y-axis labels\n",
    "                 tickfont=dict(size=5))  # Adjust the font size of y-axis labels\n",
    "\n",
    "# Save the figure as an interactive HTML file\n",
    "pio.write_html(fig, file='pairwise_distance_heatmap.html', auto_open=False)\n",
    "\n",
    "# Save the figure as a static image (e.g., PNG)\n",
    "pio.write_image(fig, file='pairwise_distance_heatmap.png', format='png', width=3500, height=3500)\n",
    "\n",
    "# Display the heatmap\n",
    "fig.show()\n"
   ]
  },
  {
   "cell_type": "code",
   "execution_count": 1,
   "id": "7dead8e0-0767-48a8-aa84-b5a94608c430",
   "metadata": {},
   "outputs": [
    {
     "name": "stderr",
     "output_type": "stream",
     "text": [
      "/home/yc656703/.local/lib/python3.9/site-packages/sentence_transformers/cross_encoder/CrossEncoder.py:11: TqdmExperimentalWarning: Using `tqdm.autonotebook.tqdm` in notebook mode. Use `tqdm.tqdm` instead to force console mode (e.g. in jupyter console)\n",
      "  from tqdm.autonotebook import tqdm, trange\n"
     ]
    },
    {
     "ename": "FileNotFoundError",
     "evalue": "[Errno 2] No such file or directory: 'First_Step_BERTopic_topic_info_labelled.csv'",
     "output_type": "error",
     "traceback": [
      "\u001b[0;31m---------------------------------------------------------------------------\u001b[0m",
      "\u001b[0;31mFileNotFoundError\u001b[0m                         Traceback (most recent call last)",
      "Cell \u001b[0;32mIn [1], line 9\u001b[0m\n\u001b[1;32m      6\u001b[0m \u001b[38;5;28;01mimport\u001b[39;00m \u001b[38;5;21;01mplotly\u001b[39;00m\u001b[38;5;21;01m.\u001b[39;00m\u001b[38;5;21;01mio\u001b[39;00m \u001b[38;5;28;01mas\u001b[39;00m \u001b[38;5;21;01mpio\u001b[39;00m\n\u001b[1;32m      8\u001b[0m \u001b[38;5;66;03m# Load the datasets\u001b[39;00m\n\u001b[0;32m----> 9\u001b[0m second_step \u001b[38;5;241m=\u001b[39m \u001b[43mpd\u001b[49m\u001b[38;5;241;43m.\u001b[39;49m\u001b[43mread_csv\u001b[49m\u001b[43m(\u001b[49m\u001b[38;5;124;43m'\u001b[39;49m\u001b[38;5;124;43mFirst_Step_BERTopic_topic_info_labelled.csv\u001b[39;49m\u001b[38;5;124;43m'\u001b[39;49m\u001b[43m)\u001b[49m\n\u001b[1;32m     10\u001b[0m bertopic_result \u001b[38;5;241m=\u001b[39m pd\u001b[38;5;241m.\u001b[39mread_csv(\u001b[38;5;124m'\u001b[39m\u001b[38;5;124mFirst_Step_BERTopic_result.csv\u001b[39m\u001b[38;5;124m'\u001b[39m)\n\u001b[1;32m     12\u001b[0m \u001b[38;5;66;03m# Initialize the sentence transformer model\u001b[39;00m\n",
      "File \u001b[0;32m~/.local/lib/python3.9/site-packages/pandas/io/parsers/readers.py:1026\u001b[0m, in \u001b[0;36mread_csv\u001b[0;34m(filepath_or_buffer, sep, delimiter, header, names, index_col, usecols, dtype, engine, converters, true_values, false_values, skipinitialspace, skiprows, skipfooter, nrows, na_values, keep_default_na, na_filter, verbose, skip_blank_lines, parse_dates, infer_datetime_format, keep_date_col, date_parser, date_format, dayfirst, cache_dates, iterator, chunksize, compression, thousands, decimal, lineterminator, quotechar, quoting, doublequote, escapechar, comment, encoding, encoding_errors, dialect, on_bad_lines, delim_whitespace, low_memory, memory_map, float_precision, storage_options, dtype_backend)\u001b[0m\n\u001b[1;32m   1013\u001b[0m kwds_defaults \u001b[38;5;241m=\u001b[39m _refine_defaults_read(\n\u001b[1;32m   1014\u001b[0m     dialect,\n\u001b[1;32m   1015\u001b[0m     delimiter,\n\u001b[0;32m   (...)\u001b[0m\n\u001b[1;32m   1022\u001b[0m     dtype_backend\u001b[38;5;241m=\u001b[39mdtype_backend,\n\u001b[1;32m   1023\u001b[0m )\n\u001b[1;32m   1024\u001b[0m kwds\u001b[38;5;241m.\u001b[39mupdate(kwds_defaults)\n\u001b[0;32m-> 1026\u001b[0m \u001b[38;5;28;01mreturn\u001b[39;00m \u001b[43m_read\u001b[49m\u001b[43m(\u001b[49m\u001b[43mfilepath_or_buffer\u001b[49m\u001b[43m,\u001b[49m\u001b[43m \u001b[49m\u001b[43mkwds\u001b[49m\u001b[43m)\u001b[49m\n",
      "File \u001b[0;32m~/.local/lib/python3.9/site-packages/pandas/io/parsers/readers.py:620\u001b[0m, in \u001b[0;36m_read\u001b[0;34m(filepath_or_buffer, kwds)\u001b[0m\n\u001b[1;32m    617\u001b[0m _validate_names(kwds\u001b[38;5;241m.\u001b[39mget(\u001b[38;5;124m\"\u001b[39m\u001b[38;5;124mnames\u001b[39m\u001b[38;5;124m\"\u001b[39m, \u001b[38;5;28;01mNone\u001b[39;00m))\n\u001b[1;32m    619\u001b[0m \u001b[38;5;66;03m# Create the parser.\u001b[39;00m\n\u001b[0;32m--> 620\u001b[0m parser \u001b[38;5;241m=\u001b[39m \u001b[43mTextFileReader\u001b[49m\u001b[43m(\u001b[49m\u001b[43mfilepath_or_buffer\u001b[49m\u001b[43m,\u001b[49m\u001b[43m \u001b[49m\u001b[38;5;241;43m*\u001b[39;49m\u001b[38;5;241;43m*\u001b[39;49m\u001b[43mkwds\u001b[49m\u001b[43m)\u001b[49m\n\u001b[1;32m    622\u001b[0m \u001b[38;5;28;01mif\u001b[39;00m chunksize \u001b[38;5;129;01mor\u001b[39;00m iterator:\n\u001b[1;32m    623\u001b[0m     \u001b[38;5;28;01mreturn\u001b[39;00m parser\n",
      "File \u001b[0;32m~/.local/lib/python3.9/site-packages/pandas/io/parsers/readers.py:1620\u001b[0m, in \u001b[0;36mTextFileReader.__init__\u001b[0;34m(self, f, engine, **kwds)\u001b[0m\n\u001b[1;32m   1617\u001b[0m     \u001b[38;5;28mself\u001b[39m\u001b[38;5;241m.\u001b[39moptions[\u001b[38;5;124m\"\u001b[39m\u001b[38;5;124mhas_index_names\u001b[39m\u001b[38;5;124m\"\u001b[39m] \u001b[38;5;241m=\u001b[39m kwds[\u001b[38;5;124m\"\u001b[39m\u001b[38;5;124mhas_index_names\u001b[39m\u001b[38;5;124m\"\u001b[39m]\n\u001b[1;32m   1619\u001b[0m \u001b[38;5;28mself\u001b[39m\u001b[38;5;241m.\u001b[39mhandles: IOHandles \u001b[38;5;241m|\u001b[39m \u001b[38;5;28;01mNone\u001b[39;00m \u001b[38;5;241m=\u001b[39m \u001b[38;5;28;01mNone\u001b[39;00m\n\u001b[0;32m-> 1620\u001b[0m \u001b[38;5;28mself\u001b[39m\u001b[38;5;241m.\u001b[39m_engine \u001b[38;5;241m=\u001b[39m \u001b[38;5;28;43mself\u001b[39;49m\u001b[38;5;241;43m.\u001b[39;49m\u001b[43m_make_engine\u001b[49m\u001b[43m(\u001b[49m\u001b[43mf\u001b[49m\u001b[43m,\u001b[49m\u001b[43m \u001b[49m\u001b[38;5;28;43mself\u001b[39;49m\u001b[38;5;241;43m.\u001b[39;49m\u001b[43mengine\u001b[49m\u001b[43m)\u001b[49m\n",
      "File \u001b[0;32m~/.local/lib/python3.9/site-packages/pandas/io/parsers/readers.py:1880\u001b[0m, in \u001b[0;36mTextFileReader._make_engine\u001b[0;34m(self, f, engine)\u001b[0m\n\u001b[1;32m   1878\u001b[0m     \u001b[38;5;28;01mif\u001b[39;00m \u001b[38;5;124m\"\u001b[39m\u001b[38;5;124mb\u001b[39m\u001b[38;5;124m\"\u001b[39m \u001b[38;5;129;01mnot\u001b[39;00m \u001b[38;5;129;01min\u001b[39;00m mode:\n\u001b[1;32m   1879\u001b[0m         mode \u001b[38;5;241m+\u001b[39m\u001b[38;5;241m=\u001b[39m \u001b[38;5;124m\"\u001b[39m\u001b[38;5;124mb\u001b[39m\u001b[38;5;124m\"\u001b[39m\n\u001b[0;32m-> 1880\u001b[0m \u001b[38;5;28mself\u001b[39m\u001b[38;5;241m.\u001b[39mhandles \u001b[38;5;241m=\u001b[39m \u001b[43mget_handle\u001b[49m\u001b[43m(\u001b[49m\n\u001b[1;32m   1881\u001b[0m \u001b[43m    \u001b[49m\u001b[43mf\u001b[49m\u001b[43m,\u001b[49m\n\u001b[1;32m   1882\u001b[0m \u001b[43m    \u001b[49m\u001b[43mmode\u001b[49m\u001b[43m,\u001b[49m\n\u001b[1;32m   1883\u001b[0m \u001b[43m    \u001b[49m\u001b[43mencoding\u001b[49m\u001b[38;5;241;43m=\u001b[39;49m\u001b[38;5;28;43mself\u001b[39;49m\u001b[38;5;241;43m.\u001b[39;49m\u001b[43moptions\u001b[49m\u001b[38;5;241;43m.\u001b[39;49m\u001b[43mget\u001b[49m\u001b[43m(\u001b[49m\u001b[38;5;124;43m\"\u001b[39;49m\u001b[38;5;124;43mencoding\u001b[39;49m\u001b[38;5;124;43m\"\u001b[39;49m\u001b[43m,\u001b[49m\u001b[43m \u001b[49m\u001b[38;5;28;43;01mNone\u001b[39;49;00m\u001b[43m)\u001b[49m\u001b[43m,\u001b[49m\n\u001b[1;32m   1884\u001b[0m \u001b[43m    \u001b[49m\u001b[43mcompression\u001b[49m\u001b[38;5;241;43m=\u001b[39;49m\u001b[38;5;28;43mself\u001b[39;49m\u001b[38;5;241;43m.\u001b[39;49m\u001b[43moptions\u001b[49m\u001b[38;5;241;43m.\u001b[39;49m\u001b[43mget\u001b[49m\u001b[43m(\u001b[49m\u001b[38;5;124;43m\"\u001b[39;49m\u001b[38;5;124;43mcompression\u001b[39;49m\u001b[38;5;124;43m\"\u001b[39;49m\u001b[43m,\u001b[49m\u001b[43m \u001b[49m\u001b[38;5;28;43;01mNone\u001b[39;49;00m\u001b[43m)\u001b[49m\u001b[43m,\u001b[49m\n\u001b[1;32m   1885\u001b[0m \u001b[43m    \u001b[49m\u001b[43mmemory_map\u001b[49m\u001b[38;5;241;43m=\u001b[39;49m\u001b[38;5;28;43mself\u001b[39;49m\u001b[38;5;241;43m.\u001b[39;49m\u001b[43moptions\u001b[49m\u001b[38;5;241;43m.\u001b[39;49m\u001b[43mget\u001b[49m\u001b[43m(\u001b[49m\u001b[38;5;124;43m\"\u001b[39;49m\u001b[38;5;124;43mmemory_map\u001b[39;49m\u001b[38;5;124;43m\"\u001b[39;49m\u001b[43m,\u001b[49m\u001b[43m \u001b[49m\u001b[38;5;28;43;01mFalse\u001b[39;49;00m\u001b[43m)\u001b[49m\u001b[43m,\u001b[49m\n\u001b[1;32m   1886\u001b[0m \u001b[43m    \u001b[49m\u001b[43mis_text\u001b[49m\u001b[38;5;241;43m=\u001b[39;49m\u001b[43mis_text\u001b[49m\u001b[43m,\u001b[49m\n\u001b[1;32m   1887\u001b[0m \u001b[43m    \u001b[49m\u001b[43merrors\u001b[49m\u001b[38;5;241;43m=\u001b[39;49m\u001b[38;5;28;43mself\u001b[39;49m\u001b[38;5;241;43m.\u001b[39;49m\u001b[43moptions\u001b[49m\u001b[38;5;241;43m.\u001b[39;49m\u001b[43mget\u001b[49m\u001b[43m(\u001b[49m\u001b[38;5;124;43m\"\u001b[39;49m\u001b[38;5;124;43mencoding_errors\u001b[39;49m\u001b[38;5;124;43m\"\u001b[39;49m\u001b[43m,\u001b[49m\u001b[43m \u001b[49m\u001b[38;5;124;43m\"\u001b[39;49m\u001b[38;5;124;43mstrict\u001b[39;49m\u001b[38;5;124;43m\"\u001b[39;49m\u001b[43m)\u001b[49m\u001b[43m,\u001b[49m\n\u001b[1;32m   1888\u001b[0m \u001b[43m    \u001b[49m\u001b[43mstorage_options\u001b[49m\u001b[38;5;241;43m=\u001b[39;49m\u001b[38;5;28;43mself\u001b[39;49m\u001b[38;5;241;43m.\u001b[39;49m\u001b[43moptions\u001b[49m\u001b[38;5;241;43m.\u001b[39;49m\u001b[43mget\u001b[49m\u001b[43m(\u001b[49m\u001b[38;5;124;43m\"\u001b[39;49m\u001b[38;5;124;43mstorage_options\u001b[39;49m\u001b[38;5;124;43m\"\u001b[39;49m\u001b[43m,\u001b[49m\u001b[43m \u001b[49m\u001b[38;5;28;43;01mNone\u001b[39;49;00m\u001b[43m)\u001b[49m\u001b[43m,\u001b[49m\n\u001b[1;32m   1889\u001b[0m \u001b[43m\u001b[49m\u001b[43m)\u001b[49m\n\u001b[1;32m   1890\u001b[0m \u001b[38;5;28;01massert\u001b[39;00m \u001b[38;5;28mself\u001b[39m\u001b[38;5;241m.\u001b[39mhandles \u001b[38;5;129;01mis\u001b[39;00m \u001b[38;5;129;01mnot\u001b[39;00m \u001b[38;5;28;01mNone\u001b[39;00m\n\u001b[1;32m   1891\u001b[0m f \u001b[38;5;241m=\u001b[39m \u001b[38;5;28mself\u001b[39m\u001b[38;5;241m.\u001b[39mhandles\u001b[38;5;241m.\u001b[39mhandle\n",
      "File \u001b[0;32m~/.local/lib/python3.9/site-packages/pandas/io/common.py:873\u001b[0m, in \u001b[0;36mget_handle\u001b[0;34m(path_or_buf, mode, encoding, compression, memory_map, is_text, errors, storage_options)\u001b[0m\n\u001b[1;32m    868\u001b[0m \u001b[38;5;28;01melif\u001b[39;00m \u001b[38;5;28misinstance\u001b[39m(handle, \u001b[38;5;28mstr\u001b[39m):\n\u001b[1;32m    869\u001b[0m     \u001b[38;5;66;03m# Check whether the filename is to be opened in binary mode.\u001b[39;00m\n\u001b[1;32m    870\u001b[0m     \u001b[38;5;66;03m# Binary mode does not support 'encoding' and 'newline'.\u001b[39;00m\n\u001b[1;32m    871\u001b[0m     \u001b[38;5;28;01mif\u001b[39;00m ioargs\u001b[38;5;241m.\u001b[39mencoding \u001b[38;5;129;01mand\u001b[39;00m \u001b[38;5;124m\"\u001b[39m\u001b[38;5;124mb\u001b[39m\u001b[38;5;124m\"\u001b[39m \u001b[38;5;129;01mnot\u001b[39;00m \u001b[38;5;129;01min\u001b[39;00m ioargs\u001b[38;5;241m.\u001b[39mmode:\n\u001b[1;32m    872\u001b[0m         \u001b[38;5;66;03m# Encoding\u001b[39;00m\n\u001b[0;32m--> 873\u001b[0m         handle \u001b[38;5;241m=\u001b[39m \u001b[38;5;28;43mopen\u001b[39;49m\u001b[43m(\u001b[49m\n\u001b[1;32m    874\u001b[0m \u001b[43m            \u001b[49m\u001b[43mhandle\u001b[49m\u001b[43m,\u001b[49m\n\u001b[1;32m    875\u001b[0m \u001b[43m            \u001b[49m\u001b[43mioargs\u001b[49m\u001b[38;5;241;43m.\u001b[39;49m\u001b[43mmode\u001b[49m\u001b[43m,\u001b[49m\n\u001b[1;32m    876\u001b[0m \u001b[43m            \u001b[49m\u001b[43mencoding\u001b[49m\u001b[38;5;241;43m=\u001b[39;49m\u001b[43mioargs\u001b[49m\u001b[38;5;241;43m.\u001b[39;49m\u001b[43mencoding\u001b[49m\u001b[43m,\u001b[49m\n\u001b[1;32m    877\u001b[0m \u001b[43m            \u001b[49m\u001b[43merrors\u001b[49m\u001b[38;5;241;43m=\u001b[39;49m\u001b[43merrors\u001b[49m\u001b[43m,\u001b[49m\n\u001b[1;32m    878\u001b[0m \u001b[43m            \u001b[49m\u001b[43mnewline\u001b[49m\u001b[38;5;241;43m=\u001b[39;49m\u001b[38;5;124;43m\"\u001b[39;49m\u001b[38;5;124;43m\"\u001b[39;49m\u001b[43m,\u001b[49m\n\u001b[1;32m    879\u001b[0m \u001b[43m        \u001b[49m\u001b[43m)\u001b[49m\n\u001b[1;32m    880\u001b[0m     \u001b[38;5;28;01melse\u001b[39;00m:\n\u001b[1;32m    881\u001b[0m         \u001b[38;5;66;03m# Binary mode\u001b[39;00m\n\u001b[1;32m    882\u001b[0m         handle \u001b[38;5;241m=\u001b[39m \u001b[38;5;28mopen\u001b[39m(handle, ioargs\u001b[38;5;241m.\u001b[39mmode)\n",
      "\u001b[0;31mFileNotFoundError\u001b[0m: [Errno 2] No such file or directory: 'First_Step_BERTopic_topic_info_labelled.csv'"
     ]
    }
   ],
   "source": [
    "import pandas as pd\n",
    "from sentence_transformers import SentenceTransformer\n",
    "import numpy as np\n",
    "from sklearn.metrics.pairwise import euclidean_distances\n",
    "import plotly.express as px\n",
    "import plotly.io as pio\n",
    "\n",
    "# Load the datasets\n",
    "second_step = pd.read_csv('First_Step_BERTopic_topic_info_labelled.csv')\n",
    "bertopic_result = pd.read_csv('First_Step_BERTopic_result.csv')\n",
    "\n",
    "# Initialize the sentence transformer model\n",
    "model = SentenceTransformer('sentence-transformers/all-MiniLM-L6-v2')\n",
    "\n",
    "# Group by Topic and calculate centroids of text embeddings\n",
    "grouped = bertopic_result.groupby('Topic Label')['text'].apply(list).reset_index()\n",
    "\n",
    "def calculate_centroid(texts):\n",
    "    embeddings = model.encode(texts)\n",
    "    centroid = np.mean(embeddings, axis=0)\n",
    "    return centroid\n",
    "\n",
    "grouped['centroid'] = grouped['text'].apply(calculate_centroid)\n",
    "\n",
    "# Calculate embeddings for Human_Readable_Topic in the second dataset\n",
    "second_step['Human_Readable_Topic_embedding'] = second_step['Human_Readable_Topic'].apply(lambda x: model.encode(x))\n",
    "\n",
    "# Prepare to compare all centroids with all Human_Readable_Topic embeddings\n",
    "centroids = grouped[['Topic Label', 'centroid']]\n",
    "human_readable_embeddings = second_step[['Human_Readable_Topic', 'Human_Readable_Topic_embedding']]\n",
    "\n",
    "# Exclude the first row from both centroids and human readable topics (assuming they are outliers)\n",
    "centroids_limited = centroids.iloc[1:21]  # Exclude first row and then select next 20 rows\n",
    "human_readable_embeddings_limited = human_readable_embeddings.iloc[1:21]  # Exclude first row and select next 20 rows\n",
    "\n",
    "# Initialize a matrix to store the pairwise Euclidean distances\n",
    "distance_matrix = np.zeros((len(human_readable_embeddings_limited), len(centroids_limited)))\n",
    "\n",
    "# Calculate the Euclidean distance for each pair (Human Readable Topic vs. Topic Centroid)\n",
    "for i, hr_embedding in enumerate(human_readable_embeddings_limited['Human_Readable_Topic_embedding']):\n",
    "    for j, centroid in enumerate(centroids_limited['centroid']):\n",
    "        distance = euclidean_distances([hr_embedding], [centroid])[0][0]\n",
    "        distance_matrix[i, j] = distance\n",
    "\n",
    "# Convert the distance matrix to a DataFrame for better readability\n",
    "distance_df_limited = pd.DataFrame(distance_matrix, \n",
    "                                   index=human_readable_embeddings_limited['Human_Readable_Topic'], \n",
    "                                   columns=centroids_limited['Topic Label'])\n",
    "\n",
    "# Save the limited distance DataFrame to a CSV file\n",
    "distance_df_limited.to_csv('first_step_pairwise_euclidean_distance_heatmap_20.csv', index=True)\n",
    "\n",
    "# Create an interactive heatmap for the limited data with a new color scale\n",
    "fig = px.imshow(distance_df_limited,\n",
    "                labels=dict(x=\"Topic Centroids\", y=\"Human Readable Topics\", color=\"Euclidean Distance\"),\n",
    "                x=distance_df_limited.columns,\n",
    "                y=distance_df_limited.index,\n",
    "                color_continuous_scale='plasma',  # Changed color scale to 'plasma'\n",
    "                text_auto=True)\n",
    "\n",
    "# Adjust layout and ensure visibility\n",
    "fig.update_layout(title='Pairwise Distance Matrix Heatmap (First 20 Labels, excluding outliers)',\n",
    "                  xaxis_title='Topic Centroids',\n",
    "                  yaxis_title='Human Readable Topics',\n",
    "                  width=1500,\n",
    "                  height=1500,\n",
    "                  font=dict(size=10))  # Adjust font size here if needed\n",
    "\n",
    "# Update y-axis layout to ensure all labels are visible\n",
    "fig.update_yaxes(automargin=True,\n",
    "                 tickangle=0,  # Adjust the angle of y-axis labels\n",
    "                 tickfont=dict(size=5))  # Adjust the font size of y-axis labels\n",
    "\n",
    "# Save the figure as an interactive HTML file\n",
    "pio.write_html(fig, file='first_step_pairwise_euclidean_distance_heatmap_20.html', auto_open=False)\n",
    "\n",
    "# Save the figure as a static image (e.g., PNG)\n",
    "pio.write_image(fig, file='first_step_pairwise_euclidean_distance_heatmap_20.png', format='png', width=1500, height=1500, scale=3)\n",
    "\n",
    "# Display the heatmap\n",
    "fig.show() "
   ]
  },
  {
   "cell_type": "code",
   "execution_count": 12,
   "id": "03e46047-8737-4fe0-9adf-e76efbe6605b",
   "metadata": {},
   "outputs": [
    {
     "name": "stderr",
     "output_type": "stream",
     "text": [
      "/w0/tmp/slurm_yc656703.49445898/ipykernel_252833/4199307577.py:10: DtypeWarning:\n",
      "\n",
      "Columns (0) have mixed types. Specify dtype option on import or set low_memory=False.\n",
      "\n",
      "/home/yc656703/.local/lib/python3.9/site-packages/huggingface_hub/file_download.py:1132: FutureWarning:\n",
      "\n",
      "`resume_download` is deprecated and will be removed in version 1.0.0. Downloads always resume when possible. If you want to force a new download, use `force_download=True`.\n",
      "\n"
     ]
    },
    {
     "data": {
      "application/vnd.plotly.v1+json": {
       "config": {
        "plotlyServerURL": "https://plot.ly"
       },
       "data": [
        {
         "coloraxis": "coloraxis",
         "hovertemplate": "Topic Centroids: %{x}<br>Human Readable Topics: %{y}<br>Cosine Similarity: %{z}<extra></extra>",
         "name": "0",
         "texttemplate": "%{z}",
         "type": "heatmap",
         "x": [
          0,
          1,
          2,
          3,
          4,
          5,
          6,
          7,
          8,
          9,
          10,
          11,
          12,
          13,
          14,
          15,
          16,
          17,
          18,
          19
         ],
         "xaxis": "x",
         "y": [
          "Medical Language Models for Clinical Diagnosis",
          "Recommender Systems with Advanced Techniques",
          "Cross-Lingual Language Models and Translation",
          "\"Robot Manipulation and Embodied Intelligence\"",
          "\"Deep Learning for Medical Image Segmentation\"",
          "Quantum Machine Learning and Neural Networks",
          "Adversarial Attacks on Deep Learning Models",
          "\"Large Language Model-based Intelligent Agents for Planning and Collaboration\"",
          "Molecular Representation Learning for Drug Discovery",
          "\"Reasoning with Large Language Models through Prompting\"",
          "Code Generation and Evaluation for Large Language Models",
          "Causal Discovery and Inference from Data",
          "Retrieval-Augmented Generation (RAG) Methods",
          "Multimodal Large Language Models (MLLMs)",
          "Time Series Forecasting with Deep Learning",
          "Autonomous Driving and Traffic Safety",
          "Stochastic Gradient Descent Optimizers",
          "ReLU Neural Networks Properties and Approximation",
          "\"Aligning Language Models with Human Preferences\"",
          "Automatic Speech Recognition (ASR) Systems"
         ],
         "yaxis": "y",
         "z": [
          [
           0.6513826847076416,
           0.19771698117256165,
           0.41712427139282227,
           0.1577996462583542,
           0.32220572233200073,
           0.08611142635345459,
           0.09343963116407394,
           0.28289657831192017,
           0.26873213052749634,
           0.36804699897766113,
           0.32687297463417053,
           0.2119317501783371,
           0.343772292137146,
           0.3089863061904907,
           0.19213134050369263,
           0.11414790898561478,
           0.11005005240440369,
           0.13026809692382812,
           0.2599015235900879,
           0.42924439907073975
          ],
          [
           0.1725405603647232,
           0.5166850686073303,
           0.07951866835355759,
           0.011986859142780304,
           0.07912030816078186,
           0.11271864175796509,
           0.02884656935930252,
           0.1185983419418335,
           0.12312312424182892,
           0.13486681878566742,
           0.08623793721199036,
           0.1925981491804123,
           0.24351803958415985,
           0.06898076832294464,
           0.14721162617206573,
           0.046490054577589035,
           0.10014352947473526,
           0.0744876116514206,
           0.14341503381729126,
           0.07979802787303925
          ],
          [
           0.3626401722431183,
           0.24899427592754364,
           0.686724066734314,
           0.20955708622932434,
           0.11911509931087494,
           0.05920886993408203,
           0.13253343105316162,
           0.32297444343566895,
           0.2050999104976654,
           0.3571126461029053,
           0.3368036448955536,
           0.2116079330444336,
           0.4124292731285095,
           0.3419150114059448,
           0.23104935884475708,
           0.13108588755130768,
           0.15801779925823212,
           0.16770796477794647,
           0.40531080961227417,
           0.43087249994277954
          ],
          [
           0.1084102913737297,
           -0.007236351724714041,
           0.09474344551563263,
           0.5420714616775513,
           0.04439608380198479,
           0.044251780956983566,
           0.07675094902515411,
           0.3434830605983734,
           0.07118555903434753,
           0.1830163300037384,
           0.07983581721782684,
           0.11170527338981628,
           0.06851126998662949,
           0.24315734207630157,
           0.008499585092067719,
           0.25559496879577637,
           0.04216005280613899,
           0.09236335754394531,
           0.136542409658432,
           0.062362898141145706
          ],
          [
           0.3635178506374359,
           0.14961841702461243,
           0.15406876802444458,
           0.2886781692504883,
           0.7060779929161072,
           0.2550964057445526,
           0.3579208254814148,
           0.13610254228115082,
           0.3445979952812195,
           0.14462916553020477,
           0.123814158141613,
           0.22086310386657715,
           0.10584039986133575,
           0.2802524268627167,
           0.28000107407569885,
           0.27378663420677185,
           0.35775136947631836,
           0.47043895721435547,
           0.12181708216667175,
           0.23830628395080566
          ],
          [
           0.13325442373752594,
           0.10084740817546844,
           0.09076584875583649,
           0.1856188178062439,
           0.22269821166992188,
           0.8206030130386353,
           0.25909191370010376,
           0.12524650990962982,
           0.31571757793426514,
           0.15135397017002106,
           0.07515972852706909,
           0.22917592525482178,
           0.1102818176150322,
           0.12714189291000366,
           0.2526576519012451,
           0.21782918274402618,
           0.29593995213508606,
           0.45167917013168335,
           0.1642618179321289,
           0.20222121477127075
          ],
          [
           0.1782245934009552,
           0.183546781539917,
           0.2580890655517578,
           0.2177681177854538,
           0.3699156939983368,
           0.30863821506500244,
           0.770519495010376,
           0.18458311259746552,
           0.3049262762069702,
           0.24829471111297607,
           0.2683941423892975,
           0.2884288430213928,
           0.17049050331115723,
           0.2837468683719635,
           0.3316348195075989,
           0.29051241278648376,
           0.38079965114593506,
           0.5315985679626465,
           0.25779658555984497,
           0.3549489974975586
          ],
          [
           0.4008936882019043,
           0.27458804845809937,
           0.449133038520813,
           0.46486255526542664,
           0.11167437583208084,
           0.1146833598613739,
           0.08333645015954971,
           0.7082574367523193,
           0.23147320747375488,
           0.49266475439071655,
           0.3868464231491089,
           0.2178603708744049,
           0.3868001103401184,
           0.3978342115879059,
           0.20204496383666992,
           0.4062148332595825,
           0.13624992966651917,
           0.13328596949577332,
           0.4525154232978821,
           0.350422739982605
          ],
          [
           0.3647223711013794,
           0.2402547150850296,
           0.19510018825531006,
           0.23251654207706451,
           0.37170785665512085,
           0.3165295124053955,
           0.2427087277173996,
           0.1809050440788269,
           0.7785441279411316,
           0.2497519999742508,
           0.1814478635787964,
           0.3317718505859375,
           0.20306268334388733,
           0.21888801455497742,
           0.29012757539749146,
           0.2236364483833313,
           0.23852086067199707,
           0.3445320129394531,
           0.2642202377319336,
           0.215382918715477
          ],
          [
           0.5109260082244873,
           0.3756887912750244,
           0.5239274501800537,
           0.40771257877349854,
           0.1923740655183792,
           0.16835719347000122,
           0.23344174027442932,
           0.6168838739395142,
           0.2688903510570526,
           0.7608911991119385,
           0.5141786336898804,
           0.340354859828949,
           0.4977191686630249,
           0.5425902605056763,
           0.23512649536132812,
           0.3416832685470581,
           0.1797211766242981,
           0.17665013670921326,
           0.5022403001785278,
           0.39179688692092896
          ],
          [
           0.47304531931877136,
           0.3259161114692688,
           0.6351314783096313,
           0.3003486096858978,
           0.18189027905464172,
           0.18238435685634613,
           0.2792012691497803,
           0.508393406867981,
           0.3676437735557556,
           0.540402889251709,
           0.7766647338867188,
           0.2458709180355072,
           0.5045811533927917,
           0.4558238685131073,
           0.2859044373035431,
           0.23828217387199402,
           0.25215911865234375,
           0.23934149742126465,
           0.48530977964401245,
           0.4672120213508606
          ],
          [
           0.19099494814872742,
           0.19102579355239868,
           0.08131382614374161,
           0.11186886578798294,
           0.09937482327222824,
           0.17571283876895905,
           0.12657439708709717,
           0.14945372939109802,
           0.21248042583465576,
           0.2130386233329773,
           0.10382184386253357,
           0.7210217118263245,
           0.1553683876991272,
           0.09634986519813538,
           0.19201461970806122,
           0.15328863263130188,
           0.1255810558795929,
           0.14950911700725555,
           0.14824947714805603,
           0.07758787274360657
          ],
          [
           0.3969784379005432,
           0.3055906891822815,
           0.39136365056037903,
           0.2655308246612549,
           0.15239644050598145,
           0.14065319299697876,
           0.09716740250587463,
           0.33476245403289795,
           0.2778167426586151,
           0.35645008087158203,
           0.361111044883728,
           0.23714157938957214,
           0.6337324976921082,
           0.33895403146743774,
           0.2191600799560547,
           0.13771963119506836,
           0.1970008760690689,
           0.11117230355739594,
           0.3597336411476135,
           0.2554044723510742
          ],
          [
           0.4779386520385742,
           0.3575640320777893,
           0.6258852481842041,
           0.428888738155365,
           0.3706154525279999,
           0.15075939893722534,
           0.29658210277557373,
           0.4876958131790161,
           0.41104140877723694,
           0.44112735986709595,
           0.39879855513572693,
           0.2927359938621521,
           0.4660975933074951,
           0.6737380027770996,
           0.3913208842277527,
           0.32324984669685364,
           0.2904588580131531,
           0.3316873610019684,
           0.46960216760635376,
           0.5857178568840027
          ],
          [
           0.20362858474254608,
           0.20994403958320618,
           0.22367732226848602,
           0.20461151003837585,
           0.31405383348464966,
           0.3288935720920563,
           0.3057920038700104,
           0.1587323248386383,
           0.3118041157722473,
           0.19111368060112,
           0.15240073204040527,
           0.19562363624572754,
           0.18366509675979614,
           0.2209477722644806,
           0.6787659525871277,
           0.285973459482193,
           0.3028101325035095,
           0.4201900362968445,
           0.16897925734519958,
           0.31679069995880127
          ],
          [
           0.07894523441791534,
           -0.014896148815751076,
           0.03893430531024933,
           0.2923482656478882,
           0.16886551678180695,
           0.14534145593643188,
           0.23112213611602783,
           0.20465916395187378,
           0.08817718923091888,
           0.13154950737953186,
           0.05735225975513458,
           0.13965177536010742,
           0.028792712837457657,
           0.1730813980102539,
           0.11370402574539185,
           0.5938164591789246,
           0.13501417636871338,
           0.12018910050392151,
           0.10046863555908203,
           0.0904722660779953
          ],
          [
           0.23216016590595245,
           0.26373010873794556,
           0.23413515090942383,
           0.27494657039642334,
           0.31947046518325806,
           0.3450722396373749,
           0.3543429374694824,
           0.2641545832157135,
           0.33602914214134216,
           0.24957485496997833,
           0.20618027448654175,
           0.27004754543304443,
           0.21034061908721924,
           0.24011008441448212,
           0.27173280715942383,
           0.29825931787490845,
           0.7581595778465271,
           0.5192301869392395,
           0.3404305577278137,
           0.3159327507019043
          ],
          [
           0.13926419615745544,
           0.19429337978363037,
           0.16314668953418732,
           0.2505528926849365,
           0.34190458059310913,
           0.36572980880737305,
           0.407956063747406,
           0.14217501878738403,
           0.314438134431839,
           0.1884758174419403,
           0.1337648630142212,
           0.22334450483322144,
           0.1398928165435791,
           0.22084671258926392,
           0.3035612404346466,
           0.23576828837394714,
           0.46293890476226807,
           0.6932617425918579,
           0.22886192798614502,
           0.25047579407691956
          ],
          [
           0.3995649218559265,
           0.3393726348876953,
           0.5544837117195129,
           0.30067986249923706,
           0.12076148390769958,
           0.09941931813955307,
           0.1828349083662033,
           0.44293463230133057,
           0.2845154106616974,
           0.45505329966545105,
           0.37794429063796997,
           0.20899197459220886,
           0.4224034547805786,
           0.40526390075683594,
           0.20162567496299744,
           0.19202184677124023,
           0.16377687454223633,
           0.18367262184619904,
           0.6285889148712158,
           0.4061434864997864
          ],
          [
           0.30626922845840454,
           0.16721737384796143,
           0.29078543186187744,
           0.15615224838256836,
           0.24524231255054474,
           0.13444112241268158,
           0.16151538491249084,
           0.1950148642063141,
           0.23062551021575928,
           0.19541747868061066,
           0.16290119290351868,
           0.13367559015750885,
           0.2476951777935028,
           0.24067124724388123,
           0.2587543725967407,
           0.14019359648227692,
           0.18458282947540283,
           0.19742566347122192,
           0.20424222946166992,
           0.6621373891830444
          ]
         ]
        }
       ],
       "layout": {
        "coloraxis": {
         "colorbar": {
          "title": {
           "text": "Cosine Similarity"
          }
         },
         "colorscale": [
          [
           0,
           "blue"
          ],
          [
           1,
           "yellow"
          ]
         ]
        },
        "font": {
         "size": 10
        },
        "height": 1500,
        "margin": {
         "t": 60
        },
        "template": {
         "data": {
          "bar": [
           {
            "error_x": {
             "color": "#2a3f5f"
            },
            "error_y": {
             "color": "#2a3f5f"
            },
            "marker": {
             "line": {
              "color": "#E5ECF6",
              "width": 0.5
             },
             "pattern": {
              "fillmode": "overlay",
              "size": 10,
              "solidity": 0.2
             }
            },
            "type": "bar"
           }
          ],
          "barpolar": [
           {
            "marker": {
             "line": {
              "color": "#E5ECF6",
              "width": 0.5
             },
             "pattern": {
              "fillmode": "overlay",
              "size": 10,
              "solidity": 0.2
             }
            },
            "type": "barpolar"
           }
          ],
          "carpet": [
           {
            "aaxis": {
             "endlinecolor": "#2a3f5f",
             "gridcolor": "white",
             "linecolor": "white",
             "minorgridcolor": "white",
             "startlinecolor": "#2a3f5f"
            },
            "baxis": {
             "endlinecolor": "#2a3f5f",
             "gridcolor": "white",
             "linecolor": "white",
             "minorgridcolor": "white",
             "startlinecolor": "#2a3f5f"
            },
            "type": "carpet"
           }
          ],
          "choropleth": [
           {
            "colorbar": {
             "outlinewidth": 0,
             "ticks": ""
            },
            "type": "choropleth"
           }
          ],
          "contour": [
           {
            "colorbar": {
             "outlinewidth": 0,
             "ticks": ""
            },
            "colorscale": [
             [
              0,
              "#0d0887"
             ],
             [
              0.1111111111111111,
              "#46039f"
             ],
             [
              0.2222222222222222,
              "#7201a8"
             ],
             [
              0.3333333333333333,
              "#9c179e"
             ],
             [
              0.4444444444444444,
              "#bd3786"
             ],
             [
              0.5555555555555556,
              "#d8576b"
             ],
             [
              0.6666666666666666,
              "#ed7953"
             ],
             [
              0.7777777777777778,
              "#fb9f3a"
             ],
             [
              0.8888888888888888,
              "#fdca26"
             ],
             [
              1,
              "#f0f921"
             ]
            ],
            "type": "contour"
           }
          ],
          "contourcarpet": [
           {
            "colorbar": {
             "outlinewidth": 0,
             "ticks": ""
            },
            "type": "contourcarpet"
           }
          ],
          "heatmap": [
           {
            "colorbar": {
             "outlinewidth": 0,
             "ticks": ""
            },
            "colorscale": [
             [
              0,
              "#0d0887"
             ],
             [
              0.1111111111111111,
              "#46039f"
             ],
             [
              0.2222222222222222,
              "#7201a8"
             ],
             [
              0.3333333333333333,
              "#9c179e"
             ],
             [
              0.4444444444444444,
              "#bd3786"
             ],
             [
              0.5555555555555556,
              "#d8576b"
             ],
             [
              0.6666666666666666,
              "#ed7953"
             ],
             [
              0.7777777777777778,
              "#fb9f3a"
             ],
             [
              0.8888888888888888,
              "#fdca26"
             ],
             [
              1,
              "#f0f921"
             ]
            ],
            "type": "heatmap"
           }
          ],
          "heatmapgl": [
           {
            "colorbar": {
             "outlinewidth": 0,
             "ticks": ""
            },
            "colorscale": [
             [
              0,
              "#0d0887"
             ],
             [
              0.1111111111111111,
              "#46039f"
             ],
             [
              0.2222222222222222,
              "#7201a8"
             ],
             [
              0.3333333333333333,
              "#9c179e"
             ],
             [
              0.4444444444444444,
              "#bd3786"
             ],
             [
              0.5555555555555556,
              "#d8576b"
             ],
             [
              0.6666666666666666,
              "#ed7953"
             ],
             [
              0.7777777777777778,
              "#fb9f3a"
             ],
             [
              0.8888888888888888,
              "#fdca26"
             ],
             [
              1,
              "#f0f921"
             ]
            ],
            "type": "heatmapgl"
           }
          ],
          "histogram": [
           {
            "marker": {
             "pattern": {
              "fillmode": "overlay",
              "size": 10,
              "solidity": 0.2
             }
            },
            "type": "histogram"
           }
          ],
          "histogram2d": [
           {
            "colorbar": {
             "outlinewidth": 0,
             "ticks": ""
            },
            "colorscale": [
             [
              0,
              "#0d0887"
             ],
             [
              0.1111111111111111,
              "#46039f"
             ],
             [
              0.2222222222222222,
              "#7201a8"
             ],
             [
              0.3333333333333333,
              "#9c179e"
             ],
             [
              0.4444444444444444,
              "#bd3786"
             ],
             [
              0.5555555555555556,
              "#d8576b"
             ],
             [
              0.6666666666666666,
              "#ed7953"
             ],
             [
              0.7777777777777778,
              "#fb9f3a"
             ],
             [
              0.8888888888888888,
              "#fdca26"
             ],
             [
              1,
              "#f0f921"
             ]
            ],
            "type": "histogram2d"
           }
          ],
          "histogram2dcontour": [
           {
            "colorbar": {
             "outlinewidth": 0,
             "ticks": ""
            },
            "colorscale": [
             [
              0,
              "#0d0887"
             ],
             [
              0.1111111111111111,
              "#46039f"
             ],
             [
              0.2222222222222222,
              "#7201a8"
             ],
             [
              0.3333333333333333,
              "#9c179e"
             ],
             [
              0.4444444444444444,
              "#bd3786"
             ],
             [
              0.5555555555555556,
              "#d8576b"
             ],
             [
              0.6666666666666666,
              "#ed7953"
             ],
             [
              0.7777777777777778,
              "#fb9f3a"
             ],
             [
              0.8888888888888888,
              "#fdca26"
             ],
             [
              1,
              "#f0f921"
             ]
            ],
            "type": "histogram2dcontour"
           }
          ],
          "mesh3d": [
           {
            "colorbar": {
             "outlinewidth": 0,
             "ticks": ""
            },
            "type": "mesh3d"
           }
          ],
          "parcoords": [
           {
            "line": {
             "colorbar": {
              "outlinewidth": 0,
              "ticks": ""
             }
            },
            "type": "parcoords"
           }
          ],
          "pie": [
           {
            "automargin": true,
            "type": "pie"
           }
          ],
          "scatter": [
           {
            "fillpattern": {
             "fillmode": "overlay",
             "size": 10,
             "solidity": 0.2
            },
            "type": "scatter"
           }
          ],
          "scatter3d": [
           {
            "line": {
             "colorbar": {
              "outlinewidth": 0,
              "ticks": ""
             }
            },
            "marker": {
             "colorbar": {
              "outlinewidth": 0,
              "ticks": ""
             }
            },
            "type": "scatter3d"
           }
          ],
          "scattercarpet": [
           {
            "marker": {
             "colorbar": {
              "outlinewidth": 0,
              "ticks": ""
             }
            },
            "type": "scattercarpet"
           }
          ],
          "scattergeo": [
           {
            "marker": {
             "colorbar": {
              "outlinewidth": 0,
              "ticks": ""
             }
            },
            "type": "scattergeo"
           }
          ],
          "scattergl": [
           {
            "marker": {
             "colorbar": {
              "outlinewidth": 0,
              "ticks": ""
             }
            },
            "type": "scattergl"
           }
          ],
          "scattermapbox": [
           {
            "marker": {
             "colorbar": {
              "outlinewidth": 0,
              "ticks": ""
             }
            },
            "type": "scattermapbox"
           }
          ],
          "scatterpolar": [
           {
            "marker": {
             "colorbar": {
              "outlinewidth": 0,
              "ticks": ""
             }
            },
            "type": "scatterpolar"
           }
          ],
          "scatterpolargl": [
           {
            "marker": {
             "colorbar": {
              "outlinewidth": 0,
              "ticks": ""
             }
            },
            "type": "scatterpolargl"
           }
          ],
          "scatterternary": [
           {
            "marker": {
             "colorbar": {
              "outlinewidth": 0,
              "ticks": ""
             }
            },
            "type": "scatterternary"
           }
          ],
          "surface": [
           {
            "colorbar": {
             "outlinewidth": 0,
             "ticks": ""
            },
            "colorscale": [
             [
              0,
              "#0d0887"
             ],
             [
              0.1111111111111111,
              "#46039f"
             ],
             [
              0.2222222222222222,
              "#7201a8"
             ],
             [
              0.3333333333333333,
              "#9c179e"
             ],
             [
              0.4444444444444444,
              "#bd3786"
             ],
             [
              0.5555555555555556,
              "#d8576b"
             ],
             [
              0.6666666666666666,
              "#ed7953"
             ],
             [
              0.7777777777777778,
              "#fb9f3a"
             ],
             [
              0.8888888888888888,
              "#fdca26"
             ],
             [
              1,
              "#f0f921"
             ]
            ],
            "type": "surface"
           }
          ],
          "table": [
           {
            "cells": {
             "fill": {
              "color": "#EBF0F8"
             },
             "line": {
              "color": "white"
             }
            },
            "header": {
             "fill": {
              "color": "#C8D4E3"
             },
             "line": {
              "color": "white"
             }
            },
            "type": "table"
           }
          ]
         },
         "layout": {
          "annotationdefaults": {
           "arrowcolor": "#2a3f5f",
           "arrowhead": 0,
           "arrowwidth": 1
          },
          "autotypenumbers": "strict",
          "coloraxis": {
           "colorbar": {
            "outlinewidth": 0,
            "ticks": ""
           }
          },
          "colorscale": {
           "diverging": [
            [
             0,
             "#8e0152"
            ],
            [
             0.1,
             "#c51b7d"
            ],
            [
             0.2,
             "#de77ae"
            ],
            [
             0.3,
             "#f1b6da"
            ],
            [
             0.4,
             "#fde0ef"
            ],
            [
             0.5,
             "#f7f7f7"
            ],
            [
             0.6,
             "#e6f5d0"
            ],
            [
             0.7,
             "#b8e186"
            ],
            [
             0.8,
             "#7fbc41"
            ],
            [
             0.9,
             "#4d9221"
            ],
            [
             1,
             "#276419"
            ]
           ],
           "sequential": [
            [
             0,
             "#0d0887"
            ],
            [
             0.1111111111111111,
             "#46039f"
            ],
            [
             0.2222222222222222,
             "#7201a8"
            ],
            [
             0.3333333333333333,
             "#9c179e"
            ],
            [
             0.4444444444444444,
             "#bd3786"
            ],
            [
             0.5555555555555556,
             "#d8576b"
            ],
            [
             0.6666666666666666,
             "#ed7953"
            ],
            [
             0.7777777777777778,
             "#fb9f3a"
            ],
            [
             0.8888888888888888,
             "#fdca26"
            ],
            [
             1,
             "#f0f921"
            ]
           ],
           "sequentialminus": [
            [
             0,
             "#0d0887"
            ],
            [
             0.1111111111111111,
             "#46039f"
            ],
            [
             0.2222222222222222,
             "#7201a8"
            ],
            [
             0.3333333333333333,
             "#9c179e"
            ],
            [
             0.4444444444444444,
             "#bd3786"
            ],
            [
             0.5555555555555556,
             "#d8576b"
            ],
            [
             0.6666666666666666,
             "#ed7953"
            ],
            [
             0.7777777777777778,
             "#fb9f3a"
            ],
            [
             0.8888888888888888,
             "#fdca26"
            ],
            [
             1,
             "#f0f921"
            ]
           ]
          },
          "colorway": [
           "#636efa",
           "#EF553B",
           "#00cc96",
           "#ab63fa",
           "#FFA15A",
           "#19d3f3",
           "#FF6692",
           "#B6E880",
           "#FF97FF",
           "#FECB52"
          ],
          "font": {
           "color": "#2a3f5f"
          },
          "geo": {
           "bgcolor": "white",
           "lakecolor": "white",
           "landcolor": "#E5ECF6",
           "showlakes": true,
           "showland": true,
           "subunitcolor": "white"
          },
          "hoverlabel": {
           "align": "left"
          },
          "hovermode": "closest",
          "mapbox": {
           "style": "light"
          },
          "paper_bgcolor": "white",
          "plot_bgcolor": "#E5ECF6",
          "polar": {
           "angularaxis": {
            "gridcolor": "white",
            "linecolor": "white",
            "ticks": ""
           },
           "bgcolor": "#E5ECF6",
           "radialaxis": {
            "gridcolor": "white",
            "linecolor": "white",
            "ticks": ""
           }
          },
          "scene": {
           "xaxis": {
            "backgroundcolor": "#E5ECF6",
            "gridcolor": "white",
            "gridwidth": 2,
            "linecolor": "white",
            "showbackground": true,
            "ticks": "",
            "zerolinecolor": "white"
           },
           "yaxis": {
            "backgroundcolor": "#E5ECF6",
            "gridcolor": "white",
            "gridwidth": 2,
            "linecolor": "white",
            "showbackground": true,
            "ticks": "",
            "zerolinecolor": "white"
           },
           "zaxis": {
            "backgroundcolor": "#E5ECF6",
            "gridcolor": "white",
            "gridwidth": 2,
            "linecolor": "white",
            "showbackground": true,
            "ticks": "",
            "zerolinecolor": "white"
           }
          },
          "shapedefaults": {
           "line": {
            "color": "#2a3f5f"
           }
          },
          "ternary": {
           "aaxis": {
            "gridcolor": "white",
            "linecolor": "white",
            "ticks": ""
           },
           "baxis": {
            "gridcolor": "white",
            "linecolor": "white",
            "ticks": ""
           },
           "bgcolor": "#E5ECF6",
           "caxis": {
            "gridcolor": "white",
            "linecolor": "white",
            "ticks": ""
           }
          },
          "title": {
           "x": 0.05
          },
          "xaxis": {
           "automargin": true,
           "gridcolor": "white",
           "linecolor": "white",
           "ticks": "",
           "title": {
            "standoff": 15
           },
           "zerolinecolor": "white",
           "zerolinewidth": 2
          },
          "yaxis": {
           "automargin": true,
           "gridcolor": "white",
           "linecolor": "white",
           "ticks": "",
           "title": {
            "standoff": 15
           },
           "zerolinecolor": "white",
           "zerolinewidth": 2
          }
         }
        },
        "title": {
         "text": "Pairwise Distance Matrix Heatmap (First 20 Labels, excluding outliers)"
        },
        "width": 1500,
        "xaxis": {
         "anchor": "y",
         "autorange": true,
         "constrain": "domain",
         "domain": [
          0,
          1
         ],
         "range": [
          -0.5,
          19.5
         ],
         "scaleanchor": "y",
         "title": {
          "text": "Topic Centroids"
         },
         "type": "linear"
        },
        "yaxis": {
         "anchor": "x",
         "automargin": true,
         "autorange": true,
         "constrain": "domain",
         "domain": [
          0,
          1
         ],
         "range": [
          19.5,
          -0.5
         ],
         "tickangle": 0,
         "tickfont": {
          "size": 5
         },
         "title": {
          "text": "Human Readable Topics"
         },
         "type": "category"
        }
       }
      },
      "image/png": "[encoded data removed]",
      "text/html": [
       "<div>                            <div id=\"2afab0c5-857a-4b00-9e9f-9c73cffbbd0e\" class=\"plotly-graph-div\" style=\"height:1500px; width:1500px;\"></div>            <script type=\"text/javascript\">                require([\"plotly\"], function(Plotly) {                    window.PLOTLYENV=window.PLOTLYENV || {};                                    if (document.getElementById(\"2afab0c5-857a-4b00-9e9f-9c73cffbbd0e\")) {                    Plotly.newPlot(                        \"2afab0c5-857a-4b00-9e9f-9c73cffbbd0e\",                        [{\"coloraxis\":\"coloraxis\",\"name\":\"0\",\"texttemplate\":\"%{z}\",\"x\":[0.0,1.0,2.0,3.0,4.0,5.0,6.0,7.0,8.0,9.0,10.0,11.0,12.0,13.0,14.0,15.0,16.0,17.0,18.0,19.0],\"y\":[\"Medical Language Models for Clinical Diagnosis\",\"Recommender Systems with Advanced Techniques\",\"Cross-Lingual Language Models and Translation\",\"\\\"Robot Manipulation and Embodied Intelligence\\\"\",\"\\\"Deep Learning for Medical Image Segmentation\\\"\",\"Quantum Machine Learning and Neural Networks\",\"Adversarial Attacks on Deep Learning Models\",\"\\\"Large Language Model-based Intelligent Agents for Planning and Collaboration\\\"\",\"Molecular Representation Learning for Drug Discovery\",\"\\\"Reasoning with Large Language Models through Prompting\\\"\",\"Code Generation and Evaluation for Large Language Models\",\"Causal Discovery and Inference from Data\",\"Retrieval-Augmented Generation (RAG) Methods\",\"Multimodal Large Language Models (MLLMs)\",\"Time Series Forecasting with Deep Learning\",\"Autonomous Driving and Traffic Safety\",\"Stochastic Gradient Descent Optimizers\",\"ReLU Neural Networks Properties and Approximation\",\"\\\"Aligning Language Models with Human Preferences\\\"\",\"Automatic Speech Recognition (ASR) Systems\"],\"z\":[[0.6513826847076416,0.19771698117256165,0.41712427139282227,0.1577996462583542,0.32220572233200073,0.08611142635345459,0.09343963116407394,0.28289657831192017,0.26873213052749634,0.36804699897766113,0.32687297463417053,0.2119317501783371,0.343772292137146,0.3089863061904907,0.19213134050369263,0.11414790898561478,0.11005005240440369,0.13026809692382812,0.2599015235900879,0.42924439907073975],[0.1725405603647232,0.5166850686073303,0.07951866835355759,0.011986859142780304,0.07912030816078186,0.11271864175796509,0.02884656935930252,0.1185983419418335,0.12312312424182892,0.13486681878566742,0.08623793721199036,0.1925981491804123,0.24351803958415985,0.06898076832294464,0.14721162617206573,0.046490054577589035,0.10014352947473526,0.0744876116514206,0.14341503381729126,0.07979802787303925],[0.3626401722431183,0.24899427592754364,0.686724066734314,0.20955708622932434,0.11911509931087494,0.05920886993408203,0.13253343105316162,0.32297444343566895,0.2050999104976654,0.3571126461029053,0.3368036448955536,0.2116079330444336,0.4124292731285095,0.3419150114059448,0.23104935884475708,0.13108588755130768,0.15801779925823212,0.16770796477794647,0.40531080961227417,0.43087249994277954],[0.1084102913737297,-0.007236351724714041,0.09474344551563263,0.5420714616775513,0.04439608380198479,0.044251780956983566,0.07675094902515411,0.3434830605983734,0.07118555903434753,0.1830163300037384,0.07983581721782684,0.11170527338981628,0.06851126998662949,0.24315734207630157,0.008499585092067719,0.25559496879577637,0.04216005280613899,0.09236335754394531,0.136542409658432,0.062362898141145706],[0.3635178506374359,0.14961841702461243,0.15406876802444458,0.2886781692504883,0.7060779929161072,0.2550964057445526,0.3579208254814148,0.13610254228115082,0.3445979952812195,0.14462916553020477,0.123814158141613,0.22086310386657715,0.10584039986133575,0.2802524268627167,0.28000107407569885,0.27378663420677185,0.35775136947631836,0.47043895721435547,0.12181708216667175,0.23830628395080566],[0.13325442373752594,0.10084740817546844,0.09076584875583649,0.1856188178062439,0.22269821166992188,0.8206030130386353,0.25909191370010376,0.12524650990962982,0.31571757793426514,0.15135397017002106,0.07515972852706909,0.22917592525482178,0.1102818176150322,0.12714189291000366,0.2526576519012451,0.21782918274402618,0.29593995213508606,0.45167917013168335,0.1642618179321289,0.20222121477127075],[0.1782245934009552,0.183546781539917,0.2580890655517578,0.2177681177854538,0.3699156939983368,0.30863821506500244,0.770519495010376,0.18458311259746552,0.3049262762069702,0.24829471111297607,0.2683941423892975,0.2884288430213928,0.17049050331115723,0.2837468683719635,0.3316348195075989,0.29051241278648376,0.38079965114593506,0.5315985679626465,0.25779658555984497,0.3549489974975586],[0.4008936882019043,0.27458804845809937,0.449133038520813,0.46486255526542664,0.11167437583208084,0.1146833598613739,0.08333645015954971,0.7082574367523193,0.23147320747375488,0.49266475439071655,0.3868464231491089,0.2178603708744049,0.3868001103401184,0.3978342115879059,0.20204496383666992,0.4062148332595825,0.13624992966651917,0.13328596949577332,0.4525154232978821,0.350422739982605],[0.3647223711013794,0.2402547150850296,0.19510018825531006,0.23251654207706451,0.37170785665512085,0.3165295124053955,0.2427087277173996,0.1809050440788269,0.7785441279411316,0.2497519999742508,0.1814478635787964,0.3317718505859375,0.20306268334388733,0.21888801455497742,0.29012757539749146,0.2236364483833313,0.23852086067199707,0.3445320129394531,0.2642202377319336,0.215382918715477],[0.5109260082244873,0.3756887912750244,0.5239274501800537,0.40771257877349854,0.1923740655183792,0.16835719347000122,0.23344174027442932,0.6168838739395142,0.2688903510570526,0.7608911991119385,0.5141786336898804,0.340354859828949,0.4977191686630249,0.5425902605056763,0.23512649536132812,0.3416832685470581,0.1797211766242981,0.17665013670921326,0.5022403001785278,0.39179688692092896],[0.47304531931877136,0.3259161114692688,0.6351314783096313,0.3003486096858978,0.18189027905464172,0.18238435685634613,0.2792012691497803,0.508393406867981,0.3676437735557556,0.540402889251709,0.7766647338867188,0.2458709180355072,0.5045811533927917,0.4558238685131073,0.2859044373035431,0.23828217387199402,0.25215911865234375,0.23934149742126465,0.48530977964401245,0.4672120213508606],[0.19099494814872742,0.19102579355239868,0.08131382614374161,0.11186886578798294,0.09937482327222824,0.17571283876895905,0.12657439708709717,0.14945372939109802,0.21248042583465576,0.2130386233329773,0.10382184386253357,0.7210217118263245,0.1553683876991272,0.09634986519813538,0.19201461970806122,0.15328863263130188,0.1255810558795929,0.14950911700725555,0.14824947714805603,0.07758787274360657],[0.3969784379005432,0.3055906891822815,0.39136365056037903,0.2655308246612549,0.15239644050598145,0.14065319299697876,0.09716740250587463,0.33476245403289795,0.2778167426586151,0.35645008087158203,0.361111044883728,0.23714157938957214,0.6337324976921082,0.33895403146743774,0.2191600799560547,0.13771963119506836,0.1970008760690689,0.11117230355739594,0.3597336411476135,0.2554044723510742],[0.4779386520385742,0.3575640320777893,0.6258852481842041,0.428888738155365,0.3706154525279999,0.15075939893722534,0.29658210277557373,0.4876958131790161,0.41104140877723694,0.44112735986709595,0.39879855513572693,0.2927359938621521,0.4660975933074951,0.6737380027770996,0.3913208842277527,0.32324984669685364,0.2904588580131531,0.3316873610019684,0.46960216760635376,0.5857178568840027],[0.20362858474254608,0.20994403958320618,0.22367732226848602,0.20461151003837585,0.31405383348464966,0.3288935720920563,0.3057920038700104,0.1587323248386383,0.3118041157722473,0.19111368060112,0.15240073204040527,0.19562363624572754,0.18366509675979614,0.2209477722644806,0.6787659525871277,0.285973459482193,0.3028101325035095,0.4201900362968445,0.16897925734519958,0.31679069995880127],[0.07894523441791534,-0.014896148815751076,0.03893430531024933,0.2923482656478882,0.16886551678180695,0.14534145593643188,0.23112213611602783,0.20465916395187378,0.08817718923091888,0.13154950737953186,0.05735225975513458,0.13965177536010742,0.028792712837457657,0.1730813980102539,0.11370402574539185,0.5938164591789246,0.13501417636871338,0.12018910050392151,0.10046863555908203,0.0904722660779953],[0.23216016590595245,0.26373010873794556,0.23413515090942383,0.27494657039642334,0.31947046518325806,0.3450722396373749,0.3543429374694824,0.2641545832157135,0.33602914214134216,0.24957485496997833,0.20618027448654175,0.27004754543304443,0.21034061908721924,0.24011008441448212,0.27173280715942383,0.29825931787490845,0.7581595778465271,0.5192301869392395,0.3404305577278137,0.3159327507019043],[0.13926419615745544,0.19429337978363037,0.16314668953418732,0.2505528926849365,0.34190458059310913,0.36572980880737305,0.407956063747406,0.14217501878738403,0.314438134431839,0.1884758174419403,0.1337648630142212,0.22334450483322144,0.1398928165435791,0.22084671258926392,0.3035612404346466,0.23576828837394714,0.46293890476226807,0.6932617425918579,0.22886192798614502,0.25047579407691956],[0.3995649218559265,0.3393726348876953,0.5544837117195129,0.30067986249923706,0.12076148390769958,0.09941931813955307,0.1828349083662033,0.44293463230133057,0.2845154106616974,0.45505329966545105,0.37794429063796997,0.20899197459220886,0.4224034547805786,0.40526390075683594,0.20162567496299744,0.19202184677124023,0.16377687454223633,0.18367262184619904,0.6285889148712158,0.4061434864997864],[0.30626922845840454,0.16721737384796143,0.29078543186187744,0.15615224838256836,0.24524231255054474,0.13444112241268158,0.16151538491249084,0.1950148642063141,0.23062551021575928,0.19541747868061066,0.16290119290351868,0.13367559015750885,0.2476951777935028,0.24067124724388123,0.2587543725967407,0.14019359648227692,0.18458282947540283,0.19742566347122192,0.20424222946166992,0.6621373891830444]],\"type\":\"heatmap\",\"xaxis\":\"x\",\"yaxis\":\"y\",\"hovertemplate\":\"Topic Centroids: %{x}<br>Human Readable Topics: %{y}<br>Cosine Similarity: %{z}<extra></extra>\"}],                        {\"template\":{\"data\":{\"histogram2dcontour\":[{\"type\":\"histogram2dcontour\",\"colorbar\":{\"outlinewidth\":0,\"ticks\":\"\"},\"colorscale\":[[0.0,\"#0d0887\"],[0.1111111111111111,\"#46039f\"],[0.2222222222222222,\"#7201a8\"],[0.3333333333333333,\"#9c179e\"],[0.4444444444444444,\"#bd3786\"],[0.5555555555555556,\"#d8576b\"],[0.6666666666666666,\"#ed7953\"],[0.7777777777777778,\"#fb9f3a\"],[0.8888888888888888,\"#fdca26\"],[1.0,\"#f0f921\"]]}],\"choropleth\":[{\"type\":\"choropleth\",\"colorbar\":{\"outlinewidth\":0,\"ticks\":\"\"}}],\"histogram2d\":[{\"type\":\"histogram2d\",\"colorbar\":{\"outlinewidth\":0,\"ticks\":\"\"},\"colorscale\":[[0.0,\"#0d0887\"],[0.1111111111111111,\"#46039f\"],[0.2222222222222222,\"#7201a8\"],[0.3333333333333333,\"#9c179e\"],[0.4444444444444444,\"#bd3786\"],[0.5555555555555556,\"#d8576b\"],[0.6666666666666666,\"#ed7953\"],[0.7777777777777778,\"#fb9f3a\"],[0.8888888888888888,\"#fdca26\"],[1.0,\"#f0f921\"]]}],\"heatmap\":[{\"type\":\"heatmap\",\"colorbar\":{\"outlinewidth\":0,\"ticks\":\"\"},\"colorscale\":[[0.0,\"#0d0887\"],[0.1111111111111111,\"#46039f\"],[0.2222222222222222,\"#7201a8\"],[0.3333333333333333,\"#9c179e\"],[0.4444444444444444,\"#bd3786\"],[0.5555555555555556,\"#d8576b\"],[0.6666666666666666,\"#ed7953\"],[0.7777777777777778,\"#fb9f3a\"],[0.8888888888888888,\"#fdca26\"],[1.0,\"#f0f921\"]]}],\"heatmapgl\":[{\"type\":\"heatmapgl\",\"colorbar\":{\"outlinewidth\":0,\"ticks\":\"\"},\"colorscale\":[[0.0,\"#0d0887\"],[0.1111111111111111,\"#46039f\"],[0.2222222222222222,\"#7201a8\"],[0.3333333333333333,\"#9c179e\"],[0.4444444444444444,\"#bd3786\"],[0.5555555555555556,\"#d8576b\"],[0.6666666666666666,\"#ed7953\"],[0.7777777777777778,\"#fb9f3a\"],[0.8888888888888888,\"#fdca26\"],[1.0,\"#f0f921\"]]}],\"contourcarpet\":[{\"type\":\"contourcarpet\",\"colorbar\":{\"outlinewidth\":0,\"ticks\":\"\"}}],\"contour\":[{\"type\":\"contour\",\"colorbar\":{\"outlinewidth\":0,\"ticks\":\"\"},\"colorscale\":[[0.0,\"#0d0887\"],[0.1111111111111111,\"#46039f\"],[0.2222222222222222,\"#7201a8\"],[0.3333333333333333,\"#9c179e\"],[0.4444444444444444,\"#bd3786\"],[0.5555555555555556,\"#d8576b\"],[0.6666666666666666,\"#ed7953\"],[0.7777777777777778,\"#fb9f3a\"],[0.8888888888888888,\"#fdca26\"],[1.0,\"#f0f921\"]]}],\"surface\":[{\"type\":\"surface\",\"colorbar\":{\"outlinewidth\":0,\"ticks\":\"\"},\"colorscale\":[[0.0,\"#0d0887\"],[0.1111111111111111,\"#46039f\"],[0.2222222222222222,\"#7201a8\"],[0.3333333333333333,\"#9c179e\"],[0.4444444444444444,\"#bd3786\"],[0.5555555555555556,\"#d8576b\"],[0.6666666666666666,\"#ed7953\"],[0.7777777777777778,\"#fb9f3a\"],[0.8888888888888888,\"#fdca26\"],[1.0,\"#f0f921\"]]}],\"mesh3d\":[{\"type\":\"mesh3d\",\"colorbar\":{\"outlinewidth\":0,\"ticks\":\"\"}}],\"scatter\":[{\"fillpattern\":{\"fillmode\":\"overlay\",\"size\":10,\"solidity\":0.2},\"type\":\"scatter\"}],\"parcoords\":[{\"type\":\"parcoords\",\"line\":{\"colorbar\":{\"outlinewidth\":0,\"ticks\":\"\"}}}],\"scatterpolargl\":[{\"type\":\"scatterpolargl\",\"marker\":{\"colorbar\":{\"outlinewidth\":0,\"ticks\":\"\"}}}],\"bar\":[{\"error_x\":{\"color\":\"#2a3f5f\"},\"error_y\":{\"color\":\"#2a3f5f\"},\"marker\":{\"line\":{\"color\":\"#E5ECF6\",\"width\":0.5},\"pattern\":{\"fillmode\":\"overlay\",\"size\":10,\"solidity\":0.2}},\"type\":\"bar\"}],\"scattergeo\":[{\"type\":\"scattergeo\",\"marker\":{\"colorbar\":{\"outlinewidth\":0,\"ticks\":\"\"}}}],\"scatterpolar\":[{\"type\":\"scatterpolar\",\"marker\":{\"colorbar\":{\"outlinewidth\":0,\"ticks\":\"\"}}}],\"histogram\":[{\"marker\":{\"pattern\":{\"fillmode\":\"overlay\",\"size\":10,\"solidity\":0.2}},\"type\":\"histogram\"}],\"scattergl\":[{\"type\":\"scattergl\",\"marker\":{\"colorbar\":{\"outlinewidth\":0,\"ticks\":\"\"}}}],\"scatter3d\":[{\"type\":\"scatter3d\",\"line\":{\"colorbar\":{\"outlinewidth\":0,\"ticks\":\"\"}},\"marker\":{\"colorbar\":{\"outlinewidth\":0,\"ticks\":\"\"}}}],\"scattermapbox\":[{\"type\":\"scattermapbox\",\"marker\":{\"colorbar\":{\"outlinewidth\":0,\"ticks\":\"\"}}}],\"scatterternary\":[{\"type\":\"scatterternary\",\"marker\":{\"colorbar\":{\"outlinewidth\":0,\"ticks\":\"\"}}}],\"scattercarpet\":[{\"type\":\"scattercarpet\",\"marker\":{\"colorbar\":{\"outlinewidth\":0,\"ticks\":\"\"}}}],\"carpet\":[{\"aaxis\":{\"endlinecolor\":\"#2a3f5f\",\"gridcolor\":\"white\",\"linecolor\":\"white\",\"minorgridcolor\":\"white\",\"startlinecolor\":\"#2a3f5f\"},\"baxis\":{\"endlinecolor\":\"#2a3f5f\",\"gridcolor\":\"white\",\"linecolor\":\"white\",\"minorgridcolor\":\"white\",\"startlinecolor\":\"#2a3f5f\"},\"type\":\"carpet\"}],\"table\":[{\"cells\":{\"fill\":{\"color\":\"#EBF0F8\"},\"line\":{\"color\":\"white\"}},\"header\":{\"fill\":{\"color\":\"#C8D4E3\"},\"line\":{\"color\":\"white\"}},\"type\":\"table\"}],\"barpolar\":[{\"marker\":{\"line\":{\"color\":\"#E5ECF6\",\"width\":0.5},\"pattern\":{\"fillmode\":\"overlay\",\"size\":10,\"solidity\":0.2}},\"type\":\"barpolar\"}],\"pie\":[{\"automargin\":true,\"type\":\"pie\"}]},\"layout\":{\"autotypenumbers\":\"strict\",\"colorway\":[\"#636efa\",\"#EF553B\",\"#00cc96\",\"#ab63fa\",\"#FFA15A\",\"#19d3f3\",\"#FF6692\",\"#B6E880\",\"#FF97FF\",\"#FECB52\"],\"font\":{\"color\":\"#2a3f5f\"},\"hovermode\":\"closest\",\"hoverlabel\":{\"align\":\"left\"},\"paper_bgcolor\":\"white\",\"plot_bgcolor\":\"#E5ECF6\",\"polar\":{\"bgcolor\":\"#E5ECF6\",\"angularaxis\":{\"gridcolor\":\"white\",\"linecolor\":\"white\",\"ticks\":\"\"},\"radialaxis\":{\"gridcolor\":\"white\",\"linecolor\":\"white\",\"ticks\":\"\"}},\"ternary\":{\"bgcolor\":\"#E5ECF6\",\"aaxis\":{\"gridcolor\":\"white\",\"linecolor\":\"white\",\"ticks\":\"\"},\"baxis\":{\"gridcolor\":\"white\",\"linecolor\":\"white\",\"ticks\":\"\"},\"caxis\":{\"gridcolor\":\"white\",\"linecolor\":\"white\",\"ticks\":\"\"}},\"coloraxis\":{\"colorbar\":{\"outlinewidth\":0,\"ticks\":\"\"}},\"colorscale\":{\"sequential\":[[0.0,\"#0d0887\"],[0.1111111111111111,\"#46039f\"],[0.2222222222222222,\"#7201a8\"],[0.3333333333333333,\"#9c179e\"],[0.4444444444444444,\"#bd3786\"],[0.5555555555555556,\"#d8576b\"],[0.6666666666666666,\"#ed7953\"],[0.7777777777777778,\"#fb9f3a\"],[0.8888888888888888,\"#fdca26\"],[1.0,\"#f0f921\"]],\"sequentialminus\":[[0.0,\"#0d0887\"],[0.1111111111111111,\"#46039f\"],[0.2222222222222222,\"#7201a8\"],[0.3333333333333333,\"#9c179e\"],[0.4444444444444444,\"#bd3786\"],[0.5555555555555556,\"#d8576b\"],[0.6666666666666666,\"#ed7953\"],[0.7777777777777778,\"#fb9f3a\"],[0.8888888888888888,\"#fdca26\"],[1.0,\"#f0f921\"]],\"diverging\":[[0,\"#8e0152\"],[0.1,\"#c51b7d\"],[0.2,\"#de77ae\"],[0.3,\"#f1b6da\"],[0.4,\"#fde0ef\"],[0.5,\"#f7f7f7\"],[0.6,\"#e6f5d0\"],[0.7,\"#b8e186\"],[0.8,\"#7fbc41\"],[0.9,\"#4d9221\"],[1,\"#276419\"]]},\"xaxis\":{\"gridcolor\":\"white\",\"linecolor\":\"white\",\"ticks\":\"\",\"title\":{\"standoff\":15},\"zerolinecolor\":\"white\",\"automargin\":true,\"zerolinewidth\":2},\"yaxis\":{\"gridcolor\":\"white\",\"linecolor\":\"white\",\"ticks\":\"\",\"title\":{\"standoff\":15},\"zerolinecolor\":\"white\",\"automargin\":true,\"zerolinewidth\":2},\"scene\":{\"xaxis\":{\"backgroundcolor\":\"#E5ECF6\",\"gridcolor\":\"white\",\"linecolor\":\"white\",\"showbackground\":true,\"ticks\":\"\",\"zerolinecolor\":\"white\",\"gridwidth\":2},\"yaxis\":{\"backgroundcolor\":\"#E5ECF6\",\"gridcolor\":\"white\",\"linecolor\":\"white\",\"showbackground\":true,\"ticks\":\"\",\"zerolinecolor\":\"white\",\"gridwidth\":2},\"zaxis\":{\"backgroundcolor\":\"#E5ECF6\",\"gridcolor\":\"white\",\"linecolor\":\"white\",\"showbackground\":true,\"ticks\":\"\",\"zerolinecolor\":\"white\",\"gridwidth\":2}},\"shapedefaults\":{\"line\":{\"color\":\"#2a3f5f\"}},\"annotationdefaults\":{\"arrowcolor\":\"#2a3f5f\",\"arrowhead\":0,\"arrowwidth\":1},\"geo\":{\"bgcolor\":\"white\",\"landcolor\":\"#E5ECF6\",\"subunitcolor\":\"white\",\"showland\":true,\"showlakes\":true,\"lakecolor\":\"white\"},\"title\":{\"x\":0.05},\"mapbox\":{\"style\":\"light\"}}},\"xaxis\":{\"anchor\":\"y\",\"domain\":[0.0,1.0],\"scaleanchor\":\"y\",\"constrain\":\"domain\",\"title\":{\"text\":\"Topic Centroids\"}},\"yaxis\":{\"anchor\":\"x\",\"domain\":[0.0,1.0],\"autorange\":\"reversed\",\"constrain\":\"domain\",\"title\":{\"text\":\"Human Readable Topics\"},\"tickfont\":{\"size\":5},\"automargin\":true,\"tickangle\":0},\"coloraxis\":{\"colorbar\":{\"title\":{\"text\":\"Cosine Similarity\"}},\"colorscale\":[[0.0,\"blue\"],[1.0,\"yellow\"]]},\"margin\":{\"t\":60},\"font\":{\"size\":10},\"title\":{\"text\":\"Pairwise Distance Matrix Heatmap (First 20 Labels, excluding outliers)\"},\"width\":1500,\"height\":1500},                        {\"responsive\": true}                    ).then(function(){\n",
       "                            \n",
       "var gd = document.getElementById('2afab0c5-857a-4b00-9e9f-9c73cffbbd0e');\n",
       "var x = new MutationObserver(function (mutations, observer) {{\n",
       "        var display = window.getComputedStyle(gd).display;\n",
       "        if (!display || display === 'none') {{\n",
       "            console.log([gd, 'removed!']);\n",
       "            Plotly.purge(gd);\n",
       "            observer.disconnect();\n",
       "        }}\n",
       "}});\n",
       "\n",
       "// Listen for the removal of the full notebook cells\n",
       "var notebookContainer = gd.closest('#notebook-container');\n",
       "if (notebookContainer) {{\n",
       "    x.observe(notebookContainer, {childList: true});\n",
       "}}\n",
       "\n",
       "// Listen for the clearing of the current output cell\n",
       "var outputEl = gd.closest('.output');\n",
       "if (outputEl) {{\n",
       "    x.observe(outputEl, {childList: true});\n",
       "}}\n",
       "\n",
       "                        })                };                });            </script>        </div>"
      ]
     },
     "metadata": {},
     "output_type": "display_data"
    }
   ],
   "source": [
    "import pandas as pd\n",
    "from sentence_transformers import SentenceTransformer\n",
    "import numpy as np\n",
    "from sklearn.metrics.pairwise import euclidean_distances\n",
    "import plotly.express as px\n",
    "import plotly.io as pio\n",
    "\n",
    "# Load the datasets\n",
    "second_step = pd.read_csv('First_Step_BERTopic_topic_info_labelled.csv')\n",
    "bertopic_result = pd.read_csv('First_Step_BERTopic_result.csv')\n",
    "\n",
    "# Initialize the sentence transformer model\n",
    "model = SentenceTransformer('sentence-transformers/all-MiniLM-L6-v2')\n",
    "\n",
    "# Group by Topic and calculate centroids of text embeddings\n",
    "grouped = bertopic_result.groupby('Topic Label')['text'].apply(list).reset_index()\n",
    "\n",
    "def calculate_centroid(texts):\n",
    "    embeddings = model.encode(texts)\n",
    "    centroid = np.mean(embeddings, axis=0)\n",
    "    return centroid\n",
    "\n",
    "grouped['centroid'] = grouped['text'].apply(calculate_centroid)\n",
    "\n",
    "# Calculate embeddings for Human_Readable_Topic in the second dataset\n",
    "second_step['Human_Readable_Topic_embedding'] = second_step['Human_Readable_Topic'].apply(lambda x: model.encode(x))\n",
    "\n",
    "# Prepare to compare all centroids with all Human_Readable_Topic embeddings\n",
    "centroids = grouped[['Topic Label', 'centroid']]\n",
    "human_readable_embeddings = second_step[['Human_Readable_Topic', 'Human_Readable_Topic_embedding']]\n",
    "\n",
    "# Exclude the first row from both centroids and human readable topics (assuming they are outliers)\n",
    "centroids_limited = centroids.iloc[1:21]  # Exclude first row and then select next 20 rows\n",
    "human_readable_embeddings_limited = human_readable_embeddings.iloc[1:21]  # Exclude first row and select next 20 rows\n",
    "\n",
    "# Initialize a matrix to store the pairwise Euclidean distances\n",
    "distance_matrix = np.zeros((len(human_readable_embeddings_limited), len(centroids_limited)))\n",
    "\n",
    "# Calculate the Euclidean distance for each pair (Human Readable Topic vs. Topic Centroid)\n",
    "for i, hr_embedding in enumerate(human_readable_embeddings_limited['Human_Readable_Topic_embedding']):\n",
    "    for j, centroid in enumerate(centroids_limited['centroid']):\n",
    "        distance = euclidean_distances([hr_embedding], [centroid])[0][0]\n",
    "        distance_matrix[i, j] = distance\n",
    "\n",
    "# Convert the distance matrix to a DataFrame for better readability\n",
    "distance_df_limited = pd.DataFrame(distance_matrix, \n",
    "                                   index=human_readable_embeddings_limited['Human_Readable_Topic'], \n",
    "                                   columns=centroids_limited['Topic Label'])\n",
    "\n",
    "# Save the limited distance DataFrame to a CSV file\n",
    "distance_df_limited.to_csv('first_step_pairwise_euclidean_distance_heatmap_20.csv', index=True)\n",
    "\n",
    "# Create an interactive heatmap for the limited data with a new color scale\n",
    "# Create an interactive heatmap for the limited data with a blue-to-yellow color scale\n",
    "fig = px.imshow(similarity_df_limited,\n",
    "                labels=dict(x=\"Topic Centroids\", y=\"Human Readable Topics\", color=\"Cosine Similarity\"),\n",
    "                x=similarity_df_limited.columns,\n",
    "                y=similarity_df_limited.index,\n",
    "                color_continuous_scale=['blue', 'yellow'],  # Custom gradient from blue to yellow\n",
    "                text_auto=True)\n",
    "\n",
    "# Adjust layout and ensure visibility\n",
    "fig.update_layout(title='Pairwise Distance Matrix Heatmap (First 20 Labels, excluding outliers)',\n",
    "                  xaxis_title='Topic Centroids',\n",
    "                  yaxis_title='Human Readable Topics',\n",
    "                  width=1500,\n",
    "                  height=1500,\n",
    "                  font=dict(size=10))  # Adjust font size here if needed\n",
    "\n",
    "# Update y-axis layout to ensure all labels are visible\n",
    "fig.update_yaxes(automargin=True,\n",
    "                 tickangle=0,  # Adjust the angle of y-axis labels\n",
    "                 tickfont=dict(size=5))  # Adjust the font size of y-axis labels\n",
    "\n",
    "# Save the figure as an interactive HTML file\n",
    "pio.write_html(fig, file='first_step_pairwise_euclidean_distance_heatmap_20.html', auto_open=False)\n",
    "\n",
    "# Save the figure as a static image (e.g., PNG)\n",
    "pio.write_image(fig, file='first_step_pairwise_euclidean_distance_heatmap_20.png', format='png', width=1500, height=1500, scale=3)\n",
    "\n",
    "# Display the heatmap\n",
    "fig.show()"
   ]
  },
  {
   "cell_type": "code",
   "execution_count": 11,
   "id": "94582ce4-4d93-463f-8ad3-f6a859c0a47a",
   "metadata": {},
   "outputs": [
    {
     "name": "stderr",
     "output_type": "stream",
     "text": [
      "/w0/tmp/slurm_yc656703.49445898/ipykernel_252833/792856023.py:10: DtypeWarning:\n",
      "\n",
      "Columns (0) have mixed types. Specify dtype option on import or set low_memory=False.\n",
      "\n",
      "/home/yc656703/.local/lib/python3.9/site-packages/huggingface_hub/file_download.py:1132: FutureWarning:\n",
      "\n",
      "`resume_download` is deprecated and will be removed in version 1.0.0. Downloads always resume when possible. If you want to force a new download, use `force_download=True`.\n",
      "\n"
     ]
    },
    {
     "data": {
      "application/vnd.plotly.v1+json": {
       "config": {
        "plotlyServerURL": "https://plot.ly"
       },
       "data": [
        {
         "coloraxis": "coloraxis",
         "hovertemplate": "Topic Centroids: %{x}<br>Human Readable Topics: %{y}<br>Cosine Similarity: %{z}<extra></extra>",
         "name": "0",
         "texttemplate": "%{z}",
         "type": "heatmap",
         "x": [
          0,
          1,
          2,
          3,
          4,
          5,
          6,
          7,
          8,
          9,
          10,
          11,
          12,
          13,
          14,
          15,
          16,
          17,
          18,
          19
         ],
         "xaxis": "x",
         "y": [
          "Medical Language Models for Clinical Diagnosis",
          "Recommender Systems with Advanced Techniques",
          "Cross-Lingual Language Models and Translation",
          "\"Robot Manipulation and Embodied Intelligence\"",
          "\"Deep Learning for Medical Image Segmentation\"",
          "Quantum Machine Learning and Neural Networks",
          "Adversarial Attacks on Deep Learning Models",
          "\"Large Language Model-based Intelligent Agents for Planning and Collaboration\"",
          "Molecular Representation Learning for Drug Discovery",
          "\"Reasoning with Large Language Models through Prompting\"",
          "Code Generation and Evaluation for Large Language Models",
          "Causal Discovery and Inference from Data",
          "Retrieval-Augmented Generation (RAG) Methods",
          "Multimodal Large Language Models (MLLMs)",
          "Time Series Forecasting with Deep Learning",
          "Autonomous Driving and Traffic Safety",
          "Stochastic Gradient Descent Optimizers",
          "ReLU Neural Networks Properties and Approximation",
          "\"Aligning Language Models with Human Preferences\"",
          "Automatic Speech Recognition (ASR) Systems"
         ],
         "yaxis": "y",
         "z": [
          [
           0.6513826847076416,
           0.19771698117256165,
           0.41712427139282227,
           0.1577996462583542,
           0.32220572233200073,
           0.08611142635345459,
           0.09343963116407394,
           0.28289657831192017,
           0.26873213052749634,
           0.36804699897766113,
           0.32687297463417053,
           0.2119317501783371,
           0.343772292137146,
           0.3089863061904907,
           0.19213134050369263,
           0.11414790898561478,
           0.11005005240440369,
           0.13026809692382812,
           0.2599015235900879,
           0.42924439907073975
          ],
          [
           0.1725405603647232,
           0.5166850686073303,
           0.07951866835355759,
           0.011986859142780304,
           0.07912030816078186,
           0.11271864175796509,
           0.02884656935930252,
           0.1185983419418335,
           0.12312312424182892,
           0.13486681878566742,
           0.08623793721199036,
           0.1925981491804123,
           0.24351803958415985,
           0.06898076832294464,
           0.14721162617206573,
           0.046490054577589035,
           0.10014352947473526,
           0.0744876116514206,
           0.14341503381729126,
           0.07979802787303925
          ],
          [
           0.3626401722431183,
           0.24899427592754364,
           0.686724066734314,
           0.20955708622932434,
           0.11911509931087494,
           0.05920886993408203,
           0.13253343105316162,
           0.32297444343566895,
           0.2050999104976654,
           0.3571126461029053,
           0.3368036448955536,
           0.2116079330444336,
           0.4124292731285095,
           0.3419150114059448,
           0.23104935884475708,
           0.13108588755130768,
           0.15801779925823212,
           0.16770796477794647,
           0.40531080961227417,
           0.43087249994277954
          ],
          [
           0.1084102913737297,
           -0.007236351724714041,
           0.09474344551563263,
           0.5420714616775513,
           0.04439608380198479,
           0.044251780956983566,
           0.07675094902515411,
           0.3434830605983734,
           0.07118555903434753,
           0.1830163300037384,
           0.07983581721782684,
           0.11170527338981628,
           0.06851126998662949,
           0.24315734207630157,
           0.008499585092067719,
           0.25559496879577637,
           0.04216005280613899,
           0.09236335754394531,
           0.136542409658432,
           0.062362898141145706
          ],
          [
           0.3635178506374359,
           0.14961841702461243,
           0.15406876802444458,
           0.2886781692504883,
           0.7060779929161072,
           0.2550964057445526,
           0.3579208254814148,
           0.13610254228115082,
           0.3445979952812195,
           0.14462916553020477,
           0.123814158141613,
           0.22086310386657715,
           0.10584039986133575,
           0.2802524268627167,
           0.28000107407569885,
           0.27378663420677185,
           0.35775136947631836,
           0.47043895721435547,
           0.12181708216667175,
           0.23830628395080566
          ],
          [
           0.13325442373752594,
           0.10084740817546844,
           0.09076584875583649,
           0.1856188178062439,
           0.22269821166992188,
           0.8206030130386353,
           0.25909191370010376,
           0.12524650990962982,
           0.31571757793426514,
           0.15135397017002106,
           0.07515972852706909,
           0.22917592525482178,
           0.1102818176150322,
           0.12714189291000366,
           0.2526576519012451,
           0.21782918274402618,
           0.29593995213508606,
           0.45167917013168335,
           0.1642618179321289,
           0.20222121477127075
          ],
          [
           0.1782245934009552,
           0.183546781539917,
           0.2580890655517578,
           0.2177681177854538,
           0.3699156939983368,
           0.30863821506500244,
           0.770519495010376,
           0.18458311259746552,
           0.3049262762069702,
           0.24829471111297607,
           0.2683941423892975,
           0.2884288430213928,
           0.17049050331115723,
           0.2837468683719635,
           0.3316348195075989,
           0.29051241278648376,
           0.38079965114593506,
           0.5315985679626465,
           0.25779658555984497,
           0.3549489974975586
          ],
          [
           0.4008936882019043,
           0.27458804845809937,
           0.449133038520813,
           0.46486255526542664,
           0.11167437583208084,
           0.1146833598613739,
           0.08333645015954971,
           0.7082574367523193,
           0.23147320747375488,
           0.49266475439071655,
           0.3868464231491089,
           0.2178603708744049,
           0.3868001103401184,
           0.3978342115879059,
           0.20204496383666992,
           0.4062148332595825,
           0.13624992966651917,
           0.13328596949577332,
           0.4525154232978821,
           0.350422739982605
          ],
          [
           0.3647223711013794,
           0.2402547150850296,
           0.19510018825531006,
           0.23251654207706451,
           0.37170785665512085,
           0.3165295124053955,
           0.2427087277173996,
           0.1809050440788269,
           0.7785441279411316,
           0.2497519999742508,
           0.1814478635787964,
           0.3317718505859375,
           0.20306268334388733,
           0.21888801455497742,
           0.29012757539749146,
           0.2236364483833313,
           0.23852086067199707,
           0.3445320129394531,
           0.2642202377319336,
           0.215382918715477
          ],
          [
           0.5109260082244873,
           0.3756887912750244,
           0.5239274501800537,
           0.40771257877349854,
           0.1923740655183792,
           0.16835719347000122,
           0.23344174027442932,
           0.6168838739395142,
           0.2688903510570526,
           0.7608911991119385,
           0.5141786336898804,
           0.340354859828949,
           0.4977191686630249,
           0.5425902605056763,
           0.23512649536132812,
           0.3416832685470581,
           0.1797211766242981,
           0.17665013670921326,
           0.5022403001785278,
           0.39179688692092896
          ],
          [
           0.47304531931877136,
           0.3259161114692688,
           0.6351314783096313,
           0.3003486096858978,
           0.18189027905464172,
           0.18238435685634613,
           0.2792012691497803,
           0.508393406867981,
           0.3676437735557556,
           0.540402889251709,
           0.7766647338867188,
           0.2458709180355072,
           0.5045811533927917,
           0.4558238685131073,
           0.2859044373035431,
           0.23828217387199402,
           0.25215911865234375,
           0.23934149742126465,
           0.48530977964401245,
           0.4672120213508606
          ],
          [
           0.19099494814872742,
           0.19102579355239868,
           0.08131382614374161,
           0.11186886578798294,
           0.09937482327222824,
           0.17571283876895905,
           0.12657439708709717,
           0.14945372939109802,
           0.21248042583465576,
           0.2130386233329773,
           0.10382184386253357,
           0.7210217118263245,
           0.1553683876991272,
           0.09634986519813538,
           0.19201461970806122,
           0.15328863263130188,
           0.1255810558795929,
           0.14950911700725555,
           0.14824947714805603,
           0.07758787274360657
          ],
          [
           0.3969784379005432,
           0.3055906891822815,
           0.39136365056037903,
           0.2655308246612549,
           0.15239644050598145,
           0.14065319299697876,
           0.09716740250587463,
           0.33476245403289795,
           0.2778167426586151,
           0.35645008087158203,
           0.361111044883728,
           0.23714157938957214,
           0.6337324976921082,
           0.33895403146743774,
           0.2191600799560547,
           0.13771963119506836,
           0.1970008760690689,
           0.11117230355739594,
           0.3597336411476135,
           0.2554044723510742
          ],
          [
           0.4779386520385742,
           0.3575640320777893,
           0.6258852481842041,
           0.428888738155365,
           0.3706154525279999,
           0.15075939893722534,
           0.29658210277557373,
           0.4876958131790161,
           0.41104140877723694,
           0.44112735986709595,
           0.39879855513572693,
           0.2927359938621521,
           0.4660975933074951,
           0.6737380027770996,
           0.3913208842277527,
           0.32324984669685364,
           0.2904588580131531,
           0.3316873610019684,
           0.46960216760635376,
           0.5857178568840027
          ],
          [
           0.20362858474254608,
           0.20994403958320618,
           0.22367732226848602,
           0.20461151003837585,
           0.31405383348464966,
           0.3288935720920563,
           0.3057920038700104,
           0.1587323248386383,
           0.3118041157722473,
           0.19111368060112,
           0.15240073204040527,
           0.19562363624572754,
           0.18366509675979614,
           0.2209477722644806,
           0.6787659525871277,
           0.285973459482193,
           0.3028101325035095,
           0.4201900362968445,
           0.16897925734519958,
           0.31679069995880127
          ],
          [
           0.07894523441791534,
           -0.014896148815751076,
           0.03893430531024933,
           0.2923482656478882,
           0.16886551678180695,
           0.14534145593643188,
           0.23112213611602783,
           0.20465916395187378,
           0.08817718923091888,
           0.13154950737953186,
           0.05735225975513458,
           0.13965177536010742,
           0.028792712837457657,
           0.1730813980102539,
           0.11370402574539185,
           0.5938164591789246,
           0.13501417636871338,
           0.12018910050392151,
           0.10046863555908203,
           0.0904722660779953
          ],
          [
           0.23216016590595245,
           0.26373010873794556,
           0.23413515090942383,
           0.27494657039642334,
           0.31947046518325806,
           0.3450722396373749,
           0.3543429374694824,
           0.2641545832157135,
           0.33602914214134216,
           0.24957485496997833,
           0.20618027448654175,
           0.27004754543304443,
           0.21034061908721924,
           0.24011008441448212,
           0.27173280715942383,
           0.29825931787490845,
           0.7581595778465271,
           0.5192301869392395,
           0.3404305577278137,
           0.3159327507019043
          ],
          [
           0.13926419615745544,
           0.19429337978363037,
           0.16314668953418732,
           0.2505528926849365,
           0.34190458059310913,
           0.36572980880737305,
           0.407956063747406,
           0.14217501878738403,
           0.314438134431839,
           0.1884758174419403,
           0.1337648630142212,
           0.22334450483322144,
           0.1398928165435791,
           0.22084671258926392,
           0.3035612404346466,
           0.23576828837394714,
           0.46293890476226807,
           0.6932617425918579,
           0.22886192798614502,
           0.25047579407691956
          ],
          [
           0.3995649218559265,
           0.3393726348876953,
           0.5544837117195129,
           0.30067986249923706,
           0.12076148390769958,
           0.09941931813955307,
           0.1828349083662033,
           0.44293463230133057,
           0.2845154106616974,
           0.45505329966545105,
           0.37794429063796997,
           0.20899197459220886,
           0.4224034547805786,
           0.40526390075683594,
           0.20162567496299744,
           0.19202184677124023,
           0.16377687454223633,
           0.18367262184619904,
           0.6285889148712158,
           0.4061434864997864
          ],
          [
           0.30626922845840454,
           0.16721737384796143,
           0.29078543186187744,
           0.15615224838256836,
           0.24524231255054474,
           0.13444112241268158,
           0.16151538491249084,
           0.1950148642063141,
           0.23062551021575928,
           0.19541747868061066,
           0.16290119290351868,
           0.13367559015750885,
           0.2476951777935028,
           0.24067124724388123,
           0.2587543725967407,
           0.14019359648227692,
           0.18458282947540283,
           0.19742566347122192,
           0.20424222946166992,
           0.6621373891830444
          ]
         ]
        }
       ],
       "layout": {
        "coloraxis": {
         "colorbar": {
          "title": {
           "text": "Cosine Similarity"
          }
         },
         "colorscale": [
          [
           0,
           "blue"
          ],
          [
           1,
           "yellow"
          ]
         ]
        },
        "font": {
         "size": 10
        },
        "height": 1500,
        "margin": {
         "t": 60
        },
        "template": {
         "data": {
          "bar": [
           {
            "error_x": {
             "color": "#2a3f5f"
            },
            "error_y": {
             "color": "#2a3f5f"
            },
            "marker": {
             "line": {
              "color": "#E5ECF6",
              "width": 0.5
             },
             "pattern": {
              "fillmode": "overlay",
              "size": 10,
              "solidity": 0.2
             }
            },
            "type": "bar"
           }
          ],
          "barpolar": [
           {
            "marker": {
             "line": {
              "color": "#E5ECF6",
              "width": 0.5
             },
             "pattern": {
              "fillmode": "overlay",
              "size": 10,
              "solidity": 0.2
             }
            },
            "type": "barpolar"
           }
          ],
          "carpet": [
           {
            "aaxis": {
             "endlinecolor": "#2a3f5f",
             "gridcolor": "white",
             "linecolor": "white",
             "minorgridcolor": "white",
             "startlinecolor": "#2a3f5f"
            },
            "baxis": {
             "endlinecolor": "#2a3f5f",
             "gridcolor": "white",
             "linecolor": "white",
             "minorgridcolor": "white",
             "startlinecolor": "#2a3f5f"
            },
            "type": "carpet"
           }
          ],
          "choropleth": [
           {
            "colorbar": {
             "outlinewidth": 0,
             "ticks": ""
            },
            "type": "choropleth"
           }
          ],
          "contour": [
           {
            "colorbar": {
             "outlinewidth": 0,
             "ticks": ""
            },
            "colorscale": [
             [
              0,
              "#0d0887"
             ],
             [
              0.1111111111111111,
              "#46039f"
             ],
             [
              0.2222222222222222,
              "#7201a8"
             ],
             [
              0.3333333333333333,
              "#9c179e"
             ],
             [
              0.4444444444444444,
              "#bd3786"
             ],
             [
              0.5555555555555556,
              "#d8576b"
             ],
             [
              0.6666666666666666,
              "#ed7953"
             ],
             [
              0.7777777777777778,
              "#fb9f3a"
             ],
             [
              0.8888888888888888,
              "#fdca26"
             ],
             [
              1,
              "#f0f921"
             ]
            ],
            "type": "contour"
           }
          ],
          "contourcarpet": [
           {
            "colorbar": {
             "outlinewidth": 0,
             "ticks": ""
            },
            "type": "contourcarpet"
           }
          ],
          "heatmap": [
           {
            "colorbar": {
             "outlinewidth": 0,
             "ticks": ""
            },
            "colorscale": [
             [
              0,
              "#0d0887"
             ],
             [
              0.1111111111111111,
              "#46039f"
             ],
             [
              0.2222222222222222,
              "#7201a8"
             ],
             [
              0.3333333333333333,
              "#9c179e"
             ],
             [
              0.4444444444444444,
              "#bd3786"
             ],
             [
              0.5555555555555556,
              "#d8576b"
             ],
             [
              0.6666666666666666,
              "#ed7953"
             ],
             [
              0.7777777777777778,
              "#fb9f3a"
             ],
             [
              0.8888888888888888,
              "#fdca26"
             ],
             [
              1,
              "#f0f921"
             ]
            ],
            "type": "heatmap"
           }
          ],
          "heatmapgl": [
           {
            "colorbar": {
             "outlinewidth": 0,
             "ticks": ""
            },
            "colorscale": [
             [
              0,
              "#0d0887"
             ],
             [
              0.1111111111111111,
              "#46039f"
             ],
             [
              0.2222222222222222,
              "#7201a8"
             ],
             [
              0.3333333333333333,
              "#9c179e"
             ],
             [
              0.4444444444444444,
              "#bd3786"
             ],
             [
              0.5555555555555556,
              "#d8576b"
             ],
             [
              0.6666666666666666,
              "#ed7953"
             ],
             [
              0.7777777777777778,
              "#fb9f3a"
             ],
             [
              0.8888888888888888,
              "#fdca26"
             ],
             [
              1,
              "#f0f921"
             ]
            ],
            "type": "heatmapgl"
           }
          ],
          "histogram": [
           {
            "marker": {
             "pattern": {
              "fillmode": "overlay",
              "size": 10,
              "solidity": 0.2
             }
            },
            "type": "histogram"
           }
          ],
          "histogram2d": [
           {
            "colorbar": {
             "outlinewidth": 0,
             "ticks": ""
            },
            "colorscale": [
             [
              0,
              "#0d0887"
             ],
             [
              0.1111111111111111,
              "#46039f"
             ],
             [
              0.2222222222222222,
              "#7201a8"
             ],
             [
              0.3333333333333333,
              "#9c179e"
             ],
             [
              0.4444444444444444,
              "#bd3786"
             ],
             [
              0.5555555555555556,
              "#d8576b"
             ],
             [
              0.6666666666666666,
              "#ed7953"
             ],
             [
              0.7777777777777778,
              "#fb9f3a"
             ],
             [
              0.8888888888888888,
              "#fdca26"
             ],
             [
              1,
              "#f0f921"
             ]
            ],
            "type": "histogram2d"
           }
          ],
          "histogram2dcontour": [
           {
            "colorbar": {
             "outlinewidth": 0,
             "ticks": ""
            },
            "colorscale": [
             [
              0,
              "#0d0887"
             ],
             [
              0.1111111111111111,
              "#46039f"
             ],
             [
              0.2222222222222222,
              "#7201a8"
             ],
             [
              0.3333333333333333,
              "#9c179e"
             ],
             [
              0.4444444444444444,
              "#bd3786"
             ],
             [
              0.5555555555555556,
              "#d8576b"
             ],
             [
              0.6666666666666666,
              "#ed7953"
             ],
             [
              0.7777777777777778,
              "#fb9f3a"
             ],
             [
              0.8888888888888888,
              "#fdca26"
             ],
             [
              1,
              "#f0f921"
             ]
            ],
            "type": "histogram2dcontour"
           }
          ],
          "mesh3d": [
           {
            "colorbar": {
             "outlinewidth": 0,
             "ticks": ""
            },
            "type": "mesh3d"
           }
          ],
          "parcoords": [
           {
            "line": {
             "colorbar": {
              "outlinewidth": 0,
              "ticks": ""
             }
            },
            "type": "parcoords"
           }
          ],
          "pie": [
           {
            "automargin": true,
            "type": "pie"
           }
          ],
          "scatter": [
           {
            "fillpattern": {
             "fillmode": "overlay",
             "size": 10,
             "solidity": 0.2
            },
            "type": "scatter"
           }
          ],
          "scatter3d": [
           {
            "line": {
             "colorbar": {
              "outlinewidth": 0,
              "ticks": ""
             }
            },
            "marker": {
             "colorbar": {
              "outlinewidth": 0,
              "ticks": ""
             }
            },
            "type": "scatter3d"
           }
          ],
          "scattercarpet": [
           {
            "marker": {
             "colorbar": {
              "outlinewidth": 0,
              "ticks": ""
             }
            },
            "type": "scattercarpet"
           }
          ],
          "scattergeo": [
           {
            "marker": {
             "colorbar": {
              "outlinewidth": 0,
              "ticks": ""
             }
            },
            "type": "scattergeo"
           }
          ],
          "scattergl": [
           {
            "marker": {
             "colorbar": {
              "outlinewidth": 0,
              "ticks": ""
             }
            },
            "type": "scattergl"
           }
          ],
          "scattermapbox": [
           {
            "marker": {
             "colorbar": {
              "outlinewidth": 0,
              "ticks": ""
             }
            },
            "type": "scattermapbox"
           }
          ],
          "scatterpolar": [
           {
            "marker": {
             "colorbar": {
              "outlinewidth": 0,
              "ticks": ""
             }
            },
            "type": "scatterpolar"
           }
          ],
          "scatterpolargl": [
           {
            "marker": {
             "colorbar": {
              "outlinewidth": 0,
              "ticks": ""
             }
            },
            "type": "scatterpolargl"
           }
          ],
          "scatterternary": [
           {
            "marker": {
             "colorbar": {
              "outlinewidth": 0,
              "ticks": ""
             }
            },
            "type": "scatterternary"
           }
          ],
          "surface": [
           {
            "colorbar": {
             "outlinewidth": 0,
             "ticks": ""
            },
            "colorscale": [
             [
              0,
              "#0d0887"
             ],
             [
              0.1111111111111111,
              "#46039f"
             ],
             [
              0.2222222222222222,
              "#7201a8"
             ],
             [
              0.3333333333333333,
              "#9c179e"
             ],
             [
              0.4444444444444444,
              "#bd3786"
             ],
             [
              0.5555555555555556,
              "#d8576b"
             ],
             [
              0.6666666666666666,
              "#ed7953"
             ],
             [
              0.7777777777777778,
              "#fb9f3a"
             ],
             [
              0.8888888888888888,
              "#fdca26"
             ],
             [
              1,
              "#f0f921"
             ]
            ],
            "type": "surface"
           }
          ],
          "table": [
           {
            "cells": {
             "fill": {
              "color": "#EBF0F8"
             },
             "line": {
              "color": "white"
             }
            },
            "header": {
             "fill": {
              "color": "#C8D4E3"
             },
             "line": {
              "color": "white"
             }
            },
            "type": "table"
           }
          ]
         },
         "layout": {
          "annotationdefaults": {
           "arrowcolor": "#2a3f5f",
           "arrowhead": 0,
           "arrowwidth": 1
          },
          "autotypenumbers": "strict",
          "coloraxis": {
           "colorbar": {
            "outlinewidth": 0,
            "ticks": ""
           }
          },
          "colorscale": {
           "diverging": [
            [
             0,
             "#8e0152"
            ],
            [
             0.1,
             "#c51b7d"
            ],
            [
             0.2,
             "#de77ae"
            ],
            [
             0.3,
             "#f1b6da"
            ],
            [
             0.4,
             "#fde0ef"
            ],
            [
             0.5,
             "#f7f7f7"
            ],
            [
             0.6,
             "#e6f5d0"
            ],
            [
             0.7,
             "#b8e186"
            ],
            [
             0.8,
             "#7fbc41"
            ],
            [
             0.9,
             "#4d9221"
            ],
            [
             1,
             "#276419"
            ]
           ],
           "sequential": [
            [
             0,
             "#0d0887"
            ],
            [
             0.1111111111111111,
             "#46039f"
            ],
            [
             0.2222222222222222,
             "#7201a8"
            ],
            [
             0.3333333333333333,
             "#9c179e"
            ],
            [
             0.4444444444444444,
             "#bd3786"
            ],
            [
             0.5555555555555556,
             "#d8576b"
            ],
            [
             0.6666666666666666,
             "#ed7953"
            ],
            [
             0.7777777777777778,
             "#fb9f3a"
            ],
            [
             0.8888888888888888,
             "#fdca26"
            ],
            [
             1,
             "#f0f921"
            ]
           ],
           "sequentialminus": [
            [
             0,
             "#0d0887"
            ],
            [
             0.1111111111111111,
             "#46039f"
            ],
            [
             0.2222222222222222,
             "#7201a8"
            ],
            [
             0.3333333333333333,
             "#9c179e"
            ],
            [
             0.4444444444444444,
             "#bd3786"
            ],
            [
             0.5555555555555556,
             "#d8576b"
            ],
            [
             0.6666666666666666,
             "#ed7953"
            ],
            [
             0.7777777777777778,
             "#fb9f3a"
            ],
            [
             0.8888888888888888,
             "#fdca26"
            ],
            [
             1,
             "#f0f921"
            ]
           ]
          },
          "colorway": [
           "#636efa",
           "#EF553B",
           "#00cc96",
           "#ab63fa",
           "#FFA15A",
           "#19d3f3",
           "#FF6692",
           "#B6E880",
           "#FF97FF",
           "#FECB52"
          ],
          "font": {
           "color": "#2a3f5f"
          },
          "geo": {
           "bgcolor": "white",
           "lakecolor": "white",
           "landcolor": "#E5ECF6",
           "showlakes": true,
           "showland": true,
           "subunitcolor": "white"
          },
          "hoverlabel": {
           "align": "left"
          },
          "hovermode": "closest",
          "mapbox": {
           "style": "light"
          },
          "paper_bgcolor": "white",
          "plot_bgcolor": "#E5ECF6",
          "polar": {
           "angularaxis": {
            "gridcolor": "white",
            "linecolor": "white",
            "ticks": ""
           },
           "bgcolor": "#E5ECF6",
           "radialaxis": {
            "gridcolor": "white",
            "linecolor": "white",
            "ticks": ""
           }
          },
          "scene": {
           "xaxis": {
            "backgroundcolor": "#E5ECF6",
            "gridcolor": "white",
            "gridwidth": 2,
            "linecolor": "white",
            "showbackground": true,
            "ticks": "",
            "zerolinecolor": "white"
           },
           "yaxis": {
            "backgroundcolor": "#E5ECF6",
            "gridcolor": "white",
            "gridwidth": 2,
            "linecolor": "white",
            "showbackground": true,
            "ticks": "",
            "zerolinecolor": "white"
           },
           "zaxis": {
            "backgroundcolor": "#E5ECF6",
            "gridcolor": "white",
            "gridwidth": 2,
            "linecolor": "white",
            "showbackground": true,
            "ticks": "",
            "zerolinecolor": "white"
           }
          },
          "shapedefaults": {
           "line": {
            "color": "#2a3f5f"
           }
          },
          "ternary": {
           "aaxis": {
            "gridcolor": "white",
            "linecolor": "white",
            "ticks": ""
           },
           "baxis": {
            "gridcolor": "white",
            "linecolor": "white",
            "ticks": ""
           },
           "bgcolor": "#E5ECF6",
           "caxis": {
            "gridcolor": "white",
            "linecolor": "white",
            "ticks": ""
           }
          },
          "title": {
           "x": 0.05
          },
          "xaxis": {
           "automargin": true,
           "gridcolor": "white",
           "linecolor": "white",
           "ticks": "",
           "title": {
            "standoff": 15
           },
           "zerolinecolor": "white",
           "zerolinewidth": 2
          },
          "yaxis": {
           "automargin": true,
           "gridcolor": "white",
           "linecolor": "white",
           "ticks": "",
           "title": {
            "standoff": 15
           },
           "zerolinecolor": "white",
           "zerolinewidth": 2
          }
         }
        },
        "title": {
         "text": "Pairwise Cosine Similarity Matrix Heatmap (First 20 Labels, excluding outliers)"
        },
        "width": 1500,
        "xaxis": {
         "anchor": "y",
         "autorange": true,
         "constrain": "domain",
         "domain": [
          0,
          1
         ],
         "range": [
          -0.5,
          19.5
         ],
         "scaleanchor": "y",
         "title": {
          "text": "Topic Centroids"
         },
         "type": "linear"
        },
        "yaxis": {
         "anchor": "x",
         "automargin": true,
         "autorange": true,
         "constrain": "domain",
         "domain": [
          0,
          1
         ],
         "range": [
          19.5,
          -0.5
         ],
         "tickangle": 0,
         "tickfont": {
          "size": 5
         },
         "title": {
          "text": "Human Readable Topics"
         },
         "type": "category"
        }
       }
      },
      "image/png": "[encoded data removed]",
      "text/html": [
       "<div>                            <div id=\"85bd94fc-c123-4616-8db3-38b64a4cf3f4\" class=\"plotly-graph-div\" style=\"height:1500px; width:1500px;\"></div>            <script type=\"text/javascript\">                require([\"plotly\"], function(Plotly) {                    window.PLOTLYENV=window.PLOTLYENV || {};                                    if (document.getElementById(\"85bd94fc-c123-4616-8db3-38b64a4cf3f4\")) {                    Plotly.newPlot(                        \"85bd94fc-c123-4616-8db3-38b64a4cf3f4\",                        [{\"coloraxis\":\"coloraxis\",\"name\":\"0\",\"texttemplate\":\"%{z}\",\"x\":[0.0,1.0,2.0,3.0,4.0,5.0,6.0,7.0,8.0,9.0,10.0,11.0,12.0,13.0,14.0,15.0,16.0,17.0,18.0,19.0],\"y\":[\"Medical Language Models for Clinical Diagnosis\",\"Recommender Systems with Advanced Techniques\",\"Cross-Lingual Language Models and Translation\",\"\\\"Robot Manipulation and Embodied Intelligence\\\"\",\"\\\"Deep Learning for Medical Image Segmentation\\\"\",\"Quantum Machine Learning and Neural Networks\",\"Adversarial Attacks on Deep Learning Models\",\"\\\"Large Language Model-based Intelligent Agents for Planning and Collaboration\\\"\",\"Molecular Representation Learning for Drug Discovery\",\"\\\"Reasoning with Large Language Models through Prompting\\\"\",\"Code Generation and Evaluation for Large Language Models\",\"Causal Discovery and Inference from Data\",\"Retrieval-Augmented Generation (RAG) Methods\",\"Multimodal Large Language Models (MLLMs)\",\"Time Series Forecasting with Deep Learning\",\"Autonomous Driving and Traffic Safety\",\"Stochastic Gradient Descent Optimizers\",\"ReLU Neural Networks Properties and Approximation\",\"\\\"Aligning Language Models with Human Preferences\\\"\",\"Automatic Speech Recognition (ASR) Systems\"],\"z\":[[0.6513826847076416,0.19771698117256165,0.41712427139282227,0.1577996462583542,0.32220572233200073,0.08611142635345459,0.09343963116407394,0.28289657831192017,0.26873213052749634,0.36804699897766113,0.32687297463417053,0.2119317501783371,0.343772292137146,0.3089863061904907,0.19213134050369263,0.11414790898561478,0.11005005240440369,0.13026809692382812,0.2599015235900879,0.42924439907073975],[0.1725405603647232,0.5166850686073303,0.07951866835355759,0.011986859142780304,0.07912030816078186,0.11271864175796509,0.02884656935930252,0.1185983419418335,0.12312312424182892,0.13486681878566742,0.08623793721199036,0.1925981491804123,0.24351803958415985,0.06898076832294464,0.14721162617206573,0.046490054577589035,0.10014352947473526,0.0744876116514206,0.14341503381729126,0.07979802787303925],[0.3626401722431183,0.24899427592754364,0.686724066734314,0.20955708622932434,0.11911509931087494,0.05920886993408203,0.13253343105316162,0.32297444343566895,0.2050999104976654,0.3571126461029053,0.3368036448955536,0.2116079330444336,0.4124292731285095,0.3419150114059448,0.23104935884475708,0.13108588755130768,0.15801779925823212,0.16770796477794647,0.40531080961227417,0.43087249994277954],[0.1084102913737297,-0.007236351724714041,0.09474344551563263,0.5420714616775513,0.04439608380198479,0.044251780956983566,0.07675094902515411,0.3434830605983734,0.07118555903434753,0.1830163300037384,0.07983581721782684,0.11170527338981628,0.06851126998662949,0.24315734207630157,0.008499585092067719,0.25559496879577637,0.04216005280613899,0.09236335754394531,0.136542409658432,0.062362898141145706],[0.3635178506374359,0.14961841702461243,0.15406876802444458,0.2886781692504883,0.7060779929161072,0.2550964057445526,0.3579208254814148,0.13610254228115082,0.3445979952812195,0.14462916553020477,0.123814158141613,0.22086310386657715,0.10584039986133575,0.2802524268627167,0.28000107407569885,0.27378663420677185,0.35775136947631836,0.47043895721435547,0.12181708216667175,0.23830628395080566],[0.13325442373752594,0.10084740817546844,0.09076584875583649,0.1856188178062439,0.22269821166992188,0.8206030130386353,0.25909191370010376,0.12524650990962982,0.31571757793426514,0.15135397017002106,0.07515972852706909,0.22917592525482178,0.1102818176150322,0.12714189291000366,0.2526576519012451,0.21782918274402618,0.29593995213508606,0.45167917013168335,0.1642618179321289,0.20222121477127075],[0.1782245934009552,0.183546781539917,0.2580890655517578,0.2177681177854538,0.3699156939983368,0.30863821506500244,0.770519495010376,0.18458311259746552,0.3049262762069702,0.24829471111297607,0.2683941423892975,0.2884288430213928,0.17049050331115723,0.2837468683719635,0.3316348195075989,0.29051241278648376,0.38079965114593506,0.5315985679626465,0.25779658555984497,0.3549489974975586],[0.4008936882019043,0.27458804845809937,0.449133038520813,0.46486255526542664,0.11167437583208084,0.1146833598613739,0.08333645015954971,0.7082574367523193,0.23147320747375488,0.49266475439071655,0.3868464231491089,0.2178603708744049,0.3868001103401184,0.3978342115879059,0.20204496383666992,0.4062148332595825,0.13624992966651917,0.13328596949577332,0.4525154232978821,0.350422739982605],[0.3647223711013794,0.2402547150850296,0.19510018825531006,0.23251654207706451,0.37170785665512085,0.3165295124053955,0.2427087277173996,0.1809050440788269,0.7785441279411316,0.2497519999742508,0.1814478635787964,0.3317718505859375,0.20306268334388733,0.21888801455497742,0.29012757539749146,0.2236364483833313,0.23852086067199707,0.3445320129394531,0.2642202377319336,0.215382918715477],[0.5109260082244873,0.3756887912750244,0.5239274501800537,0.40771257877349854,0.1923740655183792,0.16835719347000122,0.23344174027442932,0.6168838739395142,0.2688903510570526,0.7608911991119385,0.5141786336898804,0.340354859828949,0.4977191686630249,0.5425902605056763,0.23512649536132812,0.3416832685470581,0.1797211766242981,0.17665013670921326,0.5022403001785278,0.39179688692092896],[0.47304531931877136,0.3259161114692688,0.6351314783096313,0.3003486096858978,0.18189027905464172,0.18238435685634613,0.2792012691497803,0.508393406867981,0.3676437735557556,0.540402889251709,0.7766647338867188,0.2458709180355072,0.5045811533927917,0.4558238685131073,0.2859044373035431,0.23828217387199402,0.25215911865234375,0.23934149742126465,0.48530977964401245,0.4672120213508606],[0.19099494814872742,0.19102579355239868,0.08131382614374161,0.11186886578798294,0.09937482327222824,0.17571283876895905,0.12657439708709717,0.14945372939109802,0.21248042583465576,0.2130386233329773,0.10382184386253357,0.7210217118263245,0.1553683876991272,0.09634986519813538,0.19201461970806122,0.15328863263130188,0.1255810558795929,0.14950911700725555,0.14824947714805603,0.07758787274360657],[0.3969784379005432,0.3055906891822815,0.39136365056037903,0.2655308246612549,0.15239644050598145,0.14065319299697876,0.09716740250587463,0.33476245403289795,0.2778167426586151,0.35645008087158203,0.361111044883728,0.23714157938957214,0.6337324976921082,0.33895403146743774,0.2191600799560547,0.13771963119506836,0.1970008760690689,0.11117230355739594,0.3597336411476135,0.2554044723510742],[0.4779386520385742,0.3575640320777893,0.6258852481842041,0.428888738155365,0.3706154525279999,0.15075939893722534,0.29658210277557373,0.4876958131790161,0.41104140877723694,0.44112735986709595,0.39879855513572693,0.2927359938621521,0.4660975933074951,0.6737380027770996,0.3913208842277527,0.32324984669685364,0.2904588580131531,0.3316873610019684,0.46960216760635376,0.5857178568840027],[0.20362858474254608,0.20994403958320618,0.22367732226848602,0.20461151003837585,0.31405383348464966,0.3288935720920563,0.3057920038700104,0.1587323248386383,0.3118041157722473,0.19111368060112,0.15240073204040527,0.19562363624572754,0.18366509675979614,0.2209477722644806,0.6787659525871277,0.285973459482193,0.3028101325035095,0.4201900362968445,0.16897925734519958,0.31679069995880127],[0.07894523441791534,-0.014896148815751076,0.03893430531024933,0.2923482656478882,0.16886551678180695,0.14534145593643188,0.23112213611602783,0.20465916395187378,0.08817718923091888,0.13154950737953186,0.05735225975513458,0.13965177536010742,0.028792712837457657,0.1730813980102539,0.11370402574539185,0.5938164591789246,0.13501417636871338,0.12018910050392151,0.10046863555908203,0.0904722660779953],[0.23216016590595245,0.26373010873794556,0.23413515090942383,0.27494657039642334,0.31947046518325806,0.3450722396373749,0.3543429374694824,0.2641545832157135,0.33602914214134216,0.24957485496997833,0.20618027448654175,0.27004754543304443,0.21034061908721924,0.24011008441448212,0.27173280715942383,0.29825931787490845,0.7581595778465271,0.5192301869392395,0.3404305577278137,0.3159327507019043],[0.13926419615745544,0.19429337978363037,0.16314668953418732,0.2505528926849365,0.34190458059310913,0.36572980880737305,0.407956063747406,0.14217501878738403,0.314438134431839,0.1884758174419403,0.1337648630142212,0.22334450483322144,0.1398928165435791,0.22084671258926392,0.3035612404346466,0.23576828837394714,0.46293890476226807,0.6932617425918579,0.22886192798614502,0.25047579407691956],[0.3995649218559265,0.3393726348876953,0.5544837117195129,0.30067986249923706,0.12076148390769958,0.09941931813955307,0.1828349083662033,0.44293463230133057,0.2845154106616974,0.45505329966545105,0.37794429063796997,0.20899197459220886,0.4224034547805786,0.40526390075683594,0.20162567496299744,0.19202184677124023,0.16377687454223633,0.18367262184619904,0.6285889148712158,0.4061434864997864],[0.30626922845840454,0.16721737384796143,0.29078543186187744,0.15615224838256836,0.24524231255054474,0.13444112241268158,0.16151538491249084,0.1950148642063141,0.23062551021575928,0.19541747868061066,0.16290119290351868,0.13367559015750885,0.2476951777935028,0.24067124724388123,0.2587543725967407,0.14019359648227692,0.18458282947540283,0.19742566347122192,0.20424222946166992,0.6621373891830444]],\"type\":\"heatmap\",\"xaxis\":\"x\",\"yaxis\":\"y\",\"hovertemplate\":\"Topic Centroids: %{x}<br>Human Readable Topics: %{y}<br>Cosine Similarity: %{z}<extra></extra>\"}],                        {\"template\":{\"data\":{\"histogram2dcontour\":[{\"type\":\"histogram2dcontour\",\"colorbar\":{\"outlinewidth\":0,\"ticks\":\"\"},\"colorscale\":[[0.0,\"#0d0887\"],[0.1111111111111111,\"#46039f\"],[0.2222222222222222,\"#7201a8\"],[0.3333333333333333,\"#9c179e\"],[0.4444444444444444,\"#bd3786\"],[0.5555555555555556,\"#d8576b\"],[0.6666666666666666,\"#ed7953\"],[0.7777777777777778,\"#fb9f3a\"],[0.8888888888888888,\"#fdca26\"],[1.0,\"#f0f921\"]]}],\"choropleth\":[{\"type\":\"choropleth\",\"colorbar\":{\"outlinewidth\":0,\"ticks\":\"\"}}],\"histogram2d\":[{\"type\":\"histogram2d\",\"colorbar\":{\"outlinewidth\":0,\"ticks\":\"\"},\"colorscale\":[[0.0,\"#0d0887\"],[0.1111111111111111,\"#46039f\"],[0.2222222222222222,\"#7201a8\"],[0.3333333333333333,\"#9c179e\"],[0.4444444444444444,\"#bd3786\"],[0.5555555555555556,\"#d8576b\"],[0.6666666666666666,\"#ed7953\"],[0.7777777777777778,\"#fb9f3a\"],[0.8888888888888888,\"#fdca26\"],[1.0,\"#f0f921\"]]}],\"heatmap\":[{\"type\":\"heatmap\",\"colorbar\":{\"outlinewidth\":0,\"ticks\":\"\"},\"colorscale\":[[0.0,\"#0d0887\"],[0.1111111111111111,\"#46039f\"],[0.2222222222222222,\"#7201a8\"],[0.3333333333333333,\"#9c179e\"],[0.4444444444444444,\"#bd3786\"],[0.5555555555555556,\"#d8576b\"],[0.6666666666666666,\"#ed7953\"],[0.7777777777777778,\"#fb9f3a\"],[0.8888888888888888,\"#fdca26\"],[1.0,\"#f0f921\"]]}],\"heatmapgl\":[{\"type\":\"heatmapgl\",\"colorbar\":{\"outlinewidth\":0,\"ticks\":\"\"},\"colorscale\":[[0.0,\"#0d0887\"],[0.1111111111111111,\"#46039f\"],[0.2222222222222222,\"#7201a8\"],[0.3333333333333333,\"#9c179e\"],[0.4444444444444444,\"#bd3786\"],[0.5555555555555556,\"#d8576b\"],[0.6666666666666666,\"#ed7953\"],[0.7777777777777778,\"#fb9f3a\"],[0.8888888888888888,\"#fdca26\"],[1.0,\"#f0f921\"]]}],\"contourcarpet\":[{\"type\":\"contourcarpet\",\"colorbar\":{\"outlinewidth\":0,\"ticks\":\"\"}}],\"contour\":[{\"type\":\"contour\",\"colorbar\":{\"outlinewidth\":0,\"ticks\":\"\"},\"colorscale\":[[0.0,\"#0d0887\"],[0.1111111111111111,\"#46039f\"],[0.2222222222222222,\"#7201a8\"],[0.3333333333333333,\"#9c179e\"],[0.4444444444444444,\"#bd3786\"],[0.5555555555555556,\"#d8576b\"],[0.6666666666666666,\"#ed7953\"],[0.7777777777777778,\"#fb9f3a\"],[0.8888888888888888,\"#fdca26\"],[1.0,\"#f0f921\"]]}],\"surface\":[{\"type\":\"surface\",\"colorbar\":{\"outlinewidth\":0,\"ticks\":\"\"},\"colorscale\":[[0.0,\"#0d0887\"],[0.1111111111111111,\"#46039f\"],[0.2222222222222222,\"#7201a8\"],[0.3333333333333333,\"#9c179e\"],[0.4444444444444444,\"#bd3786\"],[0.5555555555555556,\"#d8576b\"],[0.6666666666666666,\"#ed7953\"],[0.7777777777777778,\"#fb9f3a\"],[0.8888888888888888,\"#fdca26\"],[1.0,\"#f0f921\"]]}],\"mesh3d\":[{\"type\":\"mesh3d\",\"colorbar\":{\"outlinewidth\":0,\"ticks\":\"\"}}],\"scatter\":[{\"fillpattern\":{\"fillmode\":\"overlay\",\"size\":10,\"solidity\":0.2},\"type\":\"scatter\"}],\"parcoords\":[{\"type\":\"parcoords\",\"line\":{\"colorbar\":{\"outlinewidth\":0,\"ticks\":\"\"}}}],\"scatterpolargl\":[{\"type\":\"scatterpolargl\",\"marker\":{\"colorbar\":{\"outlinewidth\":0,\"ticks\":\"\"}}}],\"bar\":[{\"error_x\":{\"color\":\"#2a3f5f\"},\"error_y\":{\"color\":\"#2a3f5f\"},\"marker\":{\"line\":{\"color\":\"#E5ECF6\",\"width\":0.5},\"pattern\":{\"fillmode\":\"overlay\",\"size\":10,\"solidity\":0.2}},\"type\":\"bar\"}],\"scattergeo\":[{\"type\":\"scattergeo\",\"marker\":{\"colorbar\":{\"outlinewidth\":0,\"ticks\":\"\"}}}],\"scatterpolar\":[{\"type\":\"scatterpolar\",\"marker\":{\"colorbar\":{\"outlinewidth\":0,\"ticks\":\"\"}}}],\"histogram\":[{\"marker\":{\"pattern\":{\"fillmode\":\"overlay\",\"size\":10,\"solidity\":0.2}},\"type\":\"histogram\"}],\"scattergl\":[{\"type\":\"scattergl\",\"marker\":{\"colorbar\":{\"outlinewidth\":0,\"ticks\":\"\"}}}],\"scatter3d\":[{\"type\":\"scatter3d\",\"line\":{\"colorbar\":{\"outlinewidth\":0,\"ticks\":\"\"}},\"marker\":{\"colorbar\":{\"outlinewidth\":0,\"ticks\":\"\"}}}],\"scattermapbox\":[{\"type\":\"scattermapbox\",\"marker\":{\"colorbar\":{\"outlinewidth\":0,\"ticks\":\"\"}}}],\"scatterternary\":[{\"type\":\"scatterternary\",\"marker\":{\"colorbar\":{\"outlinewidth\":0,\"ticks\":\"\"}}}],\"scattercarpet\":[{\"type\":\"scattercarpet\",\"marker\":{\"colorbar\":{\"outlinewidth\":0,\"ticks\":\"\"}}}],\"carpet\":[{\"aaxis\":{\"endlinecolor\":\"#2a3f5f\",\"gridcolor\":\"white\",\"linecolor\":\"white\",\"minorgridcolor\":\"white\",\"startlinecolor\":\"#2a3f5f\"},\"baxis\":{\"endlinecolor\":\"#2a3f5f\",\"gridcolor\":\"white\",\"linecolor\":\"white\",\"minorgridcolor\":\"white\",\"startlinecolor\":\"#2a3f5f\"},\"type\":\"carpet\"}],\"table\":[{\"cells\":{\"fill\":{\"color\":\"#EBF0F8\"},\"line\":{\"color\":\"white\"}},\"header\":{\"fill\":{\"color\":\"#C8D4E3\"},\"line\":{\"color\":\"white\"}},\"type\":\"table\"}],\"barpolar\":[{\"marker\":{\"line\":{\"color\":\"#E5ECF6\",\"width\":0.5},\"pattern\":{\"fillmode\":\"overlay\",\"size\":10,\"solidity\":0.2}},\"type\":\"barpolar\"}],\"pie\":[{\"automargin\":true,\"type\":\"pie\"}]},\"layout\":{\"autotypenumbers\":\"strict\",\"colorway\":[\"#636efa\",\"#EF553B\",\"#00cc96\",\"#ab63fa\",\"#FFA15A\",\"#19d3f3\",\"#FF6692\",\"#B6E880\",\"#FF97FF\",\"#FECB52\"],\"font\":{\"color\":\"#2a3f5f\"},\"hovermode\":\"closest\",\"hoverlabel\":{\"align\":\"left\"},\"paper_bgcolor\":\"white\",\"plot_bgcolor\":\"#E5ECF6\",\"polar\":{\"bgcolor\":\"#E5ECF6\",\"angularaxis\":{\"gridcolor\":\"white\",\"linecolor\":\"white\",\"ticks\":\"\"},\"radialaxis\":{\"gridcolor\":\"white\",\"linecolor\":\"white\",\"ticks\":\"\"}},\"ternary\":{\"bgcolor\":\"#E5ECF6\",\"aaxis\":{\"gridcolor\":\"white\",\"linecolor\":\"white\",\"ticks\":\"\"},\"baxis\":{\"gridcolor\":\"white\",\"linecolor\":\"white\",\"ticks\":\"\"},\"caxis\":{\"gridcolor\":\"white\",\"linecolor\":\"white\",\"ticks\":\"\"}},\"coloraxis\":{\"colorbar\":{\"outlinewidth\":0,\"ticks\":\"\"}},\"colorscale\":{\"sequential\":[[0.0,\"#0d0887\"],[0.1111111111111111,\"#46039f\"],[0.2222222222222222,\"#7201a8\"],[0.3333333333333333,\"#9c179e\"],[0.4444444444444444,\"#bd3786\"],[0.5555555555555556,\"#d8576b\"],[0.6666666666666666,\"#ed7953\"],[0.7777777777777778,\"#fb9f3a\"],[0.8888888888888888,\"#fdca26\"],[1.0,\"#f0f921\"]],\"sequentialminus\":[[0.0,\"#0d0887\"],[0.1111111111111111,\"#46039f\"],[0.2222222222222222,\"#7201a8\"],[0.3333333333333333,\"#9c179e\"],[0.4444444444444444,\"#bd3786\"],[0.5555555555555556,\"#d8576b\"],[0.6666666666666666,\"#ed7953\"],[0.7777777777777778,\"#fb9f3a\"],[0.8888888888888888,\"#fdca26\"],[1.0,\"#f0f921\"]],\"diverging\":[[0,\"#8e0152\"],[0.1,\"#c51b7d\"],[0.2,\"#de77ae\"],[0.3,\"#f1b6da\"],[0.4,\"#fde0ef\"],[0.5,\"#f7f7f7\"],[0.6,\"#e6f5d0\"],[0.7,\"#b8e186\"],[0.8,\"#7fbc41\"],[0.9,\"#4d9221\"],[1,\"#276419\"]]},\"xaxis\":{\"gridcolor\":\"white\",\"linecolor\":\"white\",\"ticks\":\"\",\"title\":{\"standoff\":15},\"zerolinecolor\":\"white\",\"automargin\":true,\"zerolinewidth\":2},\"yaxis\":{\"gridcolor\":\"white\",\"linecolor\":\"white\",\"ticks\":\"\",\"title\":{\"standoff\":15},\"zerolinecolor\":\"white\",\"automargin\":true,\"zerolinewidth\":2},\"scene\":{\"xaxis\":{\"backgroundcolor\":\"#E5ECF6\",\"gridcolor\":\"white\",\"linecolor\":\"white\",\"showbackground\":true,\"ticks\":\"\",\"zerolinecolor\":\"white\",\"gridwidth\":2},\"yaxis\":{\"backgroundcolor\":\"#E5ECF6\",\"gridcolor\":\"white\",\"linecolor\":\"white\",\"showbackground\":true,\"ticks\":\"\",\"zerolinecolor\":\"white\",\"gridwidth\":2},\"zaxis\":{\"backgroundcolor\":\"#E5ECF6\",\"gridcolor\":\"white\",\"linecolor\":\"white\",\"showbackground\":true,\"ticks\":\"\",\"zerolinecolor\":\"white\",\"gridwidth\":2}},\"shapedefaults\":{\"line\":{\"color\":\"#2a3f5f\"}},\"annotationdefaults\":{\"arrowcolor\":\"#2a3f5f\",\"arrowhead\":0,\"arrowwidth\":1},\"geo\":{\"bgcolor\":\"white\",\"landcolor\":\"#E5ECF6\",\"subunitcolor\":\"white\",\"showland\":true,\"showlakes\":true,\"lakecolor\":\"white\"},\"title\":{\"x\":0.05},\"mapbox\":{\"style\":\"light\"}}},\"xaxis\":{\"anchor\":\"y\",\"domain\":[0.0,1.0],\"scaleanchor\":\"y\",\"constrain\":\"domain\",\"title\":{\"text\":\"Topic Centroids\"}},\"yaxis\":{\"anchor\":\"x\",\"domain\":[0.0,1.0],\"autorange\":\"reversed\",\"constrain\":\"domain\",\"title\":{\"text\":\"Human Readable Topics\"},\"tickfont\":{\"size\":5},\"automargin\":true,\"tickangle\":0},\"coloraxis\":{\"colorbar\":{\"title\":{\"text\":\"Cosine Similarity\"}},\"colorscale\":[[0.0,\"blue\"],[1.0,\"yellow\"]]},\"margin\":{\"t\":60},\"font\":{\"size\":10},\"title\":{\"text\":\"Pairwise Cosine Similarity Matrix Heatmap (First 20 Labels, excluding outliers)\"},\"width\":1500,\"height\":1500},                        {\"responsive\": true}                    ).then(function(){\n",
       "                            \n",
       "var gd = document.getElementById('85bd94fc-c123-4616-8db3-38b64a4cf3f4');\n",
       "var x = new MutationObserver(function (mutations, observer) {{\n",
       "        var display = window.getComputedStyle(gd).display;\n",
       "        if (!display || display === 'none') {{\n",
       "            console.log([gd, 'removed!']);\n",
       "            Plotly.purge(gd);\n",
       "            observer.disconnect();\n",
       "        }}\n",
       "}});\n",
       "\n",
       "// Listen for the removal of the full notebook cells\n",
       "var notebookContainer = gd.closest('#notebook-container');\n",
       "if (notebookContainer) {{\n",
       "    x.observe(notebookContainer, {childList: true});\n",
       "}}\n",
       "\n",
       "// Listen for the clearing of the current output cell\n",
       "var outputEl = gd.closest('.output');\n",
       "if (outputEl) {{\n",
       "    x.observe(outputEl, {childList: true});\n",
       "}}\n",
       "\n",
       "                        })                };                });            </script>        </div>"
      ]
     },
     "metadata": {},
     "output_type": "display_data"
    }
   ],
   "source": [
    "import pandas as pd\n",
    "from sentence_transformers import SentenceTransformer\n",
    "import numpy as np\n",
    "from sklearn.metrics.pairwise import cosine_similarity\n",
    "import plotly.express as px\n",
    "import plotly.io as pio\n",
    "\n",
    "# Load the datasets\n",
    "second_step = pd.read_csv('First_Step_BERTopic_topic_info_labelled.csv')\n",
    "bertopic_result = pd.read_csv('First_Step_BERTopic_result.csv')\n",
    "\n",
    "# Initialize the sentence transformer model\n",
    "model = SentenceTransformer('sentence-transformers/all-MiniLM-L6-v2')\n",
    "\n",
    "# Group by Topic and calculate centroids of text embeddings\n",
    "grouped = bertopic_result.groupby('Topic Label')['text'].apply(list).reset_index()\n",
    "\n",
    "def calculate_centroid(texts):\n",
    "    embeddings = model.encode(texts)\n",
    "    centroid = np.mean(embeddings, axis=0)\n",
    "    return centroid\n",
    "\n",
    "grouped['centroid'] = grouped['text'].apply(calculate_centroid)\n",
    "\n",
    "# Calculate embeddings for Human_Readable_Topic in the second dataset\n",
    "second_step['Human_Readable_Topic_embedding'] = second_step['Human_Readable_Topic'].apply(lambda x: model.encode(x))\n",
    "\n",
    "# Prepare to compare all centroids with all Human_Readable_Topic embeddings\n",
    "centroids = grouped[['Topic Label', 'centroid']]\n",
    "human_readable_embeddings = second_step[['Human_Readable_Topic', 'Human_Readable_Topic_embedding']]\n",
    "\n",
    "# Exclude the first row from both centroids and human readable topics (assuming they are outliers)\n",
    "centroids_limited = centroids.iloc[1:21]  # Exclude first row and then select next 20 rows\n",
    "human_readable_embeddings_limited = human_readable_embeddings.iloc[1:21]  # Exclude first row and select next 20 rows\n",
    "\n",
    "# Initialize a matrix to store the pairwise Cosine Similarities\n",
    "similarity_matrix = np.zeros((len(human_readable_embeddings_limited), len(centroids_limited)))\n",
    "\n",
    "# Calculate the Cosine similarity for each pair (Human Readable Topic vs. Topic Centroid)\n",
    "for i, hr_embedding in enumerate(human_readable_embeddings_limited['Human_Readable_Topic_embedding']):\n",
    "    for j, centroid in enumerate(centroids_limited['centroid']):\n",
    "        similarity = cosine_similarity([hr_embedding], [centroid])[0][0]\n",
    "        similarity_matrix[i, j] = similarity\n",
    "\n",
    "# Convert the similarity matrix to a DataFrame for better readability\n",
    "similarity_df_limited = pd.DataFrame(similarity_matrix, \n",
    "                                     index=human_readable_embeddings_limited['Human_Readable_Topic'], \n",
    "                                     columns=centroids_limited['Topic Label'])\n",
    "\n",
    "# Save the limited similarity DataFrame to a CSV file\n",
    "similarity_df_limited.to_csv('first_step_pairwise_cosine_similarity_heatmap_20.csv', index=True)\n",
    "\n",
    "# Create an interactive heatmap for the limited data with a blue-to-yellow color scale\n",
    "fig = px.imshow(similarity_df_limited,\n",
    "                labels=dict(x=\"Topic Centroids\", y=\"Human Readable Topics\", color=\"Cosine Similarity\"),\n",
    "                x=similarity_df_limited.columns,\n",
    "                y=similarity_df_limited.index,\n",
    "                color_continuous_scale=['blue', 'yellow'],  # Custom gradient from blue to yellow\n",
    "                text_auto=True)\n",
    "\n",
    "# Adjust layout and ensure visibility\n",
    "fig.update_layout(title='Pairwise Cosine Similarity Matrix Heatmap (First 20 Labels, excluding outliers)',\n",
    "                  xaxis_title='Topic Centroids',\n",
    "                  yaxis_title='Human Readable Topics',\n",
    "                  width=1500,\n",
    "                  height=1500,\n",
    "                  font=dict(size=10))  # Adjust font size here if needed\n",
    "\n",
    "# Update y-axis layout to ensure all labels are visible\n",
    "fig.update_yaxes(automargin=True,\n",
    "                 tickangle=0,  # Adjust the angle of y-axis labels\n",
    "                 tickfont=dict(size=5))  # Adjust the font size of y-axis labels\n",
    "\n",
    "# Save the figure as an interactive HTML file\n",
    "pio.write_html(fig, file='first_step_pairwise_cosine_similarity_heatmap_20.html', auto_open=False)\n",
    "\n",
    "# Save the figure as a static image (e.g., PNG)\n",
    "pio.write_image(fig, file='first_step_pairwise_cosine_similarity_heatmap_20.png', format='png', width=1500, height=1500, scale=3)\n",
    "\n",
    "# Display the heatmap\n",
    "fig.show()\n",
    "\n",
    "\n",
    "\n"
   ]
  },
  {
   "cell_type": "code",
   "execution_count": 10,
   "id": "9baf9b3f-0635-4c39-b279-d1ff94c7f3c3",
   "metadata": {},
   "outputs": [
    {
     "data": {
      "application/vnd.plotly.v1+json": {
       "config": {
        "plotlyServerURL": "https://plot.ly"
       },
       "data": [
        {
         "domain": {
          "x": [
           0,
           1
          ],
          "y": [
           0,
           1
          ]
         },
         "hovertemplate": "labels=%{label}<br>value=%{value}<br>parent=%{parent}<extra></extra>",
         "labels": [
          "Root",
          "Topic1",
          "Topic2",
          "Topic3",
          "Subtopic1.1",
          "Subtopic1.2",
          "Subtopic2.1",
          "Subtopic2.2",
          "Subtopic3.1"
         ],
         "name": "",
         "parents": [
          "",
          "Root",
          "Root",
          "Root",
          "Topic1",
          "Topic1",
          "Topic2",
          "Topic2",
          "Topic3"
         ],
         "type": "sunburst",
         "values": [
          100,
          40,
          30,
          30,
          20,
          20,
          15,
          15,
          10
         ]
        }
       ],
       "layout": {
        "autosize": true,
        "legend": {
         "tracegroupgap": 0
        },
        "template": {
         "data": {
          "bar": [
           {
            "error_x": {
             "color": "#2a3f5f"
            },
            "error_y": {
             "color": "#2a3f5f"
            },
            "marker": {
             "line": {
              "color": "#E5ECF6",
              "width": 0.5
             },
             "pattern": {
              "fillmode": "overlay",
              "size": 10,
              "solidity": 0.2
             }
            },
            "type": "bar"
           }
          ],
          "barpolar": [
           {
            "marker": {
             "line": {
              "color": "#E5ECF6",
              "width": 0.5
             },
             "pattern": {
              "fillmode": "overlay",
              "size": 10,
              "solidity": 0.2
             }
            },
            "type": "barpolar"
           }
          ],
          "carpet": [
           {
            "aaxis": {
             "endlinecolor": "#2a3f5f",
             "gridcolor": "white",
             "linecolor": "white",
             "minorgridcolor": "white",
             "startlinecolor": "#2a3f5f"
            },
            "baxis": {
             "endlinecolor": "#2a3f5f",
             "gridcolor": "white",
             "linecolor": "white",
             "minorgridcolor": "white",
             "startlinecolor": "#2a3f5f"
            },
            "type": "carpet"
           }
          ],
          "choropleth": [
           {
            "colorbar": {
             "outlinewidth": 0,
             "ticks": ""
            },
            "type": "choropleth"
           }
          ],
          "contour": [
           {
            "colorbar": {
             "outlinewidth": 0,
             "ticks": ""
            },
            "colorscale": [
             [
              0,
              "#0d0887"
             ],
             [
              0.1111111111111111,
              "#46039f"
             ],
             [
              0.2222222222222222,
              "#7201a8"
             ],
             [
              0.3333333333333333,
              "#9c179e"
             ],
             [
              0.4444444444444444,
              "#bd3786"
             ],
             [
              0.5555555555555556,
              "#d8576b"
             ],
             [
              0.6666666666666666,
              "#ed7953"
             ],
             [
              0.7777777777777778,
              "#fb9f3a"
             ],
             [
              0.8888888888888888,
              "#fdca26"
             ],
             [
              1,
              "#f0f921"
             ]
            ],
            "type": "contour"
           }
          ],
          "contourcarpet": [
           {
            "colorbar": {
             "outlinewidth": 0,
             "ticks": ""
            },
            "type": "contourcarpet"
           }
          ],
          "heatmap": [
           {
            "colorbar": {
             "outlinewidth": 0,
             "ticks": ""
            },
            "colorscale": [
             [
              0,
              "#0d0887"
             ],
             [
              0.1111111111111111,
              "#46039f"
             ],
             [
              0.2222222222222222,
              "#7201a8"
             ],
             [
              0.3333333333333333,
              "#9c179e"
             ],
             [
              0.4444444444444444,
              "#bd3786"
             ],
             [
              0.5555555555555556,
              "#d8576b"
             ],
             [
              0.6666666666666666,
              "#ed7953"
             ],
             [
              0.7777777777777778,
              "#fb9f3a"
             ],
             [
              0.8888888888888888,
              "#fdca26"
             ],
             [
              1,
              "#f0f921"
             ]
            ],
            "type": "heatmap"
           }
          ],
          "heatmapgl": [
           {
            "colorbar": {
             "outlinewidth": 0,
             "ticks": ""
            },
            "colorscale": [
             [
              0,
              "#0d0887"
             ],
             [
              0.1111111111111111,
              "#46039f"
             ],
             [
              0.2222222222222222,
              "#7201a8"
             ],
             [
              0.3333333333333333,
              "#9c179e"
             ],
             [
              0.4444444444444444,
              "#bd3786"
             ],
             [
              0.5555555555555556,
              "#d8576b"
             ],
             [
              0.6666666666666666,
              "#ed7953"
             ],
             [
              0.7777777777777778,
              "#fb9f3a"
             ],
             [
              0.8888888888888888,
              "#fdca26"
             ],
             [
              1,
              "#f0f921"
             ]
            ],
            "type": "heatmapgl"
           }
          ],
          "histogram": [
           {
            "marker": {
             "pattern": {
              "fillmode": "overlay",
              "size": 10,
              "solidity": 0.2
             }
            },
            "type": "histogram"
           }
          ],
          "histogram2d": [
           {
            "colorbar": {
             "outlinewidth": 0,
             "ticks": ""
            },
            "colorscale": [
             [
              0,
              "#0d0887"
             ],
             [
              0.1111111111111111,
              "#46039f"
             ],
             [
              0.2222222222222222,
              "#7201a8"
             ],
             [
              0.3333333333333333,
              "#9c179e"
             ],
             [
              0.4444444444444444,
              "#bd3786"
             ],
             [
              0.5555555555555556,
              "#d8576b"
             ],
             [
              0.6666666666666666,
              "#ed7953"
             ],
             [
              0.7777777777777778,
              "#fb9f3a"
             ],
             [
              0.8888888888888888,
              "#fdca26"
             ],
             [
              1,
              "#f0f921"
             ]
            ],
            "type": "histogram2d"
           }
          ],
          "histogram2dcontour": [
           {
            "colorbar": {
             "outlinewidth": 0,
             "ticks": ""
            },
            "colorscale": [
             [
              0,
              "#0d0887"
             ],
             [
              0.1111111111111111,
              "#46039f"
             ],
             [
              0.2222222222222222,
              "#7201a8"
             ],
             [
              0.3333333333333333,
              "#9c179e"
             ],
             [
              0.4444444444444444,
              "#bd3786"
             ],
             [
              0.5555555555555556,
              "#d8576b"
             ],
             [
              0.6666666666666666,
              "#ed7953"
             ],
             [
              0.7777777777777778,
              "#fb9f3a"
             ],
             [
              0.8888888888888888,
              "#fdca26"
             ],
             [
              1,
              "#f0f921"
             ]
            ],
            "type": "histogram2dcontour"
           }
          ],
          "mesh3d": [
           {
            "colorbar": {
             "outlinewidth": 0,
             "ticks": ""
            },
            "type": "mesh3d"
           }
          ],
          "parcoords": [
           {
            "line": {
             "colorbar": {
              "outlinewidth": 0,
              "ticks": ""
             }
            },
            "type": "parcoords"
           }
          ],
          "pie": [
           {
            "automargin": true,
            "type": "pie"
           }
          ],
          "scatter": [
           {
            "fillpattern": {
             "fillmode": "overlay",
             "size": 10,
             "solidity": 0.2
            },
            "type": "scatter"
           }
          ],
          "scatter3d": [
           {
            "line": {
             "colorbar": {
              "outlinewidth": 0,
              "ticks": ""
             }
            },
            "marker": {
             "colorbar": {
              "outlinewidth": 0,
              "ticks": ""
             }
            },
            "type": "scatter3d"
           }
          ],
          "scattercarpet": [
           {
            "marker": {
             "colorbar": {
              "outlinewidth": 0,
              "ticks": ""
             }
            },
            "type": "scattercarpet"
           }
          ],
          "scattergeo": [
           {
            "marker": {
             "colorbar": {
              "outlinewidth": 0,
              "ticks": ""
             }
            },
            "type": "scattergeo"
           }
          ],
          "scattergl": [
           {
            "marker": {
             "colorbar": {
              "outlinewidth": 0,
              "ticks": ""
             }
            },
            "type": "scattergl"
           }
          ],
          "scattermapbox": [
           {
            "marker": {
             "colorbar": {
              "outlinewidth": 0,
              "ticks": ""
             }
            },
            "type": "scattermapbox"
           }
          ],
          "scatterpolar": [
           {
            "marker": {
             "colorbar": {
              "outlinewidth": 0,
              "ticks": ""
             }
            },
            "type": "scatterpolar"
           }
          ],
          "scatterpolargl": [
           {
            "marker": {
             "colorbar": {
              "outlinewidth": 0,
              "ticks": ""
             }
            },
            "type": "scatterpolargl"
           }
          ],
          "scatterternary": [
           {
            "marker": {
             "colorbar": {
              "outlinewidth": 0,
              "ticks": ""
             }
            },
            "type": "scatterternary"
           }
          ],
          "surface": [
           {
            "colorbar": {
             "outlinewidth": 0,
             "ticks": ""
            },
            "colorscale": [
             [
              0,
              "#0d0887"
             ],
             [
              0.1111111111111111,
              "#46039f"
             ],
             [
              0.2222222222222222,
              "#7201a8"
             ],
             [
              0.3333333333333333,
              "#9c179e"
             ],
             [
              0.4444444444444444,
              "#bd3786"
             ],
             [
              0.5555555555555556,
              "#d8576b"
             ],
             [
              0.6666666666666666,
              "#ed7953"
             ],
             [
              0.7777777777777778,
              "#fb9f3a"
             ],
             [
              0.8888888888888888,
              "#fdca26"
             ],
             [
              1,
              "#f0f921"
             ]
            ],
            "type": "surface"
           }
          ],
          "table": [
           {
            "cells": {
             "fill": {
              "color": "#EBF0F8"
             },
             "line": {
              "color": "white"
             }
            },
            "header": {
             "fill": {
              "color": "#C8D4E3"
             },
             "line": {
              "color": "white"
             }
            },
            "type": "table"
           }
          ]
         },
         "layout": {
          "annotationdefaults": {
           "arrowcolor": "#2a3f5f",
           "arrowhead": 0,
           "arrowwidth": 1
          },
          "autotypenumbers": "strict",
          "coloraxis": {
           "colorbar": {
            "outlinewidth": 0,
            "ticks": ""
           }
          },
          "colorscale": {
           "diverging": [
            [
             0,
             "#8e0152"
            ],
            [
             0.1,
             "#c51b7d"
            ],
            [
             0.2,
             "#de77ae"
            ],
            [
             0.3,
             "#f1b6da"
            ],
            [
             0.4,
             "#fde0ef"
            ],
            [
             0.5,
             "#f7f7f7"
            ],
            [
             0.6,
             "#e6f5d0"
            ],
            [
             0.7,
             "#b8e186"
            ],
            [
             0.8,
             "#7fbc41"
            ],
            [
             0.9,
             "#4d9221"
            ],
            [
             1,
             "#276419"
            ]
           ],
           "sequential": [
            [
             0,
             "#0d0887"
            ],
            [
             0.1111111111111111,
             "#46039f"
            ],
            [
             0.2222222222222222,
             "#7201a8"
            ],
            [
             0.3333333333333333,
             "#9c179e"
            ],
            [
             0.4444444444444444,
             "#bd3786"
            ],
            [
             0.5555555555555556,
             "#d8576b"
            ],
            [
             0.6666666666666666,
             "#ed7953"
            ],
            [
             0.7777777777777778,
             "#fb9f3a"
            ],
            [
             0.8888888888888888,
             "#fdca26"
            ],
            [
             1,
             "#f0f921"
            ]
           ],
           "sequentialminus": [
            [
             0,
             "#0d0887"
            ],
            [
             0.1111111111111111,
             "#46039f"
            ],
            [
             0.2222222222222222,
             "#7201a8"
            ],
            [
             0.3333333333333333,
             "#9c179e"
            ],
            [
             0.4444444444444444,
             "#bd3786"
            ],
            [
             0.5555555555555556,
             "#d8576b"
            ],
            [
             0.6666666666666666,
             "#ed7953"
            ],
            [
             0.7777777777777778,
             "#fb9f3a"
            ],
            [
             0.8888888888888888,
             "#fdca26"
            ],
            [
             1,
             "#f0f921"
            ]
           ]
          },
          "colorway": [
           "#636efa",
           "#EF553B",
           "#00cc96",
           "#ab63fa",
           "#FFA15A",
           "#19d3f3",
           "#FF6692",
           "#B6E880",
           "#FF97FF",
           "#FECB52"
          ],
          "font": {
           "color": "#2a3f5f"
          },
          "geo": {
           "bgcolor": "white",
           "lakecolor": "white",
           "landcolor": "#E5ECF6",
           "showlakes": true,
           "showland": true,
           "subunitcolor": "white"
          },
          "hoverlabel": {
           "align": "left"
          },
          "hovermode": "closest",
          "mapbox": {
           "style": "light"
          },
          "paper_bgcolor": "white",
          "plot_bgcolor": "#E5ECF6",
          "polar": {
           "angularaxis": {
            "gridcolor": "white",
            "linecolor": "white",
            "ticks": ""
           },
           "bgcolor": "#E5ECF6",
           "radialaxis": {
            "gridcolor": "white",
            "linecolor": "white",
            "ticks": ""
           }
          },
          "scene": {
           "xaxis": {
            "backgroundcolor": "#E5ECF6",
            "gridcolor": "white",
            "gridwidth": 2,
            "linecolor": "white",
            "showbackground": true,
            "ticks": "",
            "zerolinecolor": "white"
           },
           "yaxis": {
            "backgroundcolor": "#E5ECF6",
            "gridcolor": "white",
            "gridwidth": 2,
            "linecolor": "white",
            "showbackground": true,
            "ticks": "",
            "zerolinecolor": "white"
           },
           "zaxis": {
            "backgroundcolor": "#E5ECF6",
            "gridcolor": "white",
            "gridwidth": 2,
            "linecolor": "white",
            "showbackground": true,
            "ticks": "",
            "zerolinecolor": "white"
           }
          },
          "shapedefaults": {
           "line": {
            "color": "#2a3f5f"
           }
          },
          "ternary": {
           "aaxis": {
            "gridcolor": "white",
            "linecolor": "white",
            "ticks": ""
           },
           "baxis": {
            "gridcolor": "white",
            "linecolor": "white",
            "ticks": ""
           },
           "bgcolor": "#E5ECF6",
           "caxis": {
            "gridcolor": "white",
            "linecolor": "white",
            "ticks": ""
           }
          },
          "title": {
           "x": 0.05
          },
          "xaxis": {
           "automargin": true,
           "gridcolor": "white",
           "linecolor": "white",
           "ticks": "",
           "title": {
            "standoff": 15
           },
           "zerolinecolor": "white",
           "zerolinewidth": 2
          },
          "yaxis": {
           "automargin": true,
           "gridcolor": "white",
           "linecolor": "white",
           "ticks": "",
           "title": {
            "standoff": 15
           },
           "zerolinecolor": "white",
           "zerolinewidth": 2
          }
         }
        },
        "title": {
         "text": "Three-Level Topic Hierarchy"
        }
       }
      },
      "image/png": "[encoded data removed]",
      "text/html": [
       "<div>                            <div id=\"9835d110-c30d-48c8-b99b-44b50e1c53da\" class=\"plotly-graph-div\" style=\"height:525px; width:100%;\"></div>            <script type=\"text/javascript\">                require([\"plotly\"], function(Plotly) {                    window.PLOTLYENV=window.PLOTLYENV || {};                                    if (document.getElementById(\"9835d110-c30d-48c8-b99b-44b50e1c53da\")) {                    Plotly.newPlot(                        \"9835d110-c30d-48c8-b99b-44b50e1c53da\",                        [{\"domain\":{\"x\":[0.0,1.0],\"y\":[0.0,1.0]},\"hovertemplate\":\"labels=%{label}<br>value=%{value}<br>parent=%{parent}<extra></extra>\",\"labels\":[\"Root\",\"Topic1\",\"Topic2\",\"Topic3\",\"Subtopic1.1\",\"Subtopic1.2\",\"Subtopic2.1\",\"Subtopic2.2\",\"Subtopic3.1\"],\"name\":\"\",\"parents\":[\"\",\"Root\",\"Root\",\"Root\",\"Topic1\",\"Topic1\",\"Topic2\",\"Topic2\",\"Topic3\"],\"values\":[100,40,30,30,20,20,15,15,10],\"type\":\"sunburst\"}],                        {\"template\":{\"data\":{\"histogram2dcontour\":[{\"type\":\"histogram2dcontour\",\"colorbar\":{\"outlinewidth\":0,\"ticks\":\"\"},\"colorscale\":[[0.0,\"#0d0887\"],[0.1111111111111111,\"#46039f\"],[0.2222222222222222,\"#7201a8\"],[0.3333333333333333,\"#9c179e\"],[0.4444444444444444,\"#bd3786\"],[0.5555555555555556,\"#d8576b\"],[0.6666666666666666,\"#ed7953\"],[0.7777777777777778,\"#fb9f3a\"],[0.8888888888888888,\"#fdca26\"],[1.0,\"#f0f921\"]]}],\"choropleth\":[{\"type\":\"choropleth\",\"colorbar\":{\"outlinewidth\":0,\"ticks\":\"\"}}],\"histogram2d\":[{\"type\":\"histogram2d\",\"colorbar\":{\"outlinewidth\":0,\"ticks\":\"\"},\"colorscale\":[[0.0,\"#0d0887\"],[0.1111111111111111,\"#46039f\"],[0.2222222222222222,\"#7201a8\"],[0.3333333333333333,\"#9c179e\"],[0.4444444444444444,\"#bd3786\"],[0.5555555555555556,\"#d8576b\"],[0.6666666666666666,\"#ed7953\"],[0.7777777777777778,\"#fb9f3a\"],[0.8888888888888888,\"#fdca26\"],[1.0,\"#f0f921\"]]}],\"heatmap\":[{\"type\":\"heatmap\",\"colorbar\":{\"outlinewidth\":0,\"ticks\":\"\"},\"colorscale\":[[0.0,\"#0d0887\"],[0.1111111111111111,\"#46039f\"],[0.2222222222222222,\"#7201a8\"],[0.3333333333333333,\"#9c179e\"],[0.4444444444444444,\"#bd3786\"],[0.5555555555555556,\"#d8576b\"],[0.6666666666666666,\"#ed7953\"],[0.7777777777777778,\"#fb9f3a\"],[0.8888888888888888,\"#fdca26\"],[1.0,\"#f0f921\"]]}],\"heatmapgl\":[{\"type\":\"heatmapgl\",\"colorbar\":{\"outlinewidth\":0,\"ticks\":\"\"},\"colorscale\":[[0.0,\"#0d0887\"],[0.1111111111111111,\"#46039f\"],[0.2222222222222222,\"#7201a8\"],[0.3333333333333333,\"#9c179e\"],[0.4444444444444444,\"#bd3786\"],[0.5555555555555556,\"#d8576b\"],[0.6666666666666666,\"#ed7953\"],[0.7777777777777778,\"#fb9f3a\"],[0.8888888888888888,\"#fdca26\"],[1.0,\"#f0f921\"]]}],\"contourcarpet\":[{\"type\":\"contourcarpet\",\"colorbar\":{\"outlinewidth\":0,\"ticks\":\"\"}}],\"contour\":[{\"type\":\"contour\",\"colorbar\":{\"outlinewidth\":0,\"ticks\":\"\"},\"colorscale\":[[0.0,\"#0d0887\"],[0.1111111111111111,\"#46039f\"],[0.2222222222222222,\"#7201a8\"],[0.3333333333333333,\"#9c179e\"],[0.4444444444444444,\"#bd3786\"],[0.5555555555555556,\"#d8576b\"],[0.6666666666666666,\"#ed7953\"],[0.7777777777777778,\"#fb9f3a\"],[0.8888888888888888,\"#fdca26\"],[1.0,\"#f0f921\"]]}],\"surface\":[{\"type\":\"surface\",\"colorbar\":{\"outlinewidth\":0,\"ticks\":\"\"},\"colorscale\":[[0.0,\"#0d0887\"],[0.1111111111111111,\"#46039f\"],[0.2222222222222222,\"#7201a8\"],[0.3333333333333333,\"#9c179e\"],[0.4444444444444444,\"#bd3786\"],[0.5555555555555556,\"#d8576b\"],[0.6666666666666666,\"#ed7953\"],[0.7777777777777778,\"#fb9f3a\"],[0.8888888888888888,\"#fdca26\"],[1.0,\"#f0f921\"]]}],\"mesh3d\":[{\"type\":\"mesh3d\",\"colorbar\":{\"outlinewidth\":0,\"ticks\":\"\"}}],\"scatter\":[{\"fillpattern\":{\"fillmode\":\"overlay\",\"size\":10,\"solidity\":0.2},\"type\":\"scatter\"}],\"parcoords\":[{\"type\":\"parcoords\",\"line\":{\"colorbar\":{\"outlinewidth\":0,\"ticks\":\"\"}}}],\"scatterpolargl\":[{\"type\":\"scatterpolargl\",\"marker\":{\"colorbar\":{\"outlinewidth\":0,\"ticks\":\"\"}}}],\"bar\":[{\"error_x\":{\"color\":\"#2a3f5f\"},\"error_y\":{\"color\":\"#2a3f5f\"},\"marker\":{\"line\":{\"color\":\"#E5ECF6\",\"width\":0.5},\"pattern\":{\"fillmode\":\"overlay\",\"size\":10,\"solidity\":0.2}},\"type\":\"bar\"}],\"scattergeo\":[{\"type\":\"scattergeo\",\"marker\":{\"colorbar\":{\"outlinewidth\":0,\"ticks\":\"\"}}}],\"scatterpolar\":[{\"type\":\"scatterpolar\",\"marker\":{\"colorbar\":{\"outlinewidth\":0,\"ticks\":\"\"}}}],\"histogram\":[{\"marker\":{\"pattern\":{\"fillmode\":\"overlay\",\"size\":10,\"solidity\":0.2}},\"type\":\"histogram\"}],\"scattergl\":[{\"type\":\"scattergl\",\"marker\":{\"colorbar\":{\"outlinewidth\":0,\"ticks\":\"\"}}}],\"scatter3d\":[{\"type\":\"scatter3d\",\"line\":{\"colorbar\":{\"outlinewidth\":0,\"ticks\":\"\"}},\"marker\":{\"colorbar\":{\"outlinewidth\":0,\"ticks\":\"\"}}}],\"scattermapbox\":[{\"type\":\"scattermapbox\",\"marker\":{\"colorbar\":{\"outlinewidth\":0,\"ticks\":\"\"}}}],\"scatterternary\":[{\"type\":\"scatterternary\",\"marker\":{\"colorbar\":{\"outlinewidth\":0,\"ticks\":\"\"}}}],\"scattercarpet\":[{\"type\":\"scattercarpet\",\"marker\":{\"colorbar\":{\"outlinewidth\":0,\"ticks\":\"\"}}}],\"carpet\":[{\"aaxis\":{\"endlinecolor\":\"#2a3f5f\",\"gridcolor\":\"white\",\"linecolor\":\"white\",\"minorgridcolor\":\"white\",\"startlinecolor\":\"#2a3f5f\"},\"baxis\":{\"endlinecolor\":\"#2a3f5f\",\"gridcolor\":\"white\",\"linecolor\":\"white\",\"minorgridcolor\":\"white\",\"startlinecolor\":\"#2a3f5f\"},\"type\":\"carpet\"}],\"table\":[{\"cells\":{\"fill\":{\"color\":\"#EBF0F8\"},\"line\":{\"color\":\"white\"}},\"header\":{\"fill\":{\"color\":\"#C8D4E3\"},\"line\":{\"color\":\"white\"}},\"type\":\"table\"}],\"barpolar\":[{\"marker\":{\"line\":{\"color\":\"#E5ECF6\",\"width\":0.5},\"pattern\":{\"fillmode\":\"overlay\",\"size\":10,\"solidity\":0.2}},\"type\":\"barpolar\"}],\"pie\":[{\"automargin\":true,\"type\":\"pie\"}]},\"layout\":{\"autotypenumbers\":\"strict\",\"colorway\":[\"#636efa\",\"#EF553B\",\"#00cc96\",\"#ab63fa\",\"#FFA15A\",\"#19d3f3\",\"#FF6692\",\"#B6E880\",\"#FF97FF\",\"#FECB52\"],\"font\":{\"color\":\"#2a3f5f\"},\"hovermode\":\"closest\",\"hoverlabel\":{\"align\":\"left\"},\"paper_bgcolor\":\"white\",\"plot_bgcolor\":\"#E5ECF6\",\"polar\":{\"bgcolor\":\"#E5ECF6\",\"angularaxis\":{\"gridcolor\":\"white\",\"linecolor\":\"white\",\"ticks\":\"\"},\"radialaxis\":{\"gridcolor\":\"white\",\"linecolor\":\"white\",\"ticks\":\"\"}},\"ternary\":{\"bgcolor\":\"#E5ECF6\",\"aaxis\":{\"gridcolor\":\"white\",\"linecolor\":\"white\",\"ticks\":\"\"},\"baxis\":{\"gridcolor\":\"white\",\"linecolor\":\"white\",\"ticks\":\"\"},\"caxis\":{\"gridcolor\":\"white\",\"linecolor\":\"white\",\"ticks\":\"\"}},\"coloraxis\":{\"colorbar\":{\"outlinewidth\":0,\"ticks\":\"\"}},\"colorscale\":{\"sequential\":[[0.0,\"#0d0887\"],[0.1111111111111111,\"#46039f\"],[0.2222222222222222,\"#7201a8\"],[0.3333333333333333,\"#9c179e\"],[0.4444444444444444,\"#bd3786\"],[0.5555555555555556,\"#d8576b\"],[0.6666666666666666,\"#ed7953\"],[0.7777777777777778,\"#fb9f3a\"],[0.8888888888888888,\"#fdca26\"],[1.0,\"#f0f921\"]],\"sequentialminus\":[[0.0,\"#0d0887\"],[0.1111111111111111,\"#46039f\"],[0.2222222222222222,\"#7201a8\"],[0.3333333333333333,\"#9c179e\"],[0.4444444444444444,\"#bd3786\"],[0.5555555555555556,\"#d8576b\"],[0.6666666666666666,\"#ed7953\"],[0.7777777777777778,\"#fb9f3a\"],[0.8888888888888888,\"#fdca26\"],[1.0,\"#f0f921\"]],\"diverging\":[[0,\"#8e0152\"],[0.1,\"#c51b7d\"],[0.2,\"#de77ae\"],[0.3,\"#f1b6da\"],[0.4,\"#fde0ef\"],[0.5,\"#f7f7f7\"],[0.6,\"#e6f5d0\"],[0.7,\"#b8e186\"],[0.8,\"#7fbc41\"],[0.9,\"#4d9221\"],[1,\"#276419\"]]},\"xaxis\":{\"gridcolor\":\"white\",\"linecolor\":\"white\",\"ticks\":\"\",\"title\":{\"standoff\":15},\"zerolinecolor\":\"white\",\"automargin\":true,\"zerolinewidth\":2},\"yaxis\":{\"gridcolor\":\"white\",\"linecolor\":\"white\",\"ticks\":\"\",\"title\":{\"standoff\":15},\"zerolinecolor\":\"white\",\"automargin\":true,\"zerolinewidth\":2},\"scene\":{\"xaxis\":{\"backgroundcolor\":\"#E5ECF6\",\"gridcolor\":\"white\",\"linecolor\":\"white\",\"showbackground\":true,\"ticks\":\"\",\"zerolinecolor\":\"white\",\"gridwidth\":2},\"yaxis\":{\"backgroundcolor\":\"#E5ECF6\",\"gridcolor\":\"white\",\"linecolor\":\"white\",\"showbackground\":true,\"ticks\":\"\",\"zerolinecolor\":\"white\",\"gridwidth\":2},\"zaxis\":{\"backgroundcolor\":\"#E5ECF6\",\"gridcolor\":\"white\",\"linecolor\":\"white\",\"showbackground\":true,\"ticks\":\"\",\"zerolinecolor\":\"white\",\"gridwidth\":2}},\"shapedefaults\":{\"line\":{\"color\":\"#2a3f5f\"}},\"annotationdefaults\":{\"arrowcolor\":\"#2a3f5f\",\"arrowhead\":0,\"arrowwidth\":1},\"geo\":{\"bgcolor\":\"white\",\"landcolor\":\"#E5ECF6\",\"subunitcolor\":\"white\",\"showland\":true,\"showlakes\":true,\"lakecolor\":\"white\"},\"title\":{\"x\":0.05},\"mapbox\":{\"style\":\"light\"}}},\"legend\":{\"tracegroupgap\":0},\"title\":{\"text\":\"Three-Level Topic Hierarchy\"}},                        {\"responsive\": true}                    ).then(function(){\n",
       "                            \n",
       "var gd = document.getElementById('9835d110-c30d-48c8-b99b-44b50e1c53da');\n",
       "var x = new MutationObserver(function (mutations, observer) {{\n",
       "        var display = window.getComputedStyle(gd).display;\n",
       "        if (!display || display === 'none') {{\n",
       "            console.log([gd, 'removed!']);\n",
       "            Plotly.purge(gd);\n",
       "            observer.disconnect();\n",
       "        }}\n",
       "}});\n",
       "\n",
       "// Listen for the removal of the full notebook cells\n",
       "var notebookContainer = gd.closest('#notebook-container');\n",
       "if (notebookContainer) {{\n",
       "    x.observe(notebookContainer, {childList: true});\n",
       "}}\n",
       "\n",
       "// Listen for the clearing of the current output cell\n",
       "var outputEl = gd.closest('.output');\n",
       "if (outputEl) {{\n",
       "    x.observe(outputEl, {childList: true});\n",
       "}}\n",
       "\n",
       "                        })                };                });            </script>        </div>"
      ]
     },
     "metadata": {},
     "output_type": "display_data"
    }
   ],
   "source": [
    "import plotly.express as px\n",
    "import pandas as pd\n",
    "\n",
    "# Sample data for a 3-level topic hierarchy\n",
    "data = pd.DataFrame({\n",
    "    'parent': [\"\", \"Root\", \"Root\", \"Root\", \"Topic1\", \"Topic1\", \"Topic2\", \"Topic2\", \"Topic3\"],\n",
    "    'labels': [\"Root\", \"Topic1\", \"Topic2\", \"Topic3\", \"Subtopic1.1\", \"Subtopic1.2\", \"Subtopic2.1\", \"Subtopic2.2\", \"Subtopic3.1\"],\n",
    "    'values': [100, 40, 30, 30, 20, 20, 15, 15, 10]\n",
    "})\n",
    "\n",
    "# Create sunburst chart\n",
    "fig = px.sunburst(\n",
    "    data,\n",
    "    names='labels',\n",
    "    parents='parent',\n",
    "    values='values',\n",
    "    title=\"Three-Level Topic Hierarchy\"\n",
    ")\n",
    "\n",
    "# Display chart\n",
    "fig.show()\n"
   ]
  },
  {
   "cell_type": "code",
   "execution_count": null,
   "id": "c7e65bd9-e221-42e1-a644-9ea87ffffd44",
   "metadata": {},
   "outputs": [],
   "source": []
  }
 ],
 "metadata": {
  "kernelspec": {
   "display_name": "Python 3 (ipykernel)",
   "language": "python",
   "name": "python3"
  },
  "language_info": {
   "codemirror_mode": {
    "name": "ipython",
    "version": 3
   },
   "file_extension": ".py",
   "mimetype": "text/x-python",
   "name": "python",
   "nbconvert_exporter": "python",
   "pygments_lexer": "ipython3",
   "version": "3.9.13"
  }
 },
 "nbformat": 4,
 "nbformat_minor": 5
}
