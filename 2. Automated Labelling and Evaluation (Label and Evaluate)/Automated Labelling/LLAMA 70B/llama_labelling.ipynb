{
 "cells": [
  {
   "cell_type": "markdown",
   "metadata": {},
   "source": [
    "Label Step One"
   ]
  },
  {
   "cell_type": "code",
   "execution_count": 4,
   "metadata": {},
   "outputs": [
    {
     "name": "stderr",
     "output_type": "stream",
     "text": [
      "Generating Labels: 100%|██████████| 524/524 [06:02<00:00,  1.45it/s]"
     ]
    },
    {
     "name": "stdout",
     "output_type": "stream",
     "text": [
      "Label generation complete. Updated CSV file saved to First_Step_BERTopic_topic_info_labelled.csv.\n"
     ]
    },
    {
     "name": "stderr",
     "output_type": "stream",
     "text": [
      "\n"
     ]
    }
   ],
   "source": [
    "import pandas as pd\n",
    "from datetime import datetime\n",
    "from together import Together\n",
    "from tqdm import tqdm\n",
    "\n",
    "# Initialize the Together AI client\n",
    "client = Together(api_key='')\n",
    "\n",
    "# Path to the input CSV file containing BERTopic results\n",
    "input_csv_path = 'First_Step_BERTopic_topic_info.csv'\n",
    "\n",
    "# Load the dataset from the CSV file\n",
    "df = pd.read_csv(input_csv_path)\n",
    "\n",
    "def generate_human_readable_label(topic, representation, representative_docs):\n",
    "    \"\"\"\n",
    "    Generates a human-readable label for a given topic using Together AI.\n",
    "\n",
    "    Args:\n",
    "        topic (str): The non-human readable topic string.\n",
    "        representation (str): Keywords associated with the topic.\n",
    "        representative_docs (str): Representative documents for the topic.\n",
    "\n",
    "    Returns:\n",
    "        str: A concise, human-readable label for the topic.\n",
    "    \"\"\"\n",
    "    prompt = (\n",
    "        f\"You are an intelligent assistant skilled in generating labels for topics. \"\n",
    "        f\"Given the following topic details about the data:\\n\"\n",
    "        f\"Non-human readable Topic: {topic}\\n\"\n",
    "        f\"Representative Documents: {representative_docs}\\n\"\n",
    "        f\"Keywords: {representation}\\n\"\n",
    "        f\"The label has to be a maximum of 60 characters long, concise and descriptive of the data.\"\n",
    "        f\"Return stricly only the label nothing else! \"\n",
    "    )\n",
    "\n",
    "    response = \"\"\n",
    "    try:\n",
    "        stream = client.chat.completions.create(\n",
    "            model=\"meta-llama/Meta-Llama-3.1-70B-Instruct-Turbo\",\n",
    "            messages=[{\"role\": \"user\", \"content\": prompt}],\n",
    "            stream=True,\n",
    "            temperature=0.1,\n",
    "        )\n",
    "\n",
    "        for chunk in stream:\n",
    "            response += chunk.choices[0].delta.content or \"\"\n",
    "        \n",
    "    except Exception as e:\n",
    "        print(f\"Error generating label: {e}\")\n",
    "        return None\n",
    "\n",
    "    return response.strip()\n",
    "\n",
    "# Initialize a progress bar\n",
    "with tqdm(total=len(df), desc=\"Generating Labels\") as pbar:\n",
    "    # Generate human-readable labels for each topic in the dataset\n",
    "    labels = []\n",
    "    for _, row in df.iterrows():\n",
    "        label = generate_human_readable_label(\n",
    "            topic=row['Topic'],\n",
    "            representation=row['Representation'],\n",
    "            representative_docs=row['Representative_Docs']\n",
    "        )\n",
    "        labels.append(label)\n",
    "        pbar.update(1)  # Update progress bar after processing each row\n",
    "\n",
    "# Add the generated labels to the DataFrame\n",
    "df['Human_Readable_Topic'] = labels\n",
    "\n",
    "# Path to the output CSV file\n",
    "output_csv_path = 'First_Step_BERTopic_topic_info_labelled.csv'\n",
    "\n",
    "# Save the updated DataFrame with the new labels to a CSV file\n",
    "df.to_csv(output_csv_path, index=False)\n",
    "\n",
    "print(f\"Label generation complete. Updated CSV file saved to {output_csv_path}.\")\n"
   ]
  },
  {
   "cell_type": "markdown",
   "metadata": {},
   "source": [
    "Label Step Two"
   ]
  },
  {
   "cell_type": "code",
   "execution_count": 5,
   "metadata": {},
   "outputs": [
    {
     "name": "stderr",
     "output_type": "stream",
     "text": [
      "Generating Labels: 100%|██████████| 313/313 [03:24<00:00,  1.53it/s]"
     ]
    },
    {
     "name": "stdout",
     "output_type": "stream",
     "text": [
      "Label generation complete. Updated CSV file saved to Second_step_clustering_results_labelled.csv.\n"
     ]
    },
    {
     "name": "stderr",
     "output_type": "stream",
     "text": [
      "\n"
     ]
    }
   ],
   "source": [
    "import pandas as pd\n",
    "from datetime import datetime\n",
    "from together import Together\n",
    "from tqdm import tqdm\n",
    "\n",
    "# Initialize the Together AI client\n",
    "client = Together(api_key='')\n",
    "\n",
    "# Path to the input CSV file containing BERTopic results\n",
    "input_csv_path = 'Second_step_clustering_results.csv'\n",
    "\n",
    "# Load the dataset from the CSV file\n",
    "df = pd.read_csv(input_csv_path)\n",
    "\n",
    "def generate_human_readable_label(topic, representation, representative_docs):\n",
    "    \"\"\"\n",
    "    Generates a human-readable label for a given topic using Together AI.\n",
    "\n",
    "    Args:\n",
    "        topic (str): The non-human readable topic string.\n",
    "        representation (str): Keywords associated with the topic.\n",
    "        representative_docs (str): Representative documents for the topic.\n",
    "\n",
    "    Returns:\n",
    "        str: A concise, human-readable label for the topic.\n",
    "    \"\"\"\n",
    "    prompt = (\n",
    "        f\"You are an intelligent assistant skilled in generating labels for topics. \"\n",
    "        f\"Given the following topic details about the data:\\n\"\n",
    "        f\"Non-human readable Topic: {topic}\\n\"\n",
    "        f\"Representative Documents: {representative_docs}\\n\"\n",
    "        f\"Keywords: {representation}\\n\"\n",
    "        f\"The label has to be a maximum of 60 characters long, concise and descriptive of the data.\"\n",
    "        f\"Return stricly only the label nothing else! \"\n",
    "    )\n",
    "\n",
    "    response = \"\"\n",
    "    try:\n",
    "        stream = client.chat.completions.create(\n",
    "            model=\"meta-llama/Meta-Llama-3.1-70B-Instruct-Turbo\",\n",
    "            messages=[{\"role\": \"user\", \"content\": prompt}],\n",
    "            stream=True,\n",
    "            temperature=0.1,\n",
    "        )\n",
    "\n",
    "        for chunk in stream:\n",
    "            response += chunk.choices[0].delta.content or \"\"\n",
    "        \n",
    "    except Exception as e:\n",
    "        print(f\"Error generating label: {e}\")\n",
    "        return None\n",
    "\n",
    "    return response.strip()\n",
    "\n",
    "# Initialize a progress bar\n",
    "with tqdm(total=len(df), desc=\"Generating Labels\") as pbar:\n",
    "    # Generate human-readable labels for each topic in the dataset\n",
    "    labels = []\n",
    "    for _, row in df.iterrows():\n",
    "        label = generate_human_readable_label(\n",
    "            topic=row['Topic'],\n",
    "            representation=row['Representation'],\n",
    "            representative_docs=row['Representative_Docs']\n",
    "        )\n",
    "        labels.append(label)\n",
    "        pbar.update(1)  # Update progress bar after processing each row\n",
    "\n",
    "# Add the generated labels to the DataFrame\n",
    "df['Human_Readable_Topic'] = labels\n",
    "\n",
    "# Path to the output CSV file\n",
    "output_csv_path = 'Second_step_clustering_results_labelled.csv'\n",
    "\n",
    "# Save the updated DataFrame with the new labels to a CSV file\n",
    "df.to_csv(output_csv_path, index=False)\n",
    "\n",
    "print(f\"Label generation complete. Updated CSV file saved to {output_csv_path}.\")\n"
   ]
  }
 ],
 "metadata": {
  "kernelspec": {
   "display_name": "Python 3 (ipykernel)",
   "language": "python",
   "name": "python3"
  },
  "language_info": {
   "codemirror_mode": {
    "name": "ipython",
    "version": 3
   },
   "file_extension": ".py",
   "mimetype": "text/x-python",
   "name": "python",
   "nbconvert_exporter": "python",
   "pygments_lexer": "ipython3",
   "version": "3.9.13"
  }
 },
 "nbformat": 4,
 "nbformat_minor": 4
}
